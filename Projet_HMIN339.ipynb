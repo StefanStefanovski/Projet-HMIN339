{
  "nbformat": 4,
  "nbformat_minor": 0,
  "metadata": {
    "accelerator": "GPU",
    "colab": {
      "name": "Copy of Projet_HMIN339M_light.ipynb",
      "provenance": [],
      "collapsed_sections": [
        "_pJr2QX16y0C",
        "vI65qFkLjyEY",
        "PXS90K1Vsg4H",
        "YqabJEyUtgPX",
        "oRTUKBQBwd1V",
        "wmBRjg3QFrLe",
        "rufBNVedP3_M",
        "LC1y2sOxQVqF",
        "7BvfaC-WQx8S",
        "K23T_c-EAj_z",
        "GpH3oJPVE3uE",
        "X5ffn-HfXWXq",
        "wIjEOLLJGLSJ",
        "FQbCM_T3GQ6M",
        "f2ksSpJGF1gP",
        "aLKCHopeIIet",
        "ozHZJ2CZH72X",
        "n8LxITTsM856",
        "dQ969YI-NzZG",
        "3Yfz7brJN_8Y",
        "dfvnw6PbPTwk",
        "kJ6bUQyjPlsa",
        "MKymPhOu19Sp",
        "mUPw6KmaU8DU",
        "ItYjlS08Vi19"
      ]
    },
    "kernelspec": {
      "display_name": "Python 3",
      "name": "python3"
    }
  },
  "cells": [
    {
      "cell_type": "markdown",
      "metadata": {
        "id": "_pJr2QX16y0C"
      },
      "source": [
        "\n",
        "\n",
        "# **Préparer les données**"
      ]
    },
    {
      "cell_type": "markdown",
      "metadata": {
        "id": "vI65qFkLjyEY"
      },
      "source": [
        "### **Monter le dossier dans Drive**"
      ]
    },
    {
      "cell_type": "code",
      "metadata": {
        "colab": {
          "base_uri": "https://localhost:8080/"
        },
        "id": "DVb5j_uZDvRs",
        "outputId": "afa68d18-5f8c-47fe-c221-a033dd817cba"
      },
      "source": [
        "from google.colab import drive\n",
        "drive.mount('/content/drive')"
      ],
      "execution_count": 1,
      "outputs": [
        {
          "output_type": "stream",
          "text": [
            "Mounted at /content/drive\n"
          ],
          "name": "stdout"
        }
      ]
    },
    {
      "cell_type": "code",
      "metadata": {
        "id": "9DcknGEsEkrE"
      },
      "source": [
        "import os\n",
        "os.chdir('/content/drive/My Drive/Projet_HMIN339M')"
      ],
      "execution_count": 2,
      "outputs": []
    },
    {
      "cell_type": "markdown",
      "metadata": {
        "id": "uEIWGiCq_s3g"
      },
      "source": [
        "### **Importation de quelques librairies**"
      ]
    },
    {
      "cell_type": "code",
      "metadata": {
        "id": "0HzSSHr5ooul"
      },
      "source": [
        "import numpy as np\n",
        "import tifffile\n",
        "import glob\n",
        "from pathlib import Path\n",
        "import pandas as pd"
      ],
      "execution_count": 3,
      "outputs": []
    },
    {
      "cell_type": "markdown",
      "metadata": {
        "id": "wVrWVyvfkBDD"
      },
      "source": [
        "### **Lecture de la série temporelle d'images et Normalisation par bande sur la série temporelle entre 0 et 1** "
      ]
    },
    {
      "cell_type": "markdown",
      "metadata": {
        "id": "95CB2_IllQFu"
      },
      "source": [
        "#### **Lecture des images et création des séries temporelles de bandes**"
      ]
    },
    {
      "cell_type": "code",
      "metadata": {
        "colab": {
          "base_uri": "https://localhost:8080/"
        },
        "id": "Ut67k4u3Vezu",
        "outputId": "60b14460-301c-4296-d942-98c9e63e71f0"
      },
      "source": [
        "# Récupérer la liste des images\n",
        "lst_img = glob.glob ('Images/*.tif')\n",
        "lst_img.sort() # ordonner par date si ce n'est pas le cas\n",
        "lst_img"
      ],
      "execution_count": 4,
      "outputs": [
        {
          "output_type": "execute_result",
          "data": {
            "text/plain": [
              "['Images/20160322_S2A.tif',\n",
              " 'Images/20160710_S2A.tif',\n",
              " 'Images/20160730_S2A.tif',\n",
              " 'Images/20160928_S2A.tif',\n",
              " 'Images/20161018_S2A.tif',\n",
              " 'Images/20161127_S2A.tif',\n",
              " 'Images/20161217_S2A.tif',\n",
              " 'Images/20161227_S2A.tif']"
            ]
          },
          "metadata": {
            "tags": []
          },
          "execution_count": 4
        }
      ]
    },
    {
      "cell_type": "code",
      "metadata": {
        "colab": {
          "base_uri": "https://localhost:8080/"
        },
        "id": "GSpMjDMNa-Bg",
        "outputId": "6b42f20f-c75a-4a7a-ea41-cdd12683dbc9"
      },
      "source": [
        "# Lecture de la bande du rouge (B1) pour toute la série temporelle\n",
        "red_ts = []\n",
        "for img in lst_img:\n",
        "  red_ts.append( tifffile.imread(img)[:,:,0]) # Rouge\n",
        "red_ts = np.dstack(red_ts) #dstack a voir!\n",
        "red_ts.shape\n",
        "# red_ts : nombre de rouge dans chaque pixel\n",
        "# largeur, longueur, nb d'image"
      ],
      "execution_count": 5,
      "outputs": [
        {
          "output_type": "execute_result",
          "data": {
            "text/plain": [
              "(5412, 5592, 8)"
            ]
          },
          "metadata": {
            "tags": []
          },
          "execution_count": 5
        }
      ]
    },
    {
      "cell_type": "code",
      "metadata": {
        "colab": {
          "base_uri": "https://localhost:8080/"
        },
        "id": "X97WsP3kcTL1",
        "outputId": "c7cfa202-7c1f-4551-bb71-28e0571b26e9"
      },
      "source": [
        "# Lecture de la bande du vert (B2) pour toute la série temporelle\n",
        "green_ts = []\n",
        "for img in lst_img:\n",
        "  green_ts.append( tifffile.imread(img)[:,:,1]) # Vert\n",
        "green_ts = np.dstack(green_ts)\n",
        "green_ts.shape"
      ],
      "execution_count": 6,
      "outputs": [
        {
          "output_type": "execute_result",
          "data": {
            "text/plain": [
              "(5412, 5592, 8)"
            ]
          },
          "metadata": {
            "tags": []
          },
          "execution_count": 6
        }
      ]
    },
    {
      "cell_type": "code",
      "metadata": {
        "colab": {
          "base_uri": "https://localhost:8080/"
        },
        "id": "t1GBdVCGcbcK",
        "outputId": "b69c6e07-6c59-4206-fbe3-0c2234dd43bf"
      },
      "source": [
        "# Lecture de la bande du bleu (B3) pour toute la série temporelle\n",
        "blue_ts = []\n",
        "for img in lst_img:\n",
        "  blue_ts.append( tifffile.imread(img)[:,:,2]) # Bleu\n",
        "blue_ts = np.dstack(blue_ts)\n",
        "blue_ts.shape"
      ],
      "execution_count": 7,
      "outputs": [
        {
          "output_type": "execute_result",
          "data": {
            "text/plain": [
              "(5412, 5592, 8)"
            ]
          },
          "metadata": {
            "tags": []
          },
          "execution_count": 7
        }
      ]
    },
    {
      "cell_type": "code",
      "metadata": {
        "colab": {
          "base_uri": "https://localhost:8080/"
        },
        "id": "fDd4BjV-cbz8",
        "outputId": "63edc217-ba23-4184-d528-ecc81d585f5e"
      },
      "source": [
        "# Lecture de la bande du proche infrarouge (B4) pour toute la série temporelle\n",
        "nir_ts = []\n",
        "for img in lst_img:\n",
        "  nir_ts.append( tifffile.imread(img)[:,:,3]) # Proche infra rouge\n",
        "nir_ts = np.dstack(nir_ts)\n",
        "nir_ts.shape"
      ],
      "execution_count": 8,
      "outputs": [
        {
          "output_type": "execute_result",
          "data": {
            "text/plain": [
              "(5412, 5592, 8)"
            ]
          },
          "metadata": {
            "tags": []
          },
          "execution_count": 8
        }
      ]
    },
    {
      "cell_type": "code",
      "metadata": {
        "id": "bJVBYJxuuJDA"
      },
      "source": [
        "# Calculer des indices spectraux comme le NDVI"
      ],
      "execution_count": 9,
      "outputs": []
    },
    {
      "cell_type": "markdown",
      "metadata": {
        "id": "rOOWsKQHlHvS"
      },
      "source": [
        "#### **Normalisation en utilisant le min et le max des bandes sur les séries temporelles**"
      ]
    },
    {
      "cell_type": "markdown",
      "metadata": {
        "id": "YDXVnfXt0GhB"
      },
      "source": [
        "normalisation pour avoir des valeurs entre 0 et 1"
      ]
    },
    {
      "cell_type": "code",
      "metadata": {
        "colab": {
          "base_uri": "https://localhost:8080/"
        },
        "id": "t6s8qGdZ4isk",
        "outputId": "d2317501-4fd8-40cf-fc23-4e1291886034"
      },
      "source": [
        "red_ts.shape"
      ],
      "execution_count": 10,
      "outputs": [
        {
          "output_type": "execute_result",
          "data": {
            "text/plain": [
              "(5412, 5592, 8)"
            ]
          },
          "metadata": {
            "tags": []
          },
          "execution_count": 10
        }
      ]
    },
    {
      "cell_type": "code",
      "metadata": {
        "colab": {
          "base_uri": "https://localhost:8080/"
        },
        "id": "IoOk5-UccvSe",
        "outputId": "45728f03-4793-4d31-f120-f62b10b5e4cb"
      },
      "source": [
        "# Normalisation des séries temporelles par bande: Rouge\n",
        "red_ts_norm = ( red_ts - red_ts.min() ) / ( red_ts.max() - red_ts.min() ).astype(np.float32)\n",
        "red_ts_norm.min() , red_ts_norm.max(), red_ts_norm.shape, red_ts_norm.dtype"
      ],
      "execution_count": 11,
      "outputs": [
        {
          "output_type": "execute_result",
          "data": {
            "text/plain": [
              "(0.0, 1.0, (5412, 5592, 8), dtype('float32'))"
            ]
          },
          "metadata": {
            "tags": []
          },
          "execution_count": 11
        }
      ]
    },
    {
      "cell_type": "code",
      "metadata": {
        "colab": {
          "base_uri": "https://localhost:8080/"
        },
        "id": "-c1DlhJTe_6h",
        "outputId": "362d6a92-3ae6-4a8f-941e-63fb7a761f69"
      },
      "source": [
        "# Normalisation des séries temporelles par bande: Vert\n",
        "green_ts_norm = ( green_ts - green_ts.min() ) / ( green_ts.max() - green_ts.min() ).astype(np.float32)\n",
        "green_ts = None\n",
        "green_ts_norm.min() , green_ts_norm.max(), green_ts_norm.shape, green_ts_norm.dtype"
      ],
      "execution_count": 12,
      "outputs": [
        {
          "output_type": "execute_result",
          "data": {
            "text/plain": [
              "(0.0, 1.0, (5412, 5592, 8), dtype('float32'))"
            ]
          },
          "metadata": {
            "tags": []
          },
          "execution_count": 12
        }
      ]
    },
    {
      "cell_type": "code",
      "metadata": {
        "colab": {
          "base_uri": "https://localhost:8080/"
        },
        "id": "hFNAbyIyfAJT",
        "outputId": "8ce58e5b-99a2-4401-b582-fb437f751883"
      },
      "source": [
        "# Normalisation des séries temporelles par bande: Bleu\n",
        "blue_ts_norm = ( blue_ts - blue_ts.min() ) / ( blue_ts.max() - blue_ts.min() ).astype(np.float32)\n",
        "blue_ts = None\n",
        "blue_ts_norm.min() , blue_ts_norm.max(), blue_ts_norm.shape, blue_ts_norm.dtype"
      ],
      "execution_count": 13,
      "outputs": [
        {
          "output_type": "execute_result",
          "data": {
            "text/plain": [
              "(0.0, 1.0, (5412, 5592, 8), dtype('float32'))"
            ]
          },
          "metadata": {
            "tags": []
          },
          "execution_count": 13
        }
      ]
    },
    {
      "cell_type": "code",
      "metadata": {
        "colab": {
          "base_uri": "https://localhost:8080/"
        },
        "id": "epIhb6brfAUK",
        "outputId": "fc83e69f-ee14-48c1-e761-89e3d2bbce6a"
      },
      "source": [
        "# Normalisation des séries temporelles par bande: Proche infrarouge\n",
        "nir_ts_norm = ( nir_ts - nir_ts.min() ) / ( nir_ts.max() - nir_ts.min() ).astype(np.float32)\n",
        "nir_ts_norm.min() , nir_ts_norm.max(), nir_ts_norm.shape, nir_ts_norm.dtype"
      ],
      "execution_count": 14,
      "outputs": [
        {
          "output_type": "execute_result",
          "data": {
            "text/plain": [
              "(0.0, 1.0, (5412, 5592, 8), dtype('float32'))"
            ]
          },
          "metadata": {
            "tags": []
          },
          "execution_count": 14
        }
      ]
    },
    {
      "cell_type": "code",
      "metadata": {
        "id": "tAtrTnz_uQ2Y"
      },
      "source": [
        "# Normaliser les indices spectraux que vous aurez calculé"
      ],
      "execution_count": 15,
      "outputs": []
    },
    {
      "cell_type": "markdown",
      "metadata": {
        "id": "YDQUbh3Nkpn7"
      },
      "source": [
        "### **Lecture de la vérité terrain et récupération des positions des pixels du jeu d'entraînement et de test**"
      ]
    },
    {
      "cell_type": "markdown",
      "metadata": {
        "id": "V_mXEBEKmuw7"
      },
      "source": [
        "#### **Lecture des fichiers de la vérité terrain**"
      ]
    },
    {
      "cell_type": "code",
      "metadata": {
        "colab": {
          "base_uri": "https://localhost:8080/"
        },
        "id": "NBCQhbMUoBJU",
        "outputId": "349f8d5b-9e8c-4a18-c54c-68ab9918e0f9"
      },
      "source": [
        "# Lire le fichier correspondant aux classes d'occupation du sol\n",
        "gt_class = tifffile.imread ('Verite_terrain/DORDOGNE_VT_CLASS.tif')\n",
        "gt_class.shape , gt_class.dtype"
      ],
      "execution_count": 16,
      "outputs": [
        {
          "output_type": "execute_result",
          "data": {
            "text/plain": [
              "((5412, 5592), dtype('uint8'))"
            ]
          },
          "metadata": {
            "tags": []
          },
          "execution_count": 16
        }
      ]
    },
    {
      "cell_type": "code",
      "metadata": {
        "colab": {
          "base_uri": "https://localhost:8080/"
        },
        "id": "JLnTil_psMLW",
        "outputId": "c339924b-3496-45a4-abb1-290709504920"
      },
      "source": [
        "# Lire le fichier correspondant aux identifiants\n",
        "gt_id = tifffile.imread ('Verite_terrain/DORDOGNE_VT_ID.tif')\n",
        "gt_id.shape, gt_id.dtype"
      ],
      "execution_count": 17,
      "outputs": [
        {
          "output_type": "execute_result",
          "data": {
            "text/plain": [
              "((5412, 5592), dtype('int16'))"
            ]
          },
          "metadata": {
            "tags": []
          },
          "execution_count": 17
        }
      ]
    },
    {
      "cell_type": "markdown",
      "metadata": {
        "id": "RjyGTdRpm5ii"
      },
      "source": [
        "#### **Récupération des positions des pixels d'entraînement et de test**"
      ]
    },
    {
      "cell_type": "code",
      "metadata": {
        "id": "yosWk1_BgiLE"
      },
      "source": [
        "# Récupérer les positions des échantillons d'entraînement et test\n",
        "idx_train_ = np.where ( (gt_id!=0) & (gt_class!=0) ) #les pixels that we care\n",
        "idx_test = np.where ( (gt_id!=0) & (gt_class==0) ) #les pixels qui ont des id mais pas de classe, donc a deviner"
      ],
      "execution_count": 18,
      "outputs": []
    },
    {
      "cell_type": "code",
      "metadata": {
        "colab": {
          "base_uri": "https://localhost:8080/",
          "height": 35
        },
        "id": "uRX0xj4zjvVY",
        "outputId": "c7186ba9-4f75-4c51-d363-32a97160f67c"
      },
      "source": [
        "# Lecture des identifiants et labels des échantillons d'entraînement\n",
        "train_id_ = gt_id[idx_train_] #identifiants de ces pixels\n",
        "train_y_ = gt_class[idx_train_] #classes\n",
        "f'échantillons d\\'entrainement: {train_y_.shape[0]} pixels, {len(np.unique(train_id_))} objets' #identifiants non uniques"
      ],
      "execution_count": 19,
      "outputs": [
        {
          "output_type": "execute_result",
          "data": {
            "application/vnd.google.colaboratory.intrinsic+json": {
              "type": "string"
            },
            "text/plain": [
              "\"échantillons d'entrainement: 605431 pixels, 1859 objets\""
            ]
          },
          "metadata": {
            "tags": []
          },
          "execution_count": 19
        }
      ]
    },
    {
      "cell_type": "code",
      "metadata": {
        "colab": {
          "base_uri": "https://localhost:8080/",
          "height": 35
        },
        "id": "kiPCaHQ2jtZu",
        "outputId": "c96d0b05-e53f-40fd-8de0-885d330e4d6e"
      },
      "source": [
        "# Lecture des identifiants et labels des échantillons de test\n",
        "test_id = gt_id[idx_test]\n",
        "f'échantillons test: {test_id.shape[0]} pixels, {len(np.unique(test_id))} objets'"
      ],
      "execution_count": 20,
      "outputs": [
        {
          "output_type": "execute_result",
          "data": {
            "application/vnd.google.colaboratory.intrinsic+json": {
              "type": "string"
            },
            "text/plain": [
              "'échantillons test: 207485 pixels, 800 objets'"
            ]
          },
          "metadata": {
            "tags": []
          },
          "execution_count": 20
        }
      ]
    },
    {
      "cell_type": "markdown",
      "metadata": {
        "id": "hNFyNkc5oc6z"
      },
      "source": [
        "### **Création d'un jeu de validation en prenant une partie du jeu d'entraînement**\n",
        "Pour cela, on s'assure de faire la division en mettant les pixels ayant le même identifiant dans un seul et même lot"
      ]
    },
    {
      "cell_type": "code",
      "metadata": {
        "colab": {
          "base_uri": "https://localhost:8080/",
          "height": 197
        },
        "id": "2hI-jAEqrac1",
        "outputId": "62bbdbec-f0c6-4a21-9a40-5af3f4b2183b"
      },
      "source": [
        "# Dataframe pour créer un jeu de validation\n",
        "samples = pd.DataFrame({'ID':train_id_,'Class':train_y_})\n",
        "samples = samples.drop_duplicates(keep='first')\n",
        "samples.head(5)"
      ],
      "execution_count": 21,
      "outputs": [
        {
          "output_type": "execute_result",
          "data": {
            "text/html": [
              "<div>\n",
              "<style scoped>\n",
              "    .dataframe tbody tr th:only-of-type {\n",
              "        vertical-align: middle;\n",
              "    }\n",
              "\n",
              "    .dataframe tbody tr th {\n",
              "        vertical-align: top;\n",
              "    }\n",
              "\n",
              "    .dataframe thead th {\n",
              "        text-align: right;\n",
              "    }\n",
              "</style>\n",
              "<table border=\"1\" class=\"dataframe\">\n",
              "  <thead>\n",
              "    <tr style=\"text-align: right;\">\n",
              "      <th></th>\n",
              "      <th>ID</th>\n",
              "      <th>Class</th>\n",
              "    </tr>\n",
              "  </thead>\n",
              "  <tbody>\n",
              "    <tr>\n",
              "      <th>0</th>\n",
              "      <td>422</td>\n",
              "      <td>2</td>\n",
              "    </tr>\n",
              "    <tr>\n",
              "      <th>4</th>\n",
              "      <td>2677</td>\n",
              "      <td>5</td>\n",
              "    </tr>\n",
              "    <tr>\n",
              "      <th>5</th>\n",
              "      <td>201</td>\n",
              "      <td>3</td>\n",
              "    </tr>\n",
              "    <tr>\n",
              "      <th>29</th>\n",
              "      <td>423</td>\n",
              "      <td>2</td>\n",
              "    </tr>\n",
              "    <tr>\n",
              "      <th>100</th>\n",
              "      <td>496</td>\n",
              "      <td>2</td>\n",
              "    </tr>\n",
              "  </tbody>\n",
              "</table>\n",
              "</div>"
            ],
            "text/plain": [
              "       ID  Class\n",
              "0     422      2\n",
              "4    2677      5\n",
              "5     201      3\n",
              "29    423      2\n",
              "100   496      2"
            ]
          },
          "metadata": {
            "tags": []
          },
          "execution_count": 21
        }
      ]
    },
    {
      "cell_type": "code",
      "metadata": {
        "colab": {
          "base_uri": "https://localhost:8080/"
        },
        "id": "894SPjgRs_S7",
        "outputId": "84767c55-2663-47e3-9c69-db84e2eaf601"
      },
      "source": [
        "# 30% des échantillons de chaque classe affecté au jeu de validation\n",
        "train_id = []\n",
        "valid_id = []\n",
        "for c in np.unique(samples.Class.values) :\n",
        "    samples_c = samples.loc[samples.Class==c]\n",
        "    samples_frac = samples_c.sample(frac=0.7,random_state=1234) \n",
        "    train_id.extend( samples_frac.ID.values )\n",
        "    valid_id.extend( samples_c.drop(samples_frac.index).ID.values )\n",
        "len(train_id),len(valid_id)"
      ],
      "execution_count": 22,
      "outputs": [
        {
          "output_type": "execute_result",
          "data": {
            "text/plain": [
              "(1301, 558)"
            ]
          },
          "metadata": {
            "tags": []
          },
          "execution_count": 22
        }
      ]
    },
    {
      "cell_type": "markdown",
      "metadata": {
        "id": "6J609q3BrKRk"
      },
      "source": [
        "### **Récupération des positions des nouveaux échantillons d'entraînement et de validation**"
      ]
    },
    {
      "cell_type": "code",
      "metadata": {
        "id": "WmVBWpvFdjlk"
      },
      "source": [
        "# Récupérer les positions des nouveaux échantillons d'entraînement et validation\n",
        "idx_train = np.where ( np.isin(gt_id,train_id) )\n",
        "idx_valid = np.where ( np.isin(gt_id,valid_id) )"
      ],
      "execution_count": 23,
      "outputs": []
    },
    {
      "cell_type": "markdown",
      "metadata": {
        "id": "3U6m2R-UwEFK"
      },
      "source": [
        "### **Lire finalement les labels correspondant aux nouveaux échantillons d'entraînement, de validation et test**"
      ]
    },
    {
      "cell_type": "code",
      "metadata": {
        "colab": {
          "base_uri": "https://localhost:8080/"
        },
        "id": "vF_PEzn3vQzT",
        "outputId": "cbd463e7-a8cb-4b68-af69-686a589fd819"
      },
      "source": [
        "train_y = gt_class[idx_train]\n",
        "valid_y = gt_class[idx_valid]\n",
        "test_y = gt_class[idx_test]\n",
        "train_y.shape, valid_y.shape, test_y.shape"
      ],
      "execution_count": 24,
      "outputs": [
        {
          "output_type": "execute_result",
          "data": {
            "text/plain": [
              "((451962,), (153469,), (207485,))"
            ]
          },
          "metadata": {
            "tags": []
          },
          "execution_count": 24
        }
      ]
    },
    {
      "cell_type": "markdown",
      "metadata": {
        "id": "lAt4KCeZR1Os"
      },
      "source": [
        "### **Lire finalement les identifiants correspondant aux nouveaux échantillons d'entraînement, de validation et test**"
      ]
    },
    {
      "cell_type": "code",
      "metadata": {
        "colab": {
          "base_uri": "https://localhost:8080/"
        },
        "id": "m3SiC0eVRvtA",
        "outputId": "9adca1fd-0d8f-4054-ba9c-813461324358"
      },
      "source": [
        "# utile pour les aggrégations au niveau objet\n",
        "# train_id_array = gt_id[idx_train] # Pas vraiment nécessaire pour les échantillons d'entraînements\n",
        "valid_id_array = gt_id[idx_valid]\n",
        "test_id_array = gt_id[idx_test]\n",
        "#train_id_array.shape, \n",
        "valid_id_array.shape, test_id_array.shape"
      ],
      "execution_count": 25,
      "outputs": [
        {
          "output_type": "execute_result",
          "data": {
            "text/plain": [
              "((153469,), (207485,))"
            ]
          },
          "metadata": {
            "tags": []
          },
          "execution_count": 25
        }
      ]
    },
    {
      "cell_type": "markdown",
      "metadata": {
        "id": "xa-8J5r9r3KI"
      },
      "source": [
        "### **Lire finalement les valeurs des séries temporelles correspondant aux nouveaux échantillons d'entraînement, de validation et test**"
      ]
    },
    {
      "cell_type": "markdown",
      "metadata": {
        "id": "PXS90K1Vsg4H"
      },
      "source": [
        "### **Pour un Perceptron multi-couche**"
      ]
    },
    {
      "cell_type": "markdown",
      "metadata": {
        "id": "dE8nkc2VSWyj"
      },
      "source": [
        "**Echantillons d'entraînement, de validation et test de MLP**"
      ]
    },
    {
      "cell_type": "code",
      "metadata": {
        "colab": {
          "base_uri": "https://localhost:8080/"
        },
        "id": "TwjGd9exkFia",
        "outputId": "3da3c2d4-f576-4336-92aa-76b4a71e5249"
      },
      "source": [
        "# Un perceptron multi-couche ou un algo classique de machine learning requiert un tableau 2D du type \n",
        "# (nombre d'échantillons, nombre de features=(nombre de dates x nombre de bandes))\n",
        "# Vous pouvez rajouter au stack les indices spectraux normalisés que vous aurez calculé\n",
        "\n",
        "train_X = np.column_stack ( ( blue_ts_norm[idx_train], green_ts_norm[idx_train], red_ts_norm[idx_train], nir_ts_norm[idx_train] ) )\n",
        "\n",
        "valid_X = np.column_stack ( ( blue_ts_norm[idx_valid], green_ts_norm[idx_valid], red_ts_norm[idx_valid], nir_ts_norm[idx_valid] ) )\n",
        "\n",
        "test_X = np.column_stack ( ( blue_ts_norm[idx_test], green_ts_norm[idx_test], red_ts_norm[idx_test], nir_ts_norm[idx_test] ) )\n",
        "\n",
        "train_X.shape, valid_X.shape, test_X.shape"
      ],
      "execution_count": 26,
      "outputs": [
        {
          "output_type": "execute_result",
          "data": {
            "text/plain": [
              "((451962, 32), (153469, 32), (207485, 32))"
            ]
          },
          "metadata": {
            "tags": []
          },
          "execution_count": 26
        }
      ]
    },
    {
      "cell_type": "markdown",
      "metadata": {
        "id": "5XnkmkpPM62h"
      },
      "source": [
        "**Sauvegarde des données d'entraînement, de validation et test de MLP en fichier numpy**"
      ]
    },
    {
      "cell_type": "code",
      "metadata": {
        "id": "F2tHpL8vMptr"
      },
      "source": [
        "# Ainsi de cette façon vous pourrez continuer directement avec la création des modèles et en libérant la mémoire de tout ce qui a été fait précédemment\n",
        "Path('data').mkdir(exist_ok=True, parents=True)\n",
        "Path('data/mlp').mkdir(exist_ok=True, parents=True)\n",
        "np.save('data/mlp/train_X.npy',train_X)\n",
        "np.save('data/mlp/train_y.npy',train_y)\n",
        "# np.save('data/train_id.npy',train_id_array)\n",
        "\n",
        "np.save('data/mlp/valid_X.npy',valid_X)\n",
        "np.save('data/mlp/valid_y.npy',valid_y)\n",
        "np.save('data/mlp/valid_id.npy',valid_id_array)\n",
        "\n",
        "np.save('data/mlp/test_X.npy',test_X)\n",
        "np.save('data/mlp/test_id.npy',test_id_array)"
      ],
      "execution_count": 27,
      "outputs": []
    },
    {
      "cell_type": "markdown",
      "metadata": {
        "id": "YqabJEyUtgPX"
      },
      "source": [
        "### **Pour un CNN 1D ou temporel**"
      ]
    },
    {
      "cell_type": "markdown",
      "metadata": {
        "id": "0j3mhI3vULuK"
      },
      "source": [
        "Echantillons d'entraînement, de validation et test de CNN1D"
      ]
    },
    {
      "cell_type": "code",
      "metadata": {
        "colab": {
          "base_uri": "https://localhost:8080/"
        },
        "id": "bdZa5w9ztkCk",
        "outputId": "02059ae0-5b74-452f-c5c4-5707e9391428"
      },
      "source": [
        "# Un CNN 1D ou temporel requiert un tableau 3D du type (nombre d'échantillons, nombre de dates, nombre de bandes)\n",
        "# Vous pouvez rajouter à la liste des bandes les indices spectraux normalisés que vous aurez calculé\n",
        "train_X = []\n",
        "for band in [blue_ts_norm,green_ts_norm,red_ts_norm,nir_ts_norm]:\n",
        "    train_X.append( band[idx_train] ) \n",
        "train_X = np.stack(train_X,axis=-1)\n",
        "\n",
        "valid_X = []\n",
        "for band in [blue_ts_norm,green_ts_norm,red_ts_norm,nir_ts_norm]:\n",
        "    valid_X.append( band[idx_valid] ) \n",
        "valid_X = np.stack(valid_X,axis=-1)\n",
        "\n",
        "test_X = []\n",
        "for band in [blue_ts_norm,green_ts_norm,red_ts_norm,nir_ts_norm]:\n",
        "    test_X.append( band[idx_test] ) \n",
        "test_X = np.stack(test_X,axis=-1)\n",
        "\n",
        "train_X.shape, valid_X.shape, test_X.shape"
      ],
      "execution_count": 28,
      "outputs": [
        {
          "output_type": "execute_result",
          "data": {
            "text/plain": [
              "((451962, 8, 4), (153469, 8, 4), (207485, 8, 4))"
            ]
          },
          "metadata": {
            "tags": []
          },
          "execution_count": 28
        }
      ]
    },
    {
      "cell_type": "markdown",
      "metadata": {
        "id": "0PIs4S_9SAm4"
      },
      "source": [
        "Sauvegarde des données d'entraînement, de validation et test de CNN1D en fichier numpy"
      ]
    },
    {
      "cell_type": "code",
      "metadata": {
        "id": "spLjbhvdMqro"
      },
      "source": [
        "# Ainsi de cette façon vous pourrez continuer directement avec la création des modèles et en libérant la mémoire de tout ce qui a été fait précédemment\n",
        "Path('data').mkdir(exist_ok=True, parents=True)\n",
        "Path('data/cnn1d').mkdir(exist_ok=True, parents=True)\n",
        "np.save('data/cnn1d/train_X.npy',train_X)\n",
        "np.save('data/cnn1d/train_y.npy',train_y)\n",
        "# np.save('data/train_id.npy',train_id_array)\n",
        "\n",
        "np.save('data/cnn1d/valid_X.npy',valid_X)\n",
        "np.save('data/cnn1d/valid_y.npy',valid_y)\n",
        "np.save('data/cnn1d/valid_id.npy',valid_id_array)\n",
        "\n",
        "np.save('data/cnn1d/test_X.npy',test_X)\n",
        "np.save('data/cnn1d/test_id.npy',test_id_array)"
      ],
      "execution_count": 29,
      "outputs": []
    },
    {
      "cell_type": "markdown",
      "metadata": {
        "id": "oRTUKBQBwd1V"
      },
      "source": [
        "### **Pour un CNN2D ou spatial avec exemple d'imagettes ou patchs de 5 sur 5 en largeur et hauteur** \n",
        "\n",
        "Des patchs de 9 sur 9 sur l'ensemble des échantillons sont un peu trop gourmands en RAM pour Google Colab"
      ]
    },
    {
      "cell_type": "markdown",
      "metadata": {
        "id": "OhEn-BRVUbdV"
      },
      "source": [
        "Echantillons d'entraînement, de validation et test de CNN2D"
      ]
    },
    {
      "cell_type": "code",
      "metadata": {
        "colab": {
          "base_uri": "https://localhost:8080/"
        },
        "id": "rBZ2s4zGwc8C",
        "outputId": "23d9f193-eefd-4054-a007-f2e3ff0f4db8"
      },
      "source": [
        "# Un CNN 2D ou spatial requiert un tableau 3D du type (nombre d'échantillons, largeur, hauteur, nombre de features= (nombre de dates x nombre de bandes) )\n",
        "# Vous pouvez rajouter à la liste des bandes les indices spectraux normalisés que vous aurez calculé\n",
        "\n",
        "# Training\n",
        "# 1- précaution pour ne pas considérer les pixels dont on ne peut extraire des patchs car trop près du bord\n",
        "idx_col = idx_train[0]\n",
        "idx_row = idx_train[1]\n",
        "coords = np.column_stack((idx_col,idx_row))\n",
        "coords = coords[np.where( ( np.isin(coords[:,0],np.arange(2,blue_ts_norm.shape[0]-2,1)) ) & ( np.isin(coords[:,1],np.arange(2,blue_ts_norm.shape[1]-2,1)) ) ) ]\n",
        "# len(coords)\n",
        "# 2- créer un tableau avec les patchs\n",
        "train_X = []\n",
        "for coord in coords :\n",
        "  lst = []\n",
        "  for band in [blue_ts_norm,green_ts_norm,red_ts_norm,nir_ts_norm]:\n",
        "    lst.append( band[coord[0]-2:coord[0]+3,coord[1]-2:coord[1]+3] )\n",
        "  train_X.append(np.stack(lst,axis=-1).reshape(5,5,-1))\n",
        "train_X = np.stack(train_X,axis=0)\n",
        "train_X.shape"
      ],
      "execution_count": 30,
      "outputs": [
        {
          "output_type": "execute_result",
          "data": {
            "text/plain": [
              "(451962, 5, 5, 32)"
            ]
          },
          "metadata": {
            "tags": []
          },
          "execution_count": 30
        }
      ]
    },
    {
      "cell_type": "code",
      "metadata": {
        "colab": {
          "base_uri": "https://localhost:8080/"
        },
        "id": "RhLlxu5j0O72",
        "outputId": "c4c0faaf-ac87-49b3-89ea-7abd2ebd9759"
      },
      "source": [
        "# Validation\n",
        "# 1- précaution pour ne pas considérer les pixels dont on ne peut extraire des patchs car trop près du bord\n",
        "idx_col = idx_valid[0]\n",
        "idx_row = idx_valid[1]\n",
        "coords = np.column_stack((idx_col,idx_row))\n",
        "coords = coords[np.where( ( np.isin(coords[:,0],np.arange(2,blue_ts_norm.shape[0]-2,1)) ) & ( np.isin(coords[:,1],np.arange(2,blue_ts_norm.shape[1]-2,1)) ) ) ]\n",
        "# len(coords)\n",
        "# 2- créer un tableau avec les patchs\n",
        "valid_X = []\n",
        "for coord in coords :\n",
        "  lst = []\n",
        "  for band in [blue_ts_norm,green_ts_norm,red_ts_norm,nir_ts_norm]:\n",
        "    lst.append( band[coord[0]-2:coord[0]+3,coord[1]-2:coord[1]+3] )\n",
        "  valid_X.append(np.stack(lst,axis=-1).reshape(5,5,-1))\n",
        "valid_X = np.stack(valid_X,axis=0)\n",
        "valid_X.shape"
      ],
      "execution_count": 31,
      "outputs": [
        {
          "output_type": "execute_result",
          "data": {
            "text/plain": [
              "(153469, 5, 5, 32)"
            ]
          },
          "metadata": {
            "tags": []
          },
          "execution_count": 31
        }
      ]
    },
    {
      "cell_type": "code",
      "metadata": {
        "colab": {
          "base_uri": "https://localhost:8080/"
        },
        "id": "0VR_nM9W0QkB",
        "outputId": "0be5a552-b053-4602-d1c5-6dc5f489e059"
      },
      "source": [
        "# Test\n",
        "# 1- précaution pour ne pas considérer les pixels dont on ne peut extraire des patchs car trop près du bord\n",
        "idx_col = idx_test[0]\n",
        "idx_row = idx_test[1]\n",
        "coords = np.column_stack((idx_col,idx_row))\n",
        "coords = coords[np.where( ( np.isin(coords[:,0],np.arange(2,blue_ts_norm.shape[0]-2,1)) ) & ( np.isin(coords[:,1],np.arange(2,blue_ts_norm.shape[1]-2,1)) ) ) ]\n",
        "# len(coords)\n",
        "# 2- créer un tableau avec les patchs\n",
        "test_X = []\n",
        "for coord in coords :\n",
        "  lst = []\n",
        "  for band in [blue_ts_norm,green_ts_norm,red_ts_norm,nir_ts_norm]:\n",
        "    lst.append( band[coord[0]-2:coord[0]+3,coord[1]-2:coord[1]+3] )\n",
        "  test_X.append(np.stack(lst,axis=-1).reshape(5,5,-1))\n",
        "test_X = np.stack(test_X,axis=0)\n",
        "test_X.shape"
      ],
      "execution_count": 32,
      "outputs": [
        {
          "output_type": "execute_result",
          "data": {
            "text/plain": [
              "(207485, 5, 5, 32)"
            ]
          },
          "metadata": {
            "tags": []
          },
          "execution_count": 32
        }
      ]
    },
    {
      "cell_type": "markdown",
      "metadata": {
        "id": "oiqM_sYRt5IL"
      },
      "source": [
        "Sauvegarde des données d'entraînement, de validation et test de CNN2D en fichier numpy"
      ]
    },
    {
      "cell_type": "code",
      "metadata": {
        "id": "dPiv0fo3uJ8s"
      },
      "source": [
        "# Ainsi de cette façon vous pourrez continuer directement avec la création des modèles et en libérant la mémoire de tout ce qui a été fait précédemment\n",
        "Path('data').mkdir(exist_ok=True, parents=True)\n",
        "Path('data/cnn2d').mkdir(exist_ok=True, parents=True)\n",
        "\n",
        "np.save('data/cnn2d/train_X.npy',train_X)\n",
        "np.save('data/cnn2d/train_y.npy',train_y)\n",
        "# np.save('data/train_id.npy',train_id_array)\n",
        "\n",
        "np.save('data/cnn2d/valid_X.npy',valid_X)\n",
        "np.save('data/cnn2d/valid_y.npy',valid_y)\n",
        "np.save('data/cnn2d/valid_id.npy',valid_id_array)\n",
        "\n",
        "np.save('data/cnn2d/test_X.npy',test_X)\n",
        "np.save('data/cnn2d/test_id.npy',test_id_array)"
      ],
      "execution_count": 33,
      "outputs": []
    },
    {
      "cell_type": "markdown",
      "metadata": {
        "id": "TOM6_mv--8IX"
      },
      "source": [
        "Videz la mémoire en redémarrant l'environnement d'exécution"
      ]
    },
    {
      "cell_type": "markdown",
      "metadata": {
        "id": "qv0jts6w6nxr"
      },
      "source": [
        "# **Votre modèle de deep learning**"
      ]
    },
    {
      "cell_type": "markdown",
      "metadata": {
        "id": "wmBRjg3QFrLe"
      },
      "source": [
        "### **Remontage de Drive et Importation de quelques librairies**"
      ]
    },
    {
      "cell_type": "code",
      "metadata": {
        "colab": {
          "base_uri": "https://localhost:8080/"
        },
        "id": "rJUrD-aVMaN0",
        "outputId": "25af3f1e-095a-4f0b-f5a7-61ee23c1fb92"
      },
      "source": [
        "from google.colab import drive\n",
        "drive.mount('/content/drive')"
      ],
      "execution_count": 38,
      "outputs": [
        {
          "output_type": "stream",
          "text": [
            "Drive already mounted at /content/drive; to attempt to forcibly remount, call drive.mount(\"/content/drive\", force_remount=True).\n"
          ],
          "name": "stdout"
        }
      ]
    },
    {
      "cell_type": "code",
      "metadata": {
        "id": "_K5Xk6WeALcH"
      },
      "source": [
        "import os\n",
        "os.chdir('/content/drive/My Drive/Projet_HMIN339M')\n",
        "import numpy as np\n",
        "import pandas as pd\n",
        "import tifffile\n",
        "from pathlib import Path\n",
        "from sklearn.metrics import f1_score, confusion_matrix\n",
        "from sklearn.preprocessing import LabelEncoder\n",
        "import tensorflow as tf\n",
        "from tensorflow.keras.layers import Dense, Dropout, Activation, Flatten, Conv2D, Conv1D, GlobalAveragePooling1D, MaxPooling2D, MaxPooling1D, GlobalAveragePooling2D, BatchNormalization\n",
        "from tensorflow.keras.models import Sequential"
      ],
      "execution_count": 39,
      "outputs": []
    },
    {
      "cell_type": "markdown",
      "metadata": {
        "id": "UlRFSn7f_yKx"
      },
      "source": [
        "### **Recharger les données d'entraînement, de validation et test en fichier numpy**"
      ]
    },
    {
      "cell_type": "markdown",
      "metadata": {
        "id": "rufBNVedP3_M"
      },
      "source": [
        "\n",
        "#### **Pour un Perceptron multi-couche**"
      ]
    },
    {
      "cell_type": "code",
      "metadata": {
        "colab": {
          "base_uri": "https://localhost:8080/"
        },
        "id": "CVzkEkQA-jM7",
        "outputId": "d5c6286c-7e52-4eac-be86-46804bc67e66"
      },
      "source": [
        "# Recharger les données après avoir vidé la mémoire\n",
        "train_X = np.load('data/mlp/train_X.npy')\n",
        "train_y = np.load('data/mlp/train_y.npy')\n",
        "\n",
        "valid_X = np.load('data/mlp/valid_X.npy')\n",
        "valid_y = np.load('data/mlp/valid_y.npy')\n",
        "valid_id = np.load('data/mlp/valid_id.npy')\n",
        "\n",
        "test_X = np.load('data/mlp/test_X.npy')\n",
        "test_id = np.load('data/mlp/test_id.npy')\n",
        "train_X.shape, train_y.shape, valid_X.shape, valid_y.shape, valid_id.shape, test_X.shape, test_id.shape"
      ],
      "execution_count": null,
      "outputs": [
        {
          "output_type": "execute_result",
          "data": {
            "text/plain": [
              "((451962, 32),\n",
              " (451962,),\n",
              " (153469, 32),\n",
              " (153469,),\n",
              " (153469,),\n",
              " (207485, 32),\n",
              " (207485,))"
            ]
          },
          "metadata": {
            "tags": []
          },
          "execution_count": 5
        }
      ]
    },
    {
      "cell_type": "markdown",
      "metadata": {
        "id": "LC1y2sOxQVqF"
      },
      "source": [
        "#### **Pour un CNN 1D ou temporel**\n"
      ]
    },
    {
      "cell_type": "code",
      "metadata": {
        "colab": {
          "base_uri": "https://localhost:8080/"
        },
        "id": "aPJg11XHQhWE",
        "outputId": "6cf6e86f-9f85-4162-ae9f-443599ba4ea9"
      },
      "source": [
        "# Recharger les données après avoir vidé la mémoire\n",
        "train_X = np.load('data/cnn1d/train_X.npy')\n",
        "train_y = np.load('data/cnn1d/train_y.npy')\n",
        "\n",
        "valid_X = np.load('data/cnn1d/valid_X.npy')\n",
        "valid_y = np.load('data/cnn1d/valid_y.npy')\n",
        "valid_id = np.load('data/cnn1d/valid_id.npy')\n",
        "\n",
        "test_X = np.load('data/cnn1d/test_X.npy')\n",
        "test_id = np.load('data/cnn1d/test_id.npy')\n",
        "train_X.shape, train_y.shape, valid_X.shape, valid_y.shape, valid_id.shape, test_X.shape, test_id.shape"
      ],
      "execution_count": 107,
      "outputs": [
        {
          "output_type": "execute_result",
          "data": {
            "text/plain": [
              "((451962, 8, 4),\n",
              " (451962,),\n",
              " (153469, 8, 4),\n",
              " (153469,),\n",
              " (153469,),\n",
              " (207485, 8, 4),\n",
              " (207485,))"
            ]
          },
          "metadata": {
            "tags": []
          },
          "execution_count": 107
        }
      ]
    },
    {
      "cell_type": "markdown",
      "metadata": {
        "id": "7BvfaC-WQx8S"
      },
      "source": [
        "#### **Pour un CNN 2D**"
      ]
    },
    {
      "cell_type": "code",
      "metadata": {
        "colab": {
          "base_uri": "https://localhost:8080/"
        },
        "id": "Q5J2CbiKQzJZ",
        "outputId": "c58bf58c-afcd-416b-ef6e-350260c009ef"
      },
      "source": [
        "# Recharger les données après avoir vidé la mémoire\n",
        "train_X = np.load('data/cnn2d/train_X.npy')\n",
        "train_y = np.load('data/cnn2d/train_y.npy')\n",
        "\n",
        "valid_X = np.load('data/cnn2d/valid_X.npy')\n",
        "valid_y = np.load('data/cnn2d/valid_y.npy')\n",
        "valid_id = np.load('data/cnn2d/valid_id.npy')\n",
        "\n",
        "test_X = np.load('data/cnn2d/test_X.npy')\n",
        "test_id = np.load('data/cnn2d/test_id.npy')\n",
        "train_X.shape, train_y.shape, valid_X.shape, valid_y.shape, valid_id.shape, test_X.shape, test_id.shape"
      ],
      "execution_count": 34,
      "outputs": [
        {
          "output_type": "execute_result",
          "data": {
            "text/plain": [
              "((451962, 5, 5, 32),\n",
              " (451962,),\n",
              " (153469, 5, 5, 32),\n",
              " (153469,),\n",
              " (153469,),\n",
              " (207485, 5, 5, 32),\n",
              " (207485,))"
            ]
          },
          "metadata": {
            "tags": []
          },
          "execution_count": 34
        }
      ]
    },
    {
      "cell_type": "markdown",
      "metadata": {
        "id": "K23T_c-EAj_z"
      },
      "source": [
        "### **Encoder les labels entre 0 et 4 de sorte à matcher les prédictions des réseaux de neurones**"
      ]
    },
    {
      "cell_type": "code",
      "metadata": {
        "colab": {
          "base_uri": "https://localhost:8080/"
        },
        "id": "FY74aok1Arfi",
        "outputId": "c247f8da-1189-4fd3-dce5-5784e1bd079a"
      },
      "source": [
        "#encoder car l'algo aime bien commencer par 0\n",
        "encoder = LabelEncoder()\n",
        "encoder.fit(train_y)\n",
        "train_y_enc = encoder.transform(train_y)\n",
        "valid_y_enc = encoder.transform(valid_y)\n",
        "np.unique(train_y), np.unique(train_y_enc), np.unique(valid_y), np.unique(valid_y_enc)"
      ],
      "execution_count": 36,
      "outputs": [
        {
          "output_type": "execute_result",
          "data": {
            "text/plain": [
              "(array([1, 2, 3, 4, 5], dtype=uint8),\n",
              " array([0, 1, 2, 3, 4]),\n",
              " array([1, 2, 3, 4, 5], dtype=uint8),\n",
              " array([0, 1, 2, 3, 4]))"
            ]
          },
          "metadata": {
            "tags": []
          },
          "execution_count": 36
        }
      ]
    },
    {
      "cell_type": "markdown",
      "metadata": {
        "id": "GpH3oJPVE3uE"
      },
      "source": [
        "### **Définition séquentielle de votre modèle avec Keras**\n",
        "\n",
        "N'oubliez pas de spécifier l'input shape qui varie en fonction des types d'architectures, le nombre de neurones de la couche de sortie qui équivaut au nombre de classes que vous avez et de l'activer avec une fonction Softmax"
      ]
    },
    {
      "cell_type": "markdown",
      "metadata": {
        "id": "X5ffn-HfXWXq"
      },
      "source": [
        "### Modèle CNN1D"
      ]
    },
    {
      "cell_type": "code",
      "metadata": {
        "colab": {
          "base_uri": "https://localhost:8080/"
        },
        "id": "rQ1uXmiBXVhA",
        "outputId": "15be964b-40a3-4b9f-80aa-fd8d373e52af"
      },
      "source": [
        "model = Sequential() #model cnn1d\n",
        "model.add(Conv1D(32, 3, activation='relu', input_shape=(8,4)))\n",
        "model.add(Dropout(0.3))\n",
        "model.add(Conv1D(64, 3, activation='relu'))\n",
        "model.add(Dropout(0.3))\n",
        "model.add(Conv1D(128, 3, activation='relu'))\n",
        "model.add(Dropout(0.3))\n",
        "model.add(MaxPooling1D(pool_size=2))\n",
        "model.add(GlobalAveragePooling1D())\n",
        "model.add(Dense(5, activation='softmax'))\n",
        "model.summary()"
      ],
      "execution_count": null,
      "outputs": [
        {
          "output_type": "stream",
          "text": [
            "Model: \"sequential_4\"\n",
            "_________________________________________________________________\n",
            "Layer (type)                 Output Shape              Param #   \n",
            "=================================================================\n",
            "conv1d_12 (Conv1D)           (None, 6, 32)             416       \n",
            "_________________________________________________________________\n",
            "dropout_12 (Dropout)         (None, 6, 32)             0         \n",
            "_________________________________________________________________\n",
            "conv1d_13 (Conv1D)           (None, 4, 64)             6208      \n",
            "_________________________________________________________________\n",
            "dropout_13 (Dropout)         (None, 4, 64)             0         \n",
            "_________________________________________________________________\n",
            "conv1d_14 (Conv1D)           (None, 2, 128)            24704     \n",
            "_________________________________________________________________\n",
            "dropout_14 (Dropout)         (None, 2, 128)            0         \n",
            "_________________________________________________________________\n",
            "max_pooling1d_4 (MaxPooling1 (None, 1, 128)            0         \n",
            "_________________________________________________________________\n",
            "global_average_pooling1d_4 ( (None, 128)               0         \n",
            "_________________________________________________________________\n",
            "dense_4 (Dense)              (None, 5)                 645       \n",
            "=================================================================\n",
            "Total params: 31,973\n",
            "Trainable params: 31,973\n",
            "Non-trainable params: 0\n",
            "_________________________________________________________________\n"
          ],
          "name": "stdout"
        }
      ]
    },
    {
      "cell_type": "markdown",
      "metadata": {
        "id": "wIjEOLLJGLSJ"
      },
      "source": [
        "### Modèle CNN2D"
      ]
    },
    {
      "cell_type": "code",
      "metadata": {
        "colab": {
          "base_uri": "https://localhost:8080/"
        },
        "id": "YHvHsz3WZ8By",
        "outputId": "86c5e824-0635-4d4d-f151-415ae015a155"
      },
      "source": [
        "model = Sequential() # Modele CNN2D\n",
        "model.add(Conv2D(32, (3,3), activation='relu', input_shape=(5,5,32)))\n",
        "model.add(Dropout(0.1))\n",
        "model.add(Conv2D(64, (1,1), activation='relu'))\n",
        "model.add(MaxPooling2D(2,2))\n",
        "model.add(Dropout(0.2))\n",
        "model.add(GlobalAveragePooling2D())\n",
        "model.add(Dense(5, activation='softmax'))\n",
        "\n",
        "model.summary()"
      ],
      "execution_count": 40,
      "outputs": [
        {
          "output_type": "stream",
          "text": [
            "Model: \"sequential\"\n",
            "_________________________________________________________________\n",
            "Layer (type)                 Output Shape              Param #   \n",
            "=================================================================\n",
            "conv2d (Conv2D)              (None, 3, 3, 32)          9248      \n",
            "_________________________________________________________________\n",
            "dropout (Dropout)            (None, 3, 3, 32)          0         \n",
            "_________________________________________________________________\n",
            "conv2d_1 (Conv2D)            (None, 3, 3, 64)          2112      \n",
            "_________________________________________________________________\n",
            "max_pooling2d (MaxPooling2D) (None, 1, 1, 64)          0         \n",
            "_________________________________________________________________\n",
            "dropout_1 (Dropout)          (None, 1, 1, 64)          0         \n",
            "_________________________________________________________________\n",
            "global_average_pooling2d (Gl (None, 64)                0         \n",
            "_________________________________________________________________\n",
            "dense (Dense)                (None, 5)                 325       \n",
            "=================================================================\n",
            "Total params: 11,685\n",
            "Trainable params: 11,685\n",
            "Non-trainable params: 0\n",
            "_________________________________________________________________\n"
          ],
          "name": "stdout"
        }
      ]
    },
    {
      "cell_type": "markdown",
      "metadata": {
        "id": "FQbCM_T3GQ6M"
      },
      "source": [
        "### Modèle MLP"
      ]
    },
    {
      "cell_type": "code",
      "metadata": {
        "colab": {
          "base_uri": "https://localhost:8080/"
        },
        "id": "cvUdNqlKAu0X",
        "outputId": "1ee7071b-9bcf-4c9d-90c6-649bf5de6127"
      },
      "source": [
        "model = tf.keras.Sequential([\n",
        "                             tf.keras.Input(shape=(32)),\n",
        "                             tf.keras.layers.Dense(64, activation='relu'),  \n",
        "                             tf.keras.layers.Dropout(0.3), \n",
        "                             tf.keras.layers.Dense(128, activation='relu'),\n",
        "                             tf.keras.layers.Dropout(0.3),\n",
        "                             tf.keras.layers.Dense(256, activation='relu'),\n",
        "                             tf.keras.layers.Dropout(0.3)\n",
        "                             ])\n",
        "\n",
        "# .... à compléter ....4/1AY0e-g7ust680Kg4-eB33LbFtUsqxPhYKsUJg2KtuChzseU6ggxTDPtLusw\n",
        "model.add(tf.keras.layers.Dense(5, activation='softmax'))\n",
        "# Afficher votre modèle\n",
        "model.summary()"
      ],
      "execution_count": null,
      "outputs": [
        {
          "output_type": "stream",
          "text": [
            "Model: \"sequential\"\n",
            "_________________________________________________________________\n",
            "Layer (type)                 Output Shape              Param #   \n",
            "=================================================================\n",
            "dense (Dense)                (None, 64)                2112      \n",
            "_________________________________________________________________\n",
            "dropout (Dropout)            (None, 64)                0         \n",
            "_________________________________________________________________\n",
            "dense_1 (Dense)              (None, 128)               8320      \n",
            "_________________________________________________________________\n",
            "dropout_1 (Dropout)          (None, 128)               0         \n",
            "_________________________________________________________________\n",
            "dense_2 (Dense)              (None, 256)               33024     \n",
            "_________________________________________________________________\n",
            "dropout_2 (Dropout)          (None, 256)               0         \n",
            "_________________________________________________________________\n",
            "dense_3 (Dense)              (None, 5)                 1285      \n",
            "=================================================================\n",
            "Total params: 44,741\n",
            "Trainable params: 44,741\n",
            "Non-trainable params: 0\n",
            "_________________________________________________________________\n"
          ],
          "name": "stdout"
        }
      ]
    },
    {
      "cell_type": "markdown",
      "metadata": {
        "id": "f2ksSpJGF1gP"
      },
      "source": [
        "### **Compiler votre modèle en définissant une fonction de côut, un optmiseur et une métrique**\n",
        "\n",
        "Dans le cas d'une classification multi-classe, votre fonction de coût est la cross entropy catégorique. $Adam$ est un bon optimiseur de départ pour vos projets. Ici vous pouvez surveiller la métrique $Accuracy$. Pour la fonction de coût (loss), je n'utilse pas l'argument $from\\_logits=True$ car j'ai déjà activé la couche de sortie avec une fonction Softmax"
      ]
    },
    {
      "cell_type": "code",
      "metadata": {
        "id": "qtwtaGndG7UN"
      },
      "source": [
        "#optimizer = keras.optimizers.SGD(learning_rate=0.0001)\n",
        "model.compile(optimizer='adam',loss=tf.keras.losses.SparseCategoricalCrossentropy(), metrics=['acc'])"
      ],
      "execution_count": 60,
      "outputs": []
    },
    {
      "cell_type": "markdown",
      "metadata": {
        "id": "aLKCHopeIIet"
      },
      "source": [
        "### **Définir un callback pour sauver les poids de votre modèle sur les meilleures époque c'est à dire les moments où il s'améliorera sur le jeu de validation**"
      ]
    },
    {
      "cell_type": "code",
      "metadata": {
        "id": "X-_N87DhIH5N"
      },
      "source": [
        "#pour garder the best epoques -> saved in my_model\n",
        "Path('my_model').mkdir(exist_ok=True, parents=True)\n",
        "checkpointpath = os.path.join('my_model','model') # chemin où sauver le modèle\n",
        "callbacks = [tf.keras.callbacks.ModelCheckpoint(\n",
        "              checkpointpath,\n",
        "              verbose=1, # niveau de log\n",
        "              monitor='val_acc', # nom de la métrique à surveiller\n",
        "              save_best_only=True, # sauver uniquement le meilleur modèle\n",
        "              save_weights_only=True)] # sauver uniquement les poids"
      ],
      "execution_count": 61,
      "outputs": []
    },
    {
      "cell_type": "markdown",
      "metadata": {
        "id": "ozHZJ2CZH72X"
      },
      "source": [
        "### **Entraîner votre modèle pour un certain nombre d'époques**\n",
        "\n",
        "Le paramètre $validation\\_data$ vous permet de spécifier des données de validation et de votre le comportement de votre modèle sur un jeu indépendant dont il n'a pas la connaissance. \n",
        "\n",
        "La taille de batch ($batch\\_size$) correspond au nombre d'échantillons sur lesquels le modèle est entraîné à la fois sur une époque. Vous pouvez le mettre à (ex. 32, 64, 128, 256) et plus il est grand ce qui requiert d'avoir de la mémoire plus le temps d'exécution d'une époque sera court\n",
        "\n",
        "J'utilise les labels encodés entre 0 et 4 car la prédiction sur les distributions de probabilités du modèle est retournée avec un argmax"
      ]
    },
    {
      "cell_type": "code",
      "metadata": {
        "colab": {
          "base_uri": "https://localhost:8080/"
        },
        "id": "8WpxHz3FJuJ6",
        "outputId": "af12dd44-de61-4a2d-d518-e94a19720dc3"
      },
      "source": [
        "BATCH_SIZE = 128\n",
        "EPOCHS = 50\n",
        "history = model.fit (train_X, train_y_enc, validation_data=(valid_X,valid_y_enc), batch_size=BATCH_SIZE, epochs=EPOCHS, callbacks=callbacks)"
      ],
      "execution_count": 62,
      "outputs": [
        {
          "output_type": "stream",
          "text": [
            "Epoch 1/50\n",
            "3520/3531 [============================>.] - ETA: 0s - loss: 0.2500 - acc: 0.9137\n",
            "Epoch 00001: val_acc improved from -inf to 0.90882, saving model to my_model/model\n",
            "3531/3531 [==============================] - 14s 4ms/step - loss: 0.2499 - acc: 0.9137 - val_loss: 0.2491 - val_acc: 0.9088\n",
            "Epoch 2/50\n",
            "3527/3531 [============================>.] - ETA: 0s - loss: 0.2332 - acc: 0.9191\n",
            "Epoch 00002: val_acc improved from 0.90882 to 0.91885, saving model to my_model/model\n",
            "3531/3531 [==============================] - 14s 4ms/step - loss: 0.2332 - acc: 0.9190 - val_loss: 0.2334 - val_acc: 0.9189\n",
            "Epoch 3/50\n",
            "3524/3531 [============================>.] - ETA: 0s - loss: 0.2217 - acc: 0.9226\n",
            "Epoch 00003: val_acc did not improve from 0.91885\n",
            "3531/3531 [==============================] - 14s 4ms/step - loss: 0.2217 - acc: 0.9226 - val_loss: 0.2537 - val_acc: 0.9088\n",
            "Epoch 4/50\n",
            "3530/3531 [============================>.] - ETA: 0s - loss: 0.2133 - acc: 0.9254\n",
            "Epoch 00004: val_acc did not improve from 0.91885\n",
            "3531/3531 [==============================] - 14s 4ms/step - loss: 0.2133 - acc: 0.9254 - val_loss: 0.2363 - val_acc: 0.9163\n",
            "Epoch 5/50\n",
            "3530/3531 [============================>.] - ETA: 0s - loss: 0.2044 - acc: 0.9288\n",
            "Epoch 00005: val_acc did not improve from 0.91885\n",
            "3531/3531 [==============================] - 14s 4ms/step - loss: 0.2044 - acc: 0.9288 - val_loss: 0.2418 - val_acc: 0.9160\n",
            "Epoch 6/50\n",
            "3519/3531 [============================>.] - ETA: 0s - loss: 0.1978 - acc: 0.9309\n",
            "Epoch 00006: val_acc did not improve from 0.91885\n",
            "3531/3531 [==============================] - 14s 4ms/step - loss: 0.1979 - acc: 0.9309 - val_loss: 0.2496 - val_acc: 0.9090\n",
            "Epoch 7/50\n",
            "3523/3531 [============================>.] - ETA: 0s - loss: 0.1929 - acc: 0.9323\n",
            "Epoch 00007: val_acc did not improve from 0.91885\n",
            "3531/3531 [==============================] - 14s 4ms/step - loss: 0.1929 - acc: 0.9323 - val_loss: 0.2272 - val_acc: 0.9180\n",
            "Epoch 8/50\n",
            "3528/3531 [============================>.] - ETA: 0s - loss: 0.1879 - acc: 0.9346\n",
            "Epoch 00008: val_acc did not improve from 0.91885\n",
            "3531/3531 [==============================] - 14s 4ms/step - loss: 0.1879 - acc: 0.9346 - val_loss: 0.2710 - val_acc: 0.9035\n",
            "Epoch 9/50\n",
            "3523/3531 [============================>.] - ETA: 0s - loss: 0.1838 - acc: 0.9357\n",
            "Epoch 00009: val_acc did not improve from 0.91885\n",
            "3531/3531 [==============================] - 14s 4ms/step - loss: 0.1838 - acc: 0.9357 - val_loss: 0.2385 - val_acc: 0.9159\n",
            "Epoch 10/50\n",
            "3518/3531 [============================>.] - ETA: 0s - loss: 0.1804 - acc: 0.9373\n",
            "Epoch 00010: val_acc did not improve from 0.91885\n",
            "3531/3531 [==============================] - 14s 4ms/step - loss: 0.1804 - acc: 0.9373 - val_loss: 0.2452 - val_acc: 0.9129\n",
            "Epoch 11/50\n",
            "3519/3531 [============================>.] - ETA: 0s - loss: 0.1765 - acc: 0.9383\n",
            "Epoch 00011: val_acc did not improve from 0.91885\n",
            "3531/3531 [==============================] - 13s 4ms/step - loss: 0.1765 - acc: 0.9383 - val_loss: 0.2340 - val_acc: 0.9166\n",
            "Epoch 12/50\n",
            "3524/3531 [============================>.] - ETA: 0s - loss: 0.1730 - acc: 0.9397\n",
            "Epoch 00012: val_acc did not improve from 0.91885\n",
            "3531/3531 [==============================] - 14s 4ms/step - loss: 0.1729 - acc: 0.9397 - val_loss: 0.2379 - val_acc: 0.9165\n",
            "Epoch 13/50\n",
            "3528/3531 [============================>.] - ETA: 0s - loss: 0.1698 - acc: 0.9410\n",
            "Epoch 00013: val_acc did not improve from 0.91885\n",
            "3531/3531 [==============================] - 14s 4ms/step - loss: 0.1698 - acc: 0.9410 - val_loss: 0.2421 - val_acc: 0.9169\n",
            "Epoch 14/50\n",
            "3525/3531 [============================>.] - ETA: 0s - loss: 0.1669 - acc: 0.9419\n",
            "Epoch 00014: val_acc did not improve from 0.91885\n",
            "3531/3531 [==============================] - 14s 4ms/step - loss: 0.1669 - acc: 0.9419 - val_loss: 0.2358 - val_acc: 0.9180\n",
            "Epoch 15/50\n",
            "3523/3531 [============================>.] - ETA: 0s - loss: 0.1652 - acc: 0.9422\n",
            "Epoch 00015: val_acc improved from 0.91885 to 0.91993, saving model to my_model/model\n",
            "3531/3531 [==============================] - 14s 4ms/step - loss: 0.1651 - acc: 0.9422 - val_loss: 0.2348 - val_acc: 0.9199\n",
            "Epoch 16/50\n",
            "3517/3531 [============================>.] - ETA: 0s - loss: 0.1619 - acc: 0.9432\n",
            "Epoch 00016: val_acc did not improve from 0.91993\n",
            "3531/3531 [==============================] - 14s 4ms/step - loss: 0.1620 - acc: 0.9432 - val_loss: 0.2484 - val_acc: 0.9143\n",
            "Epoch 17/50\n",
            "3529/3531 [============================>.] - ETA: 0s - loss: 0.1602 - acc: 0.9439\n",
            "Epoch 00017: val_acc did not improve from 0.91993\n",
            "3531/3531 [==============================] - 14s 4ms/step - loss: 0.1601 - acc: 0.9439 - val_loss: 0.2682 - val_acc: 0.9130\n",
            "Epoch 18/50\n",
            "3531/3531 [==============================] - ETA: 0s - loss: 0.1582 - acc: 0.9449\n",
            "Epoch 00018: val_acc did not improve from 0.91993\n",
            "3531/3531 [==============================] - 13s 4ms/step - loss: 0.1582 - acc: 0.9449 - val_loss: 0.2585 - val_acc: 0.9092\n",
            "Epoch 19/50\n",
            "3525/3531 [============================>.] - ETA: 0s - loss: 0.1553 - acc: 0.9459\n",
            "Epoch 00019: val_acc did not improve from 0.91993\n",
            "3531/3531 [==============================] - 14s 4ms/step - loss: 0.1553 - acc: 0.9459 - val_loss: 0.2626 - val_acc: 0.9134\n",
            "Epoch 20/50\n",
            "3520/3531 [============================>.] - ETA: 0s - loss: 0.1542 - acc: 0.9458\n",
            "Epoch 00020: val_acc did not improve from 0.91993\n",
            "3531/3531 [==============================] - 13s 4ms/step - loss: 0.1543 - acc: 0.9458 - val_loss: 0.2420 - val_acc: 0.9171\n",
            "Epoch 21/50\n",
            "3527/3531 [============================>.] - ETA: 0s - loss: 0.1528 - acc: 0.9464\n",
            "Epoch 00021: val_acc did not improve from 0.91993\n",
            "3531/3531 [==============================] - 14s 4ms/step - loss: 0.1528 - acc: 0.9464 - val_loss: 0.2458 - val_acc: 0.9195\n",
            "Epoch 22/50\n",
            "3523/3531 [============================>.] - ETA: 0s - loss: 0.1508 - acc: 0.9472\n",
            "Epoch 00022: val_acc did not improve from 0.91993\n",
            "3531/3531 [==============================] - 14s 4ms/step - loss: 0.1508 - acc: 0.9472 - val_loss: 0.2496 - val_acc: 0.9172\n",
            "Epoch 23/50\n",
            "3515/3531 [============================>.] - ETA: 0s - loss: 0.1499 - acc: 0.9478\n",
            "Epoch 00023: val_acc did not improve from 0.91993\n",
            "3531/3531 [==============================] - 13s 4ms/step - loss: 0.1499 - acc: 0.9478 - val_loss: 0.2584 - val_acc: 0.9151\n",
            "Epoch 24/50\n",
            "3521/3531 [============================>.] - ETA: 0s - loss: 0.1477 - acc: 0.9485\n",
            "Epoch 00024: val_acc did not improve from 0.91993\n",
            "3531/3531 [==============================] - 14s 4ms/step - loss: 0.1476 - acc: 0.9485 - val_loss: 0.2395 - val_acc: 0.9192\n",
            "Epoch 25/50\n",
            "3530/3531 [============================>.] - ETA: 0s - loss: 0.1469 - acc: 0.9488\n",
            "Epoch 00025: val_acc did not improve from 0.91993\n",
            "3531/3531 [==============================] - 13s 4ms/step - loss: 0.1469 - acc: 0.9488 - val_loss: 0.2550 - val_acc: 0.9179\n",
            "Epoch 26/50\n",
            "3517/3531 [============================>.] - ETA: 0s - loss: 0.1455 - acc: 0.9490\n",
            "Epoch 00026: val_acc did not improve from 0.91993\n",
            "3531/3531 [==============================] - 14s 4ms/step - loss: 0.1456 - acc: 0.9490 - val_loss: 0.2490 - val_acc: 0.9190\n",
            "Epoch 27/50\n",
            "3531/3531 [==============================] - ETA: 0s - loss: 0.1442 - acc: 0.9492\n",
            "Epoch 00027: val_acc did not improve from 0.91993\n",
            "3531/3531 [==============================] - 14s 4ms/step - loss: 0.1442 - acc: 0.9492 - val_loss: 0.2745 - val_acc: 0.9136\n",
            "Epoch 28/50\n",
            "3530/3531 [============================>.] - ETA: 0s - loss: 0.1429 - acc: 0.9500\n",
            "Epoch 00028: val_acc did not improve from 0.91993\n",
            "3531/3531 [==============================] - 14s 4ms/step - loss: 0.1428 - acc: 0.9500 - val_loss: 0.2511 - val_acc: 0.9180\n",
            "Epoch 29/50\n",
            "3530/3531 [============================>.] - ETA: 0s - loss: 0.1414 - acc: 0.9510\n",
            "Epoch 00029: val_acc did not improve from 0.91993\n",
            "3531/3531 [==============================] - 14s 4ms/step - loss: 0.1414 - acc: 0.9510 - val_loss: 0.2590 - val_acc: 0.9175\n",
            "Epoch 30/50\n",
            "3517/3531 [============================>.] - ETA: 0s - loss: 0.1411 - acc: 0.9506\n",
            "Epoch 00030: val_acc did not improve from 0.91993\n",
            "3531/3531 [==============================] - 14s 4ms/step - loss: 0.1411 - acc: 0.9506 - val_loss: 0.2673 - val_acc: 0.9127\n",
            "Epoch 31/50\n",
            "3517/3531 [============================>.] - ETA: 0s - loss: 0.1394 - acc: 0.9511\n",
            "Epoch 00031: val_acc did not improve from 0.91993\n",
            "3531/3531 [==============================] - 14s 4ms/step - loss: 0.1394 - acc: 0.9511 - val_loss: 0.2607 - val_acc: 0.9152\n",
            "Epoch 32/50\n",
            "3531/3531 [==============================] - ETA: 0s - loss: 0.1382 - acc: 0.9517\n",
            "Epoch 00032: val_acc did not improve from 0.91993\n",
            "3531/3531 [==============================] - 15s 4ms/step - loss: 0.1382 - acc: 0.9517 - val_loss: 0.2679 - val_acc: 0.9123\n",
            "Epoch 33/50\n",
            "3524/3531 [============================>.] - ETA: 0s - loss: 0.1373 - acc: 0.9522\n",
            "Epoch 00033: val_acc did not improve from 0.91993\n",
            "3531/3531 [==============================] - 14s 4ms/step - loss: 0.1373 - acc: 0.9522 - val_loss: 0.2584 - val_acc: 0.9156\n",
            "Epoch 34/50\n",
            "3526/3531 [============================>.] - ETA: 0s - loss: 0.1358 - acc: 0.9523\n",
            "Epoch 00034: val_acc did not improve from 0.91993\n",
            "3531/3531 [==============================] - 14s 4ms/step - loss: 0.1358 - acc: 0.9523 - val_loss: 0.2848 - val_acc: 0.9106\n",
            "Epoch 35/50\n",
            "3523/3531 [============================>.] - ETA: 0s - loss: 0.1354 - acc: 0.9527\n",
            "Epoch 00035: val_acc did not improve from 0.91993\n",
            "3531/3531 [==============================] - 14s 4ms/step - loss: 0.1355 - acc: 0.9527 - val_loss: 0.2730 - val_acc: 0.9125\n",
            "Epoch 36/50\n",
            "3519/3531 [============================>.] - ETA: 0s - loss: 0.1343 - acc: 0.9527\n",
            "Epoch 00036: val_acc did not improve from 0.91993\n",
            "3531/3531 [==============================] - 14s 4ms/step - loss: 0.1343 - acc: 0.9527 - val_loss: 0.2557 - val_acc: 0.9168\n",
            "Epoch 37/50\n",
            "3518/3531 [============================>.] - ETA: 0s - loss: 0.1337 - acc: 0.9534\n",
            "Epoch 00037: val_acc did not improve from 0.91993\n",
            "3531/3531 [==============================] - 14s 4ms/step - loss: 0.1337 - acc: 0.9534 - val_loss: 0.2688 - val_acc: 0.9170\n",
            "Epoch 38/50\n",
            "3522/3531 [============================>.] - ETA: 0s - loss: 0.1331 - acc: 0.9533\n",
            "Epoch 00038: val_acc did not improve from 0.91993\n",
            "3531/3531 [==============================] - 14s 4ms/step - loss: 0.1331 - acc: 0.9533 - val_loss: 0.2717 - val_acc: 0.9145\n",
            "Epoch 39/50\n",
            "3530/3531 [============================>.] - ETA: 0s - loss: 0.1321 - acc: 0.9539\n",
            "Epoch 00039: val_acc did not improve from 0.91993\n",
            "3531/3531 [==============================] - 13s 4ms/step - loss: 0.1321 - acc: 0.9539 - val_loss: 0.2724 - val_acc: 0.9134\n",
            "Epoch 40/50\n",
            "3528/3531 [============================>.] - ETA: 0s - loss: 0.1316 - acc: 0.9539\n",
            "Epoch 00040: val_acc did not improve from 0.91993\n",
            "3531/3531 [==============================] - 14s 4ms/step - loss: 0.1316 - acc: 0.9539 - val_loss: 0.2882 - val_acc: 0.9169\n",
            "Epoch 41/50\n",
            "3517/3531 [============================>.] - ETA: 0s - loss: 0.1310 - acc: 0.9542\n",
            "Epoch 00041: val_acc did not improve from 0.91993\n",
            "3531/3531 [==============================] - 14s 4ms/step - loss: 0.1310 - acc: 0.9542 - val_loss: 0.2834 - val_acc: 0.9110\n",
            "Epoch 42/50\n",
            "3530/3531 [============================>.] - ETA: 0s - loss: 0.1300 - acc: 0.9548\n",
            "Epoch 00042: val_acc did not improve from 0.91993\n",
            "3531/3531 [==============================] - 14s 4ms/step - loss: 0.1300 - acc: 0.9548 - val_loss: 0.2543 - val_acc: 0.9171\n",
            "Epoch 43/50\n",
            "3523/3531 [============================>.] - ETA: 0s - loss: 0.1298 - acc: 0.9546\n",
            "Epoch 00043: val_acc did not improve from 0.91993\n",
            "3531/3531 [==============================] - 14s 4ms/step - loss: 0.1298 - acc: 0.9546 - val_loss: 0.2790 - val_acc: 0.9156\n",
            "Epoch 44/50\n",
            "3524/3531 [============================>.] - ETA: 0s - loss: 0.1283 - acc: 0.9550\n",
            "Epoch 00044: val_acc did not improve from 0.91993\n",
            "3531/3531 [==============================] - 14s 4ms/step - loss: 0.1283 - acc: 0.9550 - val_loss: 0.2772 - val_acc: 0.9145\n",
            "Epoch 45/50\n",
            "3527/3531 [============================>.] - ETA: 0s - loss: 0.1280 - acc: 0.9550\n",
            "Epoch 00045: val_acc did not improve from 0.91993\n",
            "3531/3531 [==============================] - 13s 4ms/step - loss: 0.1280 - acc: 0.9550 - val_loss: 0.2724 - val_acc: 0.9155\n",
            "Epoch 46/50\n",
            "3530/3531 [============================>.] - ETA: 0s - loss: 0.1275 - acc: 0.9554\n",
            "Epoch 00046: val_acc did not improve from 0.91993\n",
            "3531/3531 [==============================] - 14s 4ms/step - loss: 0.1275 - acc: 0.9554 - val_loss: 0.2785 - val_acc: 0.9145\n",
            "Epoch 47/50\n",
            "3530/3531 [============================>.] - ETA: 0s - loss: 0.1269 - acc: 0.9554\n",
            "Epoch 00047: val_acc did not improve from 0.91993\n",
            "3531/3531 [==============================] - 14s 4ms/step - loss: 0.1269 - acc: 0.9554 - val_loss: 0.2718 - val_acc: 0.9129\n",
            "Epoch 48/50\n",
            "3518/3531 [============================>.] - ETA: 0s - loss: 0.1264 - acc: 0.9556\n",
            "Epoch 00048: val_acc did not improve from 0.91993\n",
            "3531/3531 [==============================] - 14s 4ms/step - loss: 0.1264 - acc: 0.9556 - val_loss: 0.2951 - val_acc: 0.9148\n",
            "Epoch 49/50\n",
            "3526/3531 [============================>.] - ETA: 0s - loss: 0.1263 - acc: 0.9557\n",
            "Epoch 00049: val_acc did not improve from 0.91993\n",
            "3531/3531 [==============================] - 14s 4ms/step - loss: 0.1262 - acc: 0.9557 - val_loss: 0.2687 - val_acc: 0.9155\n",
            "Epoch 50/50\n",
            "3527/3531 [============================>.] - ETA: 0s - loss: 0.1253 - acc: 0.9559\n",
            "Epoch 00050: val_acc did not improve from 0.91993\n",
            "3531/3531 [==============================] - 14s 4ms/step - loss: 0.1253 - acc: 0.9559 - val_loss: 0.2906 - val_acc: 0.9136\n"
          ],
          "name": "stdout"
        }
      ]
    },
    {
      "cell_type": "markdown",
      "metadata": {
        "id": "n8LxITTsM856"
      },
      "source": [
        "### **Restaurer les poids du modèle sur la meilleure époque d'entraînement**"
      ]
    },
    {
      "cell_type": "code",
      "metadata": {
        "colab": {
          "base_uri": "https://localhost:8080/"
        },
        "id": "l1F4KMnnMz3d",
        "outputId": "88b186ad-aeca-4c54-d35d-06177a3b681b"
      },
      "source": [
        "model.load_weights(checkpointpath)\n",
        "# S'assurer que c'est bien le meilleur modèle sur les époques d'entraînement\n",
        "model.evaluate(valid_X,valid_y_enc,batch_size=256)\n",
        "#test_y_enc = encoder.transform(test_y)\n",
        "test_loss, test_acc = model.evaluate(valid_X,  valid_y_enc, verbose=2)"
      ],
      "execution_count": 64,
      "outputs": [
        {
          "output_type": "stream",
          "text": [
            "600/600 [==============================] - 1s 2ms/step - loss: 0.2348 - acc: 0.9199\n",
            "4796/4796 - 8s - loss: 0.2348 - acc: 0.9199\n"
          ],
          "name": "stdout"
        }
      ]
    },
    {
      "cell_type": "code",
      "metadata": {
        "colab": {
          "base_uri": "https://localhost:8080/",
          "height": 316
        },
        "id": "G0GT21yG4d14",
        "outputId": "2c66e7fa-132a-4efd-88e6-6a85de05e334"
      },
      "source": [
        "import matplotlib.pyplot as plt\n",
        "plt.style.use(\"ggplot\")\n",
        "plt.figure()\n",
        "\n",
        "plt.plot(np.arange(0, EPOCHS), history.history[\"acc\"], label=\"train_acc\")\n",
        "plt.plot(np.arange(0, EPOCHS), history.history[\"val_acc\"], label=\"val_acc\")\n",
        "plt.plot(np.arange(0, EPOCHS), history.history[\"loss\"], label=\"train_loss\")\n",
        "plt.plot(np.arange(0, EPOCHS), history.history[\"val_loss\"], label=\"val_loss\")\n",
        "plt.title(\"Accuracy et loss sur le Dataset\")\n",
        "plt.xlabel(\"Epoch #\")\n",
        "plt.ylabel(\"Accuracy/Loss\")\n",
        "plt.legend(loc=\"center right\")"
      ],
      "execution_count": 65,
      "outputs": [
        {
          "output_type": "execute_result",
          "data": {
            "text/plain": [
              "<matplotlib.legend.Legend at 0x7fb70a42c2b0>"
            ]
          },
          "metadata": {
            "tags": []
          },
          "execution_count": 65
        },
        {
          "output_type": "display_data",
          "data": {
            "image/png": "[encoded data removed]",
            "text/plain": [
              "<Figure size 432x288 with 1 Axes>"
            ]
          },
          "metadata": {
            "tags": []
          }
        }
      ]
    },
    {
      "cell_type": "markdown",
      "metadata": {
        "id": "dQ969YI-NzZG"
      },
      "source": [
        "### **Prédiction des classes sur le jeu de validation et évaluation en aggrégeant au niveau objet**"
      ]
    },
    {
      "cell_type": "code",
      "metadata": {
        "colab": {
          "base_uri": "https://localhost:8080/"
        },
        "id": "UM_WKL2FNzZG",
        "outputId": "77e17171-7400-4903-b279-67fbcf72be22"
      },
      "source": [
        "# Récupérer les probabilités prédites sur le jeu de validation\n",
        "valid_prob = model.predict(valid_X,batch_size=256) # anciene modele\n",
        "valid_prob.shape"
      ],
      "execution_count": 66,
      "outputs": [
        {
          "output_type": "execute_result",
          "data": {
            "text/plain": [
              "(153469, 5)"
            ]
          },
          "metadata": {
            "tags": []
          },
          "execution_count": 66
        }
      ]
    },
    {
      "cell_type": "code",
      "metadata": {
        "colab": {
          "base_uri": "https://localhost:8080/"
        },
        "id": "GisNgsAyNzZI",
        "outputId": "fba0598b-65b6-4f0e-bc2e-a14537823d9c"
      },
      "source": [
        "# Retourner la classe correspondant à la probabilité la plus haute\n",
        "valid_pred = np.argmax(valid_prob,axis=1) # axe 1 car ceci concerne chaque ligne\n",
        "valid_pred.shape\n",
        "valid_pred.view()"
      ],
      "execution_count": 67,
      "outputs": [
        {
          "output_type": "execute_result",
          "data": {
            "text/plain": [
              "array([1, 1, 1, ..., 4, 4, 4])"
            ]
          },
          "metadata": {
            "tags": []
          },
          "execution_count": 67
        }
      ]
    },
    {
      "cell_type": "code",
      "metadata": {
        "colab": {
          "base_uri": "https://localhost:8080/"
        },
        "id": "P72Fb-93NzZI",
        "outputId": "cedecf7e-35ca-4370-8031-c47219e5e051"
      },
      "source": [
        "# Je réencode les prédictions entre 1 et 5\n",
        "valid_pred_enc = encoder.inverse_transform(valid_pred)\n",
        "np.unique(valid_pred_enc)"
      ],
      "execution_count": 68,
      "outputs": [
        {
          "output_type": "execute_result",
          "data": {
            "text/plain": [
              "array([1, 2, 3, 4, 5], dtype=uint8)"
            ]
          },
          "metadata": {
            "tags": []
          },
          "execution_count": 68
        }
      ]
    },
    {
      "cell_type": "code",
      "metadata": {
        "colab": {
          "base_uri": "https://localhost:8080/"
        },
        "id": "1coy3oh4NzZJ",
        "outputId": "3f967a6c-bc8a-4581-bd9e-0bb8395bbe5f"
      },
      "source": [
        "# Aggrégation au niveau objet\n",
        "out_pred = []\n",
        "unique_id = np.unique(valid_id)\n",
        "for ID in unique_id :\n",
        "    # Récupérer les prédictions des pixels appartenant au même objet\n",
        "    pred = valid_pred_enc[np.where(valid_id==ID)]\n",
        "    y_true = valid_y[np.where(valid_id==ID)]\n",
        "    # Prendre la valeur majoritaire des prédictions sur les pixels\n",
        "    out_pred.append([ np.bincount(y_true).argmax(), np.bincount(pred).argmax()]) #(Vérité terrain,Prédiction majoritaire)\n",
        "out_pred = np.vstack(out_pred)\n",
        "out_pred.shape"
      ],
      "execution_count": 69,
      "outputs": [
        {
          "output_type": "execute_result",
          "data": {
            "text/plain": [
              "(558, 2)"
            ]
          },
          "metadata": {
            "tags": []
          },
          "execution_count": 69
        }
      ]
    },
    {
      "cell_type": "code",
      "metadata": {
        "colab": {
          "base_uri": "https://localhost:8080/"
        },
        "id": "xIxgwn5DNzZJ",
        "outputId": "8685aad3-6f8b-42dc-9cfd-2a0ff9143c07"
      },
      "source": [
        "# F1 score au niveau objet\n",
        "f1_score(out_pred[:,0],out_pred[:,1],average='weighted')"
      ],
      "execution_count": 70,
      "outputs": [
        {
          "output_type": "execute_result",
          "data": {
            "text/plain": [
              "0.8651842758705695"
            ]
          },
          "metadata": {
            "tags": []
          },
          "execution_count": 70
        }
      ]
    },
    {
      "cell_type": "markdown",
      "metadata": {
        "id": "3Yfz7brJN_8Y"
      },
      "source": [
        "### **Prédire sur le jeu test et Préparer une soumission**"
      ]
    },
    {
      "cell_type": "code",
      "metadata": {
        "colab": {
          "base_uri": "https://localhost:8080/"
        },
        "id": "qxgt0jEaN_8Y",
        "outputId": "e3b86c9d-f30b-4920-be3a-f17519032b93"
      },
      "source": [
        "# Récupérer les probabilités prédites sur le jeu test\n",
        "test_prob = model.predict(test_X, batch_size=256)  \n",
        "test_prob.shape"
      ],
      "execution_count": 71,
      "outputs": [
        {
          "output_type": "execute_result",
          "data": {
            "text/plain": [
              "(207485, 5)"
            ]
          },
          "metadata": {
            "tags": []
          },
          "execution_count": 71
        }
      ]
    },
    {
      "cell_type": "code",
      "metadata": {
        "colab": {
          "base_uri": "https://localhost:8080/"
        },
        "id": "kEhxSj9lN_8Y",
        "outputId": "92cde053-0ce4-4e13-bc10-aea8d3738da5"
      },
      "source": [
        "# Retourner la classe correspondant à la probabilité la plus haute\n",
        "test_pred = np.argmax(test_prob,axis=1) # axe 1 car ceci concerne chaque ligne\n",
        "test_pred.shape"
      ],
      "execution_count": 73,
      "outputs": [
        {
          "output_type": "execute_result",
          "data": {
            "text/plain": [
              "(207485,)"
            ]
          },
          "metadata": {
            "tags": []
          },
          "execution_count": 73
        }
      ]
    },
    {
      "cell_type": "code",
      "metadata": {
        "colab": {
          "base_uri": "https://localhost:8080/"
        },
        "id": "eRAyo462N_8Y",
        "outputId": "9e14af0e-8261-4e55-d1a2-61640e4c5762"
      },
      "source": [
        "# Je réencode les prédictions entre 1 et 5\n",
        "test_pred_enc = encoder.inverse_transform(test_pred)\n",
        "np.unique(test_pred_enc)"
      ],
      "execution_count": 74,
      "outputs": [
        {
          "output_type": "execute_result",
          "data": {
            "text/plain": [
              "array([1, 2, 3, 4, 5], dtype=uint8)"
            ]
          },
          "metadata": {
            "tags": []
          },
          "execution_count": 74
        }
      ]
    },
    {
      "cell_type": "code",
      "metadata": {
        "colab": {
          "base_uri": "https://localhost:8080/"
        },
        "id": "zmOwTnHJN_8Y",
        "outputId": "c3f7d229-2b9b-416f-9604-15edab33d3f1"
      },
      "source": [
        "# Aggrégation au niveau objet\n",
        "agg_pred = []\n",
        "unique_id = np.unique(test_id)\n",
        "for ID in unique_id :\n",
        "    # Récupérer les prédictions des pixels appartenant au même objet\n",
        "    pred = test_pred_enc[np.where(test_id==ID)]\n",
        "    # Prendre la valeur majoritaire des prédictions sur les pixels\n",
        "    agg_pred.append([ ID, np.bincount(pred).argmax()]) #(ID,Prédiction majoritaire)\n",
        "agg_pred = np.vstack(agg_pred)\n",
        "agg_pred.shape"
      ],
      "execution_count": 75,
      "outputs": [
        {
          "output_type": "execute_result",
          "data": {
            "text/plain": [
              "(800, 2)"
            ]
          },
          "metadata": {
            "tags": []
          },
          "execution_count": 75
        }
      ]
    },
    {
      "cell_type": "code",
      "metadata": {
        "colab": {
          "base_uri": "https://localhost:8080/",
          "height": 197
        },
        "id": "ODSTRPpWN_8Z",
        "outputId": "b725354f-c517-4526-eb34-90c819e9f1c0"
      },
      "source": [
        "df = pd.DataFrame({'ID':agg_pred[:,0],'Class':agg_pred[:,1]})\n",
        "df.to_csv('Soumission_StefanMinyoungRaidh(1).csv',index=False)\n",
        "df.head(5)"
      ],
      "execution_count": 76,
      "outputs": [
        {
          "output_type": "execute_result",
          "data": {
            "text/html": [
              "<div>\n",
              "<style scoped>\n",
              "    .dataframe tbody tr th:only-of-type {\n",
              "        vertical-align: middle;\n",
              "    }\n",
              "\n",
              "    .dataframe tbody tr th {\n",
              "        vertical-align: top;\n",
              "    }\n",
              "\n",
              "    .dataframe thead th {\n",
              "        text-align: right;\n",
              "    }\n",
              "</style>\n",
              "<table border=\"1\" class=\"dataframe\">\n",
              "  <thead>\n",
              "    <tr style=\"text-align: right;\">\n",
              "      <th></th>\n",
              "      <th>ID</th>\n",
              "      <th>Class</th>\n",
              "    </tr>\n",
              "  </thead>\n",
              "  <tbody>\n",
              "    <tr>\n",
              "      <th>0</th>\n",
              "      <td>4</td>\n",
              "      <td>5</td>\n",
              "    </tr>\n",
              "    <tr>\n",
              "      <th>1</th>\n",
              "      <td>7</td>\n",
              "      <td>3</td>\n",
              "    </tr>\n",
              "    <tr>\n",
              "      <th>2</th>\n",
              "      <td>8</td>\n",
              "      <td>5</td>\n",
              "    </tr>\n",
              "    <tr>\n",
              "      <th>3</th>\n",
              "      <td>9</td>\n",
              "      <td>3</td>\n",
              "    </tr>\n",
              "    <tr>\n",
              "      <th>4</th>\n",
              "      <td>10</td>\n",
              "      <td>3</td>\n",
              "    </tr>\n",
              "  </tbody>\n",
              "</table>\n",
              "</div>"
            ],
            "text/plain": [
              "   ID  Class\n",
              "0   4      5\n",
              "1   7      3\n",
              "2   8      5\n",
              "3   9      3\n",
              "4  10      3"
            ]
          },
          "metadata": {
            "tags": []
          },
          "execution_count": 76
        }
      ]
    },
    {
      "cell_type": "code",
      "metadata": {
        "colab": {
          "base_uri": "https://localhost:8080/"
        },
        "id": "3fD3bGHdN_8Z",
        "outputId": "a797e328-b7fc-407d-9025-2d149dc9f26f"
      },
      "source": [
        "# F1 Score au niveau objet\n",
        "!ls\n",
        "df_test = pd.read_csv('Test_ID_Label.csv') # Ce fichier vous sera fourni le 12 Novembre\n",
        "f1_score(df_test.Class,df.Class,average='weighted')"
      ],
      "execution_count": 77,
      "outputs": [
        {
          "output_type": "stream",
          "text": [
            " data\t     my_modelCNN2D\t\t\t      Test_ID_Label.csv\n",
            " Images      Soumission_NomDuGroupe.csv\t\t      Verite_terrain\n",
            " model.png  'Soumission_StefanMinyoungRaidh(1).csv'\n",
            " my_model    Soumission_StefanMinyoungRaidh.csv\n"
          ],
          "name": "stdout"
        },
        {
          "output_type": "execute_result",
          "data": {
            "text/plain": [
              "0.861153264254277"
            ]
          },
          "metadata": {
            "tags": []
          },
          "execution_count": 77
        }
      ]
    },
    {
      "cell_type": "markdown",
      "metadata": {
        "id": "dfvnw6PbPTwk"
      },
      "source": [
        "## **Modele CNN2D avec MLP**"
      ]
    },
    {
      "cell_type": "markdown",
      "metadata": {
        "id": "kJ6bUQyjPlsa"
      },
      "source": [
        "### Modele MLP"
      ]
    },
    {
      "cell_type": "code",
      "metadata": {
        "colab": {
          "base_uri": "https://localhost:8080/"
        },
        "id": "AUwZfiaIPfpF",
        "outputId": "cefee9b7-a644-48a1-b155-2328eae6ae4d"
      },
      "source": [
        "def mlpModel():\n",
        "  input = tf.keras.Input(shape=(32))\n",
        "\n",
        "  layer1 = Dense(64, activation='relu')(input)\n",
        "  layer2 = Dropout(0.5)(layer1)\n",
        "  layer3 = Dense(128, activation='relu')(layer2)\n",
        "  layer4 = Dropout(0.5)(layer3)\n",
        "  layer5 = Dense(256, activation='relu')(layer4)\n",
        "  layer6 = Dropout(0.5)(layer5)\n",
        " # layer7 = Dense(32, activation='relu')(layer6)\n",
        " # layer8 = Dropout(0.3)(layer7)\n",
        "\n",
        "  return tf.keras.Model(inputs=input, outputs=layer6)\n",
        "\n",
        "mlp_model = mlpModel()\n",
        "mlp_model.summary()"
      ],
      "execution_count": 78,
      "outputs": [
        {
          "output_type": "stream",
          "text": [
            "Model: \"functional_7\"\n",
            "_________________________________________________________________\n",
            "Layer (type)                 Output Shape              Param #   \n",
            "=================================================================\n",
            "input_3 (InputLayer)         [(None, 32)]              0         \n",
            "_________________________________________________________________\n",
            "dense_6 (Dense)              (None, 64)                2112      \n",
            "_________________________________________________________________\n",
            "dropout_8 (Dropout)          (None, 64)                0         \n",
            "_________________________________________________________________\n",
            "dense_7 (Dense)              (None, 128)               8320      \n",
            "_________________________________________________________________\n",
            "dropout_9 (Dropout)          (None, 128)               0         \n",
            "_________________________________________________________________\n",
            "dense_8 (Dense)              (None, 256)               33024     \n",
            "_________________________________________________________________\n",
            "dropout_10 (Dropout)         (None, 256)               0         \n",
            "=================================================================\n",
            "Total params: 43,456\n",
            "Trainable params: 43,456\n",
            "Non-trainable params: 0\n",
            "_________________________________________________________________\n"
          ],
          "name": "stdout"
        }
      ]
    },
    {
      "cell_type": "markdown",
      "metadata": {
        "id": "MKymPhOu19Sp"
      },
      "source": [
        "### Model CNN2D"
      ]
    },
    {
      "cell_type": "code",
      "metadata": {
        "colab": {
          "base_uri": "https://localhost:8080/"
        },
        "id": "bjGvjyls2BcN",
        "outputId": "819d3891-83b7-4278-c2a3-bd1f8e1f7ae4"
      },
      "source": [
        "def cnn2dModel():\n",
        "  input = tf.keras.Input(shape=(5,5,32))\n",
        "\n",
        "  layer1 = Conv2D(filters=32, kernel_size=(3,3), activation='relu')(input)\n",
        "  layer2 = Dropout(0.5)(layer1)\n",
        "  layer3 = Conv2D(filters=64, kernel_size=(1,1), activation='relu')(layer2)\n",
        "  layer4 = MaxPooling2D(2,2)(layer3)\n",
        "  layer5 = Dropout(0.5)(layer4)\n",
        "  layer6 = GlobalAveragePooling2D()(layer5)\n",
        "\n",
        "  return tf.keras.Model(inputs=input, outputs=layer6)\n",
        "\n",
        "cnn2d_model = cnn2dModel()\n",
        "cnn2d_model.summary()"
      ],
      "execution_count": 79,
      "outputs": [
        {
          "output_type": "stream",
          "text": [
            "Model: \"functional_9\"\n",
            "_________________________________________________________________\n",
            "Layer (type)                 Output Shape              Param #   \n",
            "=================================================================\n",
            "input_4 (InputLayer)         [(None, 5, 5, 32)]        0         \n",
            "_________________________________________________________________\n",
            "conv2d_4 (Conv2D)            (None, 3, 3, 32)          9248      \n",
            "_________________________________________________________________\n",
            "dropout_11 (Dropout)         (None, 3, 3, 32)          0         \n",
            "_________________________________________________________________\n",
            "conv2d_5 (Conv2D)            (None, 3, 3, 64)          2112      \n",
            "_________________________________________________________________\n",
            "max_pooling2d_2 (MaxPooling2 (None, 1, 1, 64)          0         \n",
            "_________________________________________________________________\n",
            "dropout_12 (Dropout)         (None, 1, 1, 64)          0         \n",
            "_________________________________________________________________\n",
            "global_average_pooling2d_2 ( (None, 64)                0         \n",
            "=================================================================\n",
            "Total params: 11,360\n",
            "Trainable params: 11,360\n",
            "Non-trainable params: 0\n",
            "_________________________________________________________________\n"
          ],
          "name": "stdout"
        }
      ]
    },
    {
      "cell_type": "markdown",
      "metadata": {
        "id": "EDyM7Kjo6bvw"
      },
      "source": [
        "### Concatenation de deux modèles"
      ]
    },
    {
      "cell_type": "code",
      "metadata": {
        "colab": {
          "base_uri": "https://localhost:8080/",
          "height": 1000
        },
        "id": "0cNECn0XQKNu",
        "outputId": "f53516d8-401a-490c-c25c-e74ec230907e"
      },
      "source": [
        "concat = tf.keras.layers.Concatenate()([mlp_model.output, cnn2d_model.output])\n",
        "\n",
        "layer_c = Dense(256, activation='relu')(concat)\n",
        "layer_cc = Dropout(0.5)(layer_c)\n",
        "out_layer = Dense(5, activation='softmax')(layer_cc)\n",
        "\n",
        "new_model = tf.keras.Model(inputs=[mlp_model.input, cnn2d_model.input], outputs=out_layer)\n",
        "\n",
        "new_model.summary()\n",
        "tf.keras.utils.plot_model(new_model)"
      ],
      "execution_count": 80,
      "outputs": [
        {
          "output_type": "stream",
          "text": [
            "Model: \"functional_11\"\n",
            "__________________________________________________________________________________________________\n",
            "Layer (type)                    Output Shape         Param #     Connected to                     \n",
            "==================================================================================================\n",
            "input_3 (InputLayer)            [(None, 32)]         0                                            \n",
            "__________________________________________________________________________________________________\n",
            "input_4 (InputLayer)            [(None, 5, 5, 32)]   0                                            \n",
            "__________________________________________________________________________________________________\n",
            "dense_6 (Dense)                 (None, 64)           2112        input_3[0][0]                    \n",
            "__________________________________________________________________________________________________\n",
            "conv2d_4 (Conv2D)               (None, 3, 3, 32)     9248        input_4[0][0]                    \n",
            "__________________________________________________________________________________________________\n",
            "dropout_8 (Dropout)             (None, 64)           0           dense_6[0][0]                    \n",
            "__________________________________________________________________________________________________\n",
            "dropout_11 (Dropout)            (None, 3, 3, 32)     0           conv2d_4[0][0]                   \n",
            "__________________________________________________________________________________________________\n",
            "dense_7 (Dense)                 (None, 128)          8320        dropout_8[0][0]                  \n",
            "__________________________________________________________________________________________________\n",
            "conv2d_5 (Conv2D)               (None, 3, 3, 64)     2112        dropout_11[0][0]                 \n",
            "__________________________________________________________________________________________________\n",
            "dropout_9 (Dropout)             (None, 128)          0           dense_7[0][0]                    \n",
            "__________________________________________________________________________________________________\n",
            "max_pooling2d_2 (MaxPooling2D)  (None, 1, 1, 64)     0           conv2d_5[0][0]                   \n",
            "__________________________________________________________________________________________________\n",
            "dense_8 (Dense)                 (None, 256)          33024       dropout_9[0][0]                  \n",
            "__________________________________________________________________________________________________\n",
            "dropout_12 (Dropout)            (None, 1, 1, 64)     0           max_pooling2d_2[0][0]            \n",
            "__________________________________________________________________________________________________\n",
            "dropout_10 (Dropout)            (None, 256)          0           dense_8[0][0]                    \n",
            "__________________________________________________________________________________________________\n",
            "global_average_pooling2d_2 (Glo (None, 64)           0           dropout_12[0][0]                 \n",
            "__________________________________________________________________________________________________\n",
            "concatenate_1 (Concatenate)     (None, 320)          0           dropout_10[0][0]                 \n",
            "                                                                 global_average_pooling2d_2[0][0] \n",
            "__________________________________________________________________________________________________\n",
            "dense_9 (Dense)                 (None, 256)          82176       concatenate_1[0][0]              \n",
            "__________________________________________________________________________________________________\n",
            "dropout_13 (Dropout)            (None, 256)          0           dense_9[0][0]                    \n",
            "__________________________________________________________________________________________________\n",
            "dense_10 (Dense)                (None, 5)            1285        dropout_13[0][0]                 \n",
            "==================================================================================================\n",
            "Total params: 138,277\n",
            "Trainable params: 138,277\n",
            "Non-trainable params: 0\n",
            "__________________________________________________________________________________________________\n"
          ],
          "name": "stdout"
        },
        {
          "output_type": "execute_result",
          "data": {
            "image/png": "[encoded data removed]",
            "text/plain": [
              "<IPython.core.display.Image object>"
            ]
          },
          "metadata": {
            "tags": []
          },
          "execution_count": 80
        }
      ]
    },
    {
      "cell_type": "markdown",
      "metadata": {
        "id": "JXP2c337HEW4"
      },
      "source": [
        "### Compilation et entrainement"
      ]
    },
    {
      "cell_type": "code",
      "metadata": {
        "id": "EOviFy95HJYB"
      },
      "source": [
        "new_model.compile(optimizer='adam',loss=tf.keras.losses.SparseCategoricalCrossentropy(), metrics=['acc'])"
      ],
      "execution_count": 81,
      "outputs": []
    },
    {
      "cell_type": "code",
      "metadata": {
        "id": "1KvFIlEFHRJD"
      },
      "source": [
        "Path('new_my_modelCNN2D_MLP').mkdir(exist_ok=True, parents=True)\n",
        "checkpointpath = os.path.join('my_model','new_model') # chemin où sauver le modèle\n",
        "callbacks = [tf.keras.callbacks.ModelCheckpoint(\n",
        "              checkpointpath,\n",
        "              verbose=1, # niveau de log\n",
        "              monitor='val_acc', # nom de la métrique à surveiller\n",
        "              save_best_only=True, # sauver uniquement le meilleur modèle\n",
        "              save_weights_only=True)] # sauver uniquement les poids"
      ],
      "execution_count": 82,
      "outputs": []
    },
    {
      "cell_type": "code",
      "metadata": {
        "colab": {
          "base_uri": "https://localhost:8080/"
        },
        "id": "KKR1F08dV21e",
        "outputId": "de4028af-7224-47fd-cac8-e92f02b09906"
      },
      "source": [
        "train_X.shape"
      ],
      "execution_count": 83,
      "outputs": [
        {
          "output_type": "execute_result",
          "data": {
            "text/plain": [
              "(451962, 5, 5, 32)"
            ]
          },
          "metadata": {
            "tags": []
          },
          "execution_count": 83
        }
      ]
    },
    {
      "cell_type": "code",
      "metadata": {
        "colab": {
          "base_uri": "https://localhost:8080/"
        },
        "id": "mMJ9WieaWXZS",
        "outputId": "12eaaf38-a337-445e-effe-f5545a1f09bb"
      },
      "source": [
        "train_X[:,2,2,:].shape"
      ],
      "execution_count": 84,
      "outputs": [
        {
          "output_type": "execute_result",
          "data": {
            "text/plain": [
              "(451962, 32)"
            ]
          },
          "metadata": {
            "tags": []
          },
          "execution_count": 84
        }
      ]
    },
    {
      "cell_type": "code",
      "metadata": {
        "colab": {
          "base_uri": "https://localhost:8080/"
        },
        "id": "DhLrRrY-ZcAI",
        "outputId": "1544a709-3d6d-4922-abda-a6997a245afd"
      },
      "source": [
        "train_X[:,2,2,:].reshape(train_X.shape[0], -1).shape"
      ],
      "execution_count": 85,
      "outputs": [
        {
          "output_type": "execute_result",
          "data": {
            "text/plain": [
              "(451962, 32)"
            ]
          },
          "metadata": {
            "tags": []
          },
          "execution_count": 85
        }
      ]
    },
    {
      "cell_type": "code",
      "metadata": {
        "id": "KmCf4ffdHdQA",
        "colab": {
          "base_uri": "https://localhost:8080/"
        },
        "outputId": "bfb929d1-724f-49f3-b25a-f4343ada5e8c"
      },
      "source": [
        "BATCH_SIZE = 256\n",
        "EPOCHS = 50\n",
        "history = new_model.fit ([train_X[:,2,2,:].reshape(train_X.shape[0], -1), train_X], train_y_enc, validation_data=([valid_X[:,2,2,:].reshape(valid_X.shape[0], -1), valid_X],valid_y_enc), batch_size=BATCH_SIZE, epochs=EPOCHS, callbacks=callbacks)"
      ],
      "execution_count": 86,
      "outputs": [
        {
          "output_type": "stream",
          "text": [
            "Epoch 1/50\n",
            "1765/1766 [============================>.] - ETA: 0s - loss: 0.4067 - acc: 0.8649\n",
            "Epoch 00001: val_acc improved from -inf to 0.90043, saving model to my_model/new_model\n",
            "1766/1766 [==============================] - 10s 5ms/step - loss: 0.4066 - acc: 0.8649 - val_loss: 0.2948 - val_acc: 0.9004\n",
            "Epoch 2/50\n",
            "1759/1766 [============================>.] - ETA: 0s - loss: 0.2955 - acc: 0.9018\n",
            "Epoch 00002: val_acc did not improve from 0.90043\n",
            "1766/1766 [==============================] - 9s 5ms/step - loss: 0.2955 - acc: 0.9019 - val_loss: 0.2851 - val_acc: 0.8977\n",
            "Epoch 3/50\n",
            "1761/1766 [============================>.] - ETA: 0s - loss: 0.2683 - acc: 0.9096\n",
            "Epoch 00003: val_acc improved from 0.90043 to 0.90079, saving model to my_model/new_model\n",
            "1766/1766 [==============================] - 10s 6ms/step - loss: 0.2683 - acc: 0.9096 - val_loss: 0.2820 - val_acc: 0.9008\n",
            "Epoch 4/50\n",
            "1758/1766 [============================>.] - ETA: 0s - loss: 0.2557 - acc: 0.9129\n",
            "Epoch 00004: val_acc did not improve from 0.90079\n",
            "1766/1766 [==============================] - 10s 5ms/step - loss: 0.2557 - acc: 0.9129 - val_loss: 0.2837 - val_acc: 0.8978\n",
            "Epoch 5/50\n",
            "1760/1766 [============================>.] - ETA: 0s - loss: 0.2441 - acc: 0.9159\n",
            "Epoch 00005: val_acc improved from 0.90079 to 0.90698, saving model to my_model/new_model\n",
            "1766/1766 [==============================] - 10s 5ms/step - loss: 0.2441 - acc: 0.9159 - val_loss: 0.2671 - val_acc: 0.9070\n",
            "Epoch 6/50\n",
            "1759/1766 [============================>.] - ETA: 0s - loss: 0.2393 - acc: 0.9176\n",
            "Epoch 00006: val_acc improved from 0.90698 to 0.91172, saving model to my_model/new_model\n",
            "1766/1766 [==============================] - 10s 5ms/step - loss: 0.2393 - acc: 0.9176 - val_loss: 0.2523 - val_acc: 0.9117\n",
            "Epoch 7/50\n",
            "1760/1766 [============================>.] - ETA: 0s - loss: 0.2320 - acc: 0.9204\n",
            "Epoch 00007: val_acc improved from 0.91172 to 0.91390, saving model to my_model/new_model\n",
            "1766/1766 [==============================] - 10s 6ms/step - loss: 0.2319 - acc: 0.9204 - val_loss: 0.2517 - val_acc: 0.9139\n",
            "Epoch 8/50\n",
            "1758/1766 [============================>.] - ETA: 0s - loss: 0.2285 - acc: 0.9216\n",
            "Epoch 00008: val_acc improved from 0.91390 to 0.91635, saving model to my_model/new_model\n",
            "1766/1766 [==============================] - 10s 6ms/step - loss: 0.2286 - acc: 0.9216 - val_loss: 0.2434 - val_acc: 0.9164\n",
            "Epoch 9/50\n",
            "1766/1766 [==============================] - ETA: 0s - loss: 0.2236 - acc: 0.9228\n",
            "Epoch 00009: val_acc did not improve from 0.91635\n",
            "1766/1766 [==============================] - 9s 5ms/step - loss: 0.2236 - acc: 0.9228 - val_loss: 0.2524 - val_acc: 0.9111\n",
            "Epoch 10/50\n",
            "1762/1766 [============================>.] - ETA: 0s - loss: 0.2202 - acc: 0.9240\n",
            "Epoch 00010: val_acc did not improve from 0.91635\n",
            "1766/1766 [==============================] - 9s 5ms/step - loss: 0.2202 - acc: 0.9240 - val_loss: 0.2450 - val_acc: 0.9126\n",
            "Epoch 11/50\n",
            "1758/1766 [============================>.] - ETA: 0s - loss: 0.2176 - acc: 0.9250\n",
            "Epoch 00011: val_acc did not improve from 0.91635\n",
            "1766/1766 [==============================] - 9s 5ms/step - loss: 0.2176 - acc: 0.9250 - val_loss: 0.2824 - val_acc: 0.8994\n",
            "Epoch 12/50\n",
            "1764/1766 [============================>.] - ETA: 0s - loss: 0.2146 - acc: 0.9257\n",
            "Epoch 00012: val_acc did not improve from 0.91635\n",
            "1766/1766 [==============================] - 9s 5ms/step - loss: 0.2147 - acc: 0.9257 - val_loss: 0.2498 - val_acc: 0.9131\n",
            "Epoch 13/50\n",
            "1766/1766 [==============================] - ETA: 0s - loss: 0.2118 - acc: 0.9267\n",
            "Epoch 00013: val_acc did not improve from 0.91635\n",
            "1766/1766 [==============================] - 9s 5ms/step - loss: 0.2118 - acc: 0.9267 - val_loss: 0.2451 - val_acc: 0.9124\n",
            "Epoch 14/50\n",
            "1765/1766 [============================>.] - ETA: 0s - loss: 0.2099 - acc: 0.9276\n",
            "Epoch 00014: val_acc did not improve from 0.91635\n",
            "1766/1766 [==============================] - 9s 5ms/step - loss: 0.2099 - acc: 0.9276 - val_loss: 0.2538 - val_acc: 0.9084\n",
            "Epoch 15/50\n",
            "1756/1766 [============================>.] - ETA: 0s - loss: 0.2092 - acc: 0.9275\n",
            "Epoch 00015: val_acc did not improve from 0.91635\n",
            "1766/1766 [==============================] - 9s 5ms/step - loss: 0.2092 - acc: 0.9275 - val_loss: 0.2423 - val_acc: 0.9126\n",
            "Epoch 16/50\n",
            "1763/1766 [============================>.] - ETA: 0s - loss: 0.2063 - acc: 0.9287\n",
            "Epoch 00016: val_acc did not improve from 0.91635\n",
            "1766/1766 [==============================] - 9s 5ms/step - loss: 0.2063 - acc: 0.9287 - val_loss: 0.2514 - val_acc: 0.9107\n",
            "Epoch 17/50\n",
            "1757/1766 [============================>.] - ETA: 0s - loss: 0.2043 - acc: 0.9293\n",
            "Epoch 00017: val_acc did not improve from 0.91635\n",
            "1766/1766 [==============================] - 9s 5ms/step - loss: 0.2042 - acc: 0.9293 - val_loss: 0.2543 - val_acc: 0.9090\n",
            "Epoch 18/50\n",
            "1765/1766 [============================>.] - ETA: 0s - loss: 0.2023 - acc: 0.9295\n",
            "Epoch 00018: val_acc did not improve from 0.91635\n",
            "1766/1766 [==============================] - 9s 5ms/step - loss: 0.2023 - acc: 0.9295 - val_loss: 0.2647 - val_acc: 0.9056\n",
            "Epoch 19/50\n",
            "1765/1766 [============================>.] - ETA: 0s - loss: 0.2002 - acc: 0.9304\n",
            "Epoch 00019: val_acc did not improve from 0.91635\n",
            "1766/1766 [==============================] - 9s 5ms/step - loss: 0.2002 - acc: 0.9304 - val_loss: 0.2340 - val_acc: 0.9154\n",
            "Epoch 20/50\n",
            "1758/1766 [============================>.] - ETA: 0s - loss: 0.1997 - acc: 0.9304\n",
            "Epoch 00020: val_acc did not improve from 0.91635\n",
            "1766/1766 [==============================] - 9s 5ms/step - loss: 0.1996 - acc: 0.9304 - val_loss: 0.2595 - val_acc: 0.9090\n",
            "Epoch 21/50\n",
            "1766/1766 [==============================] - ETA: 0s - loss: 0.1989 - acc: 0.9308\n",
            "Epoch 00021: val_acc did not improve from 0.91635\n",
            "1766/1766 [==============================] - 9s 5ms/step - loss: 0.1989 - acc: 0.9308 - val_loss: 0.2719 - val_acc: 0.9007\n",
            "Epoch 22/50\n",
            "1763/1766 [============================>.] - ETA: 0s - loss: 0.1962 - acc: 0.9313\n",
            "Epoch 00022: val_acc did not improve from 0.91635\n",
            "1766/1766 [==============================] - 9s 5ms/step - loss: 0.1962 - acc: 0.9313 - val_loss: 0.2448 - val_acc: 0.9112\n",
            "Epoch 23/50\n",
            "1761/1766 [============================>.] - ETA: 0s - loss: 0.1950 - acc: 0.9316\n",
            "Epoch 00023: val_acc did not improve from 0.91635\n",
            "1766/1766 [==============================] - 9s 5ms/step - loss: 0.1949 - acc: 0.9316 - val_loss: 0.2385 - val_acc: 0.9131\n",
            "Epoch 24/50\n",
            "1758/1766 [============================>.] - ETA: 0s - loss: 0.1946 - acc: 0.9320\n",
            "Epoch 00024: val_acc did not improve from 0.91635\n",
            "1766/1766 [==============================] - 10s 6ms/step - loss: 0.1946 - acc: 0.9320 - val_loss: 0.2665 - val_acc: 0.9054\n",
            "Epoch 25/50\n",
            "1756/1766 [============================>.] - ETA: 0s - loss: 0.1928 - acc: 0.9326\n",
            "Epoch 00025: val_acc did not improve from 0.91635\n",
            "1766/1766 [==============================] - 9s 5ms/step - loss: 0.1929 - acc: 0.9326 - val_loss: 0.2545 - val_acc: 0.9105\n",
            "Epoch 26/50\n",
            "1765/1766 [============================>.] - ETA: 0s - loss: 0.1924 - acc: 0.9325\n",
            "Epoch 00026: val_acc did not improve from 0.91635\n",
            "1766/1766 [==============================] - 9s 5ms/step - loss: 0.1923 - acc: 0.9326 - val_loss: 0.2529 - val_acc: 0.9120\n",
            "Epoch 27/50\n",
            "1757/1766 [============================>.] - ETA: 0s - loss: 0.1918 - acc: 0.9326\n",
            "Epoch 00027: val_acc improved from 0.91635 to 0.91826, saving model to my_model/new_model\n",
            "1766/1766 [==============================] - 9s 5ms/step - loss: 0.1918 - acc: 0.9326 - val_loss: 0.2300 - val_acc: 0.9183\n",
            "Epoch 28/50\n",
            "1766/1766 [==============================] - ETA: 0s - loss: 0.1908 - acc: 0.9331\n",
            "Epoch 00028: val_acc did not improve from 0.91826\n",
            "1766/1766 [==============================] - 9s 5ms/step - loss: 0.1908 - acc: 0.9331 - val_loss: 0.2395 - val_acc: 0.9147\n",
            "Epoch 29/50\n",
            "1764/1766 [============================>.] - ETA: 0s - loss: 0.1892 - acc: 0.9335\n",
            "Epoch 00029: val_acc did not improve from 0.91826\n",
            "1766/1766 [==============================] - 9s 5ms/step - loss: 0.1892 - acc: 0.9335 - val_loss: 0.2555 - val_acc: 0.9106\n",
            "Epoch 30/50\n",
            "1766/1766 [==============================] - ETA: 0s - loss: 0.1891 - acc: 0.9334\n",
            "Epoch 00030: val_acc did not improve from 0.91826\n",
            "1766/1766 [==============================] - 9s 5ms/step - loss: 0.1891 - acc: 0.9334 - val_loss: 0.2463 - val_acc: 0.9135\n",
            "Epoch 31/50\n",
            "1765/1766 [============================>.] - ETA: 0s - loss: 0.1876 - acc: 0.9337\n",
            "Epoch 00031: val_acc did not improve from 0.91826\n",
            "1766/1766 [==============================] - 9s 5ms/step - loss: 0.1876 - acc: 0.9337 - val_loss: 0.2457 - val_acc: 0.9137\n",
            "Epoch 32/50\n",
            "1766/1766 [==============================] - ETA: 0s - loss: 0.1872 - acc: 0.9342\n",
            "Epoch 00032: val_acc did not improve from 0.91826\n",
            "1766/1766 [==============================] - 9s 5ms/step - loss: 0.1872 - acc: 0.9342 - val_loss: 0.2377 - val_acc: 0.9154\n",
            "Epoch 33/50\n",
            "1764/1766 [============================>.] - ETA: 0s - loss: 0.1858 - acc: 0.9342\n",
            "Epoch 00033: val_acc did not improve from 0.91826\n",
            "1766/1766 [==============================] - 9s 5ms/step - loss: 0.1858 - acc: 0.9342 - val_loss: 0.2330 - val_acc: 0.9178\n",
            "Epoch 34/50\n",
            "1762/1766 [============================>.] - ETA: 0s - loss: 0.1838 - acc: 0.9353\n",
            "Epoch 00034: val_acc improved from 0.91826 to 0.91969, saving model to my_model/new_model\n",
            "1766/1766 [==============================] - 9s 5ms/step - loss: 0.1838 - acc: 0.9354 - val_loss: 0.2266 - val_acc: 0.9197\n",
            "Epoch 35/50\n",
            "1757/1766 [============================>.] - ETA: 0s - loss: 0.1843 - acc: 0.9352\n",
            "Epoch 00035: val_acc did not improve from 0.91969\n",
            "1766/1766 [==============================] - 9s 5ms/step - loss: 0.1843 - acc: 0.9352 - val_loss: 0.2400 - val_acc: 0.9149\n",
            "Epoch 36/50\n",
            "1757/1766 [============================>.] - ETA: 0s - loss: 0.1825 - acc: 0.9357\n",
            "Epoch 00036: val_acc did not improve from 0.91969\n",
            "1766/1766 [==============================] - 9s 5ms/step - loss: 0.1825 - acc: 0.9357 - val_loss: 0.2654 - val_acc: 0.9048\n",
            "Epoch 37/50\n",
            "1761/1766 [============================>.] - ETA: 0s - loss: 0.1839 - acc: 0.9351\n",
            "Epoch 00037: val_acc did not improve from 0.91969\n",
            "1766/1766 [==============================] - 9s 5ms/step - loss: 0.1839 - acc: 0.9351 - val_loss: 0.2316 - val_acc: 0.9161\n",
            "Epoch 38/50\n",
            "1763/1766 [============================>.] - ETA: 0s - loss: 0.1822 - acc: 0.9353\n",
            "Epoch 00038: val_acc did not improve from 0.91969\n",
            "1766/1766 [==============================] - 9s 5ms/step - loss: 0.1822 - acc: 0.9354 - val_loss: 0.2361 - val_acc: 0.9160\n",
            "Epoch 39/50\n",
            "1763/1766 [============================>.] - ETA: 0s - loss: 0.1808 - acc: 0.9364\n",
            "Epoch 00039: val_acc did not improve from 0.91969\n",
            "1766/1766 [==============================] - 9s 5ms/step - loss: 0.1808 - acc: 0.9364 - val_loss: 0.2432 - val_acc: 0.9137\n",
            "Epoch 40/50\n",
            "1765/1766 [============================>.] - ETA: 0s - loss: 0.1805 - acc: 0.9361\n",
            "Epoch 00040: val_acc did not improve from 0.91969\n",
            "1766/1766 [==============================] - 9s 5ms/step - loss: 0.1805 - acc: 0.9361 - val_loss: 0.2551 - val_acc: 0.9117\n",
            "Epoch 41/50\n",
            "1756/1766 [============================>.] - ETA: 0s - loss: 0.1801 - acc: 0.9364\n",
            "Epoch 00041: val_acc did not improve from 0.91969\n",
            "1766/1766 [==============================] - 9s 5ms/step - loss: 0.1801 - acc: 0.9364 - val_loss: 0.2476 - val_acc: 0.9148\n",
            "Epoch 42/50\n",
            "1759/1766 [============================>.] - ETA: 0s - loss: 0.1801 - acc: 0.9364\n",
            "Epoch 00042: val_acc did not improve from 0.91969\n",
            "1766/1766 [==============================] - 9s 5ms/step - loss: 0.1801 - acc: 0.9364 - val_loss: 0.2562 - val_acc: 0.9090\n",
            "Epoch 43/50\n",
            "1765/1766 [============================>.] - ETA: 0s - loss: 0.1788 - acc: 0.9367\n",
            "Epoch 00043: val_acc did not improve from 0.91969\n",
            "1766/1766 [==============================] - 9s 5ms/step - loss: 0.1788 - acc: 0.9367 - val_loss: 0.2462 - val_acc: 0.9104\n",
            "Epoch 44/50\n",
            "1764/1766 [============================>.] - ETA: 0s - loss: 0.1780 - acc: 0.9369\n",
            "Epoch 00044: val_acc did not improve from 0.91969\n",
            "1766/1766 [==============================] - 9s 5ms/step - loss: 0.1781 - acc: 0.9369 - val_loss: 0.2474 - val_acc: 0.9156\n",
            "Epoch 45/50\n",
            "1762/1766 [============================>.] - ETA: 0s - loss: 0.1776 - acc: 0.9372\n",
            "Epoch 00045: val_acc did not improve from 0.91969\n",
            "1766/1766 [==============================] - 9s 5ms/step - loss: 0.1775 - acc: 0.9372 - val_loss: 0.2384 - val_acc: 0.9161\n",
            "Epoch 46/50\n",
            "1758/1766 [============================>.] - ETA: 0s - loss: 0.1768 - acc: 0.9378\n",
            "Epoch 00046: val_acc did not improve from 0.91969\n",
            "1766/1766 [==============================] - 9s 5ms/step - loss: 0.1767 - acc: 0.9378 - val_loss: 0.2363 - val_acc: 0.9148\n",
            "Epoch 47/50\n",
            "1757/1766 [============================>.] - ETA: 0s - loss: 0.1764 - acc: 0.9374\n",
            "Epoch 00047: val_acc did not improve from 0.91969\n",
            "1766/1766 [==============================] - 9s 5ms/step - loss: 0.1764 - acc: 0.9374 - val_loss: 0.2508 - val_acc: 0.9080\n",
            "Epoch 48/50\n",
            "1759/1766 [============================>.] - ETA: 0s - loss: 0.1757 - acc: 0.9375\n",
            "Epoch 00048: val_acc did not improve from 0.91969\n",
            "1766/1766 [==============================] - 9s 5ms/step - loss: 0.1757 - acc: 0.9375 - val_loss: 0.2410 - val_acc: 0.9150\n",
            "Epoch 49/50\n",
            "1764/1766 [============================>.] - ETA: 0s - loss: 0.1761 - acc: 0.9376\n",
            "Epoch 00049: val_acc did not improve from 0.91969\n",
            "1766/1766 [==============================] - 9s 5ms/step - loss: 0.1761 - acc: 0.9376 - val_loss: 0.2590 - val_acc: 0.9130\n",
            "Epoch 50/50\n",
            "1758/1766 [============================>.] - ETA: 0s - loss: 0.1743 - acc: 0.9384\n",
            "Epoch 00050: val_acc did not improve from 0.91969\n",
            "1766/1766 [==============================] - 9s 5ms/step - loss: 0.1744 - acc: 0.9384 - val_loss: 0.2461 - val_acc: 0.9128\n"
          ],
          "name": "stdout"
        }
      ]
    },
    {
      "cell_type": "markdown",
      "metadata": {
        "id": "5BeOSdr2XIwI"
      },
      "source": [
        "### **Restaurer les poids du modèle sur la meilleure époque d'entraînement**"
      ]
    },
    {
      "cell_type": "code",
      "metadata": {
        "id": "ymmP7zAJXU-o",
        "colab": {
          "base_uri": "https://localhost:8080/",
          "height": 316
        },
        "outputId": "afffe783-2e61-47b2-e5ce-df5b8d625e21"
      },
      "source": [
        "import matplotlib.pyplot as plt\n",
        "plt.style.use(\"ggplot\")\n",
        "plt.figure()\n",
        "\n",
        "plt.plot(np.arange(0, EPOCHS), history.history[\"acc\"], label=\"train_acc\")\n",
        "plt.plot(np.arange(0, EPOCHS), history.history[\"val_acc\"], label=\"val_acc\")\n",
        "plt.plot(np.arange(0, EPOCHS), history.history[\"loss\"], label=\"train_loss\")\n",
        "plt.plot(np.arange(0, EPOCHS), history.history[\"val_loss\"], label=\"val_loss\")\n",
        "plt.title(\"Accuracy et loss sur le Dataset\")\n",
        "plt.xlabel(\"Epoch #\")\n",
        "plt.ylabel(\"Accuracy/Loss\")\n",
        "plt.legend(loc=\"center right\")"
      ],
      "execution_count": 87,
      "outputs": [
        {
          "output_type": "execute_result",
          "data": {
            "text/plain": [
              "<matplotlib.legend.Legend at 0x7fb70a269eb8>"
            ]
          },
          "metadata": {
            "tags": []
          },
          "execution_count": 87
        },
        {
          "output_type": "display_data",
          "data": {
            "image/png": "[encoded data removed]",
            "text/plain": [
              "<Figure size 432x288 with 1 Axes>"
            ]
          },
          "metadata": {
            "tags": []
          }
        }
      ]
    },
    {
      "cell_type": "markdown",
      "metadata": {
        "id": "Zh14_LtSPCqB"
      },
      "source": [
        "### **Prédiction des classes sur le jeu de validation et évaluation en aggrégeant au niveau objet**"
      ]
    },
    {
      "cell_type": "code",
      "metadata": {
        "colab": {
          "base_uri": "https://localhost:8080/"
        },
        "id": "zDpjyx_JPNjv",
        "outputId": "8c04bb85-4cf0-4b62-c7e3-cf73878218a1"
      },
      "source": [
        "# Récupérer les probabilités prédites sur le jeu de validation\n",
        "#valid_prob = model.predict(valid_X,batch_size=256) # anciene modele\n",
        "valid_prob = new_model.predict([valid_X[:,2,2,:].reshape(valid_X.shape[0], -1), valid_X],batch_size=256) # pour le modele de avec cnn2d et mlp ensemble\n",
        "valid_prob.shape"
      ],
      "execution_count": 88,
      "outputs": [
        {
          "output_type": "execute_result",
          "data": {
            "text/plain": [
              "(153469, 5)"
            ]
          },
          "metadata": {
            "tags": []
          },
          "execution_count": 88
        }
      ]
    },
    {
      "cell_type": "code",
      "metadata": {
        "colab": {
          "base_uri": "https://localhost:8080/"
        },
        "id": "26YozrngPZyW",
        "outputId": "031e736b-40b8-466e-9210-6217a568d8e0"
      },
      "source": [
        "# Retourner la classe correspondant à la probabilité la plus haute\n",
        "valid_pred = np.argmax(valid_prob,axis=1) # axe 1 car ceci concerne chaque ligne\n",
        "valid_pred.shape\n",
        "valid_pred.view()"
      ],
      "execution_count": 89,
      "outputs": [
        {
          "output_type": "execute_result",
          "data": {
            "text/plain": [
              "array([1, 1, 1, ..., 4, 4, 4])"
            ]
          },
          "metadata": {
            "tags": []
          },
          "execution_count": 89
        }
      ]
    },
    {
      "cell_type": "code",
      "metadata": {
        "colab": {
          "base_uri": "https://localhost:8080/"
        },
        "id": "57Fyn2eyWU3w",
        "outputId": "906f44a5-db0a-47ce-927a-c40dbf8cfa04"
      },
      "source": [
        "# Je réencode les prédictions entre 1 et 5\n",
        "valid_pred_enc = encoder.inverse_transform(valid_pred)\n",
        "np.unique(valid_pred_enc)"
      ],
      "execution_count": 90,
      "outputs": [
        {
          "output_type": "execute_result",
          "data": {
            "text/plain": [
              "array([1, 2, 3, 4, 5], dtype=uint8)"
            ]
          },
          "metadata": {
            "tags": []
          },
          "execution_count": 90
        }
      ]
    },
    {
      "cell_type": "code",
      "metadata": {
        "colab": {
          "base_uri": "https://localhost:8080/"
        },
        "id": "z35nADR_P-ut",
        "outputId": "0eb36060-90c6-468f-ce2e-418f3dc266d2"
      },
      "source": [
        "# Aggrégation au niveau objet\n",
        "out_pred = []\n",
        "unique_id = np.unique(valid_id)\n",
        "for ID in unique_id :\n",
        "    # Récupérer les prédictions des pixels appartenant au même objet\n",
        "    pred = valid_pred_enc[np.where(valid_id==ID)]\n",
        "    y_true = valid_y[np.where(valid_id==ID)]\n",
        "    # Prendre la valeur majoritaire des prédictions sur les pixels\n",
        "    out_pred.append([ np.bincount(y_true).argmax(), np.bincount(pred).argmax()]) #(Vérité terrain,Prédiction majoritaire)\n",
        "out_pred = np.vstack(out_pred)\n",
        "out_pred.shape"
      ],
      "execution_count": 91,
      "outputs": [
        {
          "output_type": "execute_result",
          "data": {
            "text/plain": [
              "(558, 2)"
            ]
          },
          "metadata": {
            "tags": []
          },
          "execution_count": 91
        }
      ]
    },
    {
      "cell_type": "code",
      "metadata": {
        "colab": {
          "base_uri": "https://localhost:8080/"
        },
        "id": "hQ2jDDDZWsKQ",
        "outputId": "0874f5cf-1569-46ec-bfcf-7808cc28587f"
      },
      "source": [
        "# F1 score au niveau objet\n",
        "f1_score(out_pred[:,0],out_pred[:,1],average='weighted')"
      ],
      "execution_count": 92,
      "outputs": [
        {
          "output_type": "execute_result",
          "data": {
            "text/plain": [
              "0.8792016004403814"
            ]
          },
          "metadata": {
            "tags": []
          },
          "execution_count": 92
        }
      ]
    },
    {
      "cell_type": "markdown",
      "metadata": {
        "id": "zIXYledyW9QI"
      },
      "source": [
        "### **Prédire sur le jeu test et Préparer une soumission**"
      ]
    },
    {
      "cell_type": "code",
      "metadata": {
        "colab": {
          "base_uri": "https://localhost:8080/"
        },
        "id": "p--sBOPKW4SE",
        "outputId": "5876e740-ebba-439c-b71e-fce22bfb8551"
      },
      "source": [
        "# Récupérer les probabilités prédites sur le jeu test\n",
        "# test_prob = new_model.predict(test_X, batch_size=256) ancien pour predir d'un seul modele \n",
        "test_prob = new_model.predict([test_X[:,2,2,:].reshape(test_X.shape[0], -1), test_X],batch_size=256) # prédiction de deux modeles combiné\n",
        "test_prob.shape"
      ],
      "execution_count": 93,
      "outputs": [
        {
          "output_type": "execute_result",
          "data": {
            "text/plain": [
              "(207485, 5)"
            ]
          },
          "metadata": {
            "tags": []
          },
          "execution_count": 93
        }
      ]
    },
    {
      "cell_type": "code",
      "metadata": {
        "colab": {
          "base_uri": "https://localhost:8080/"
        },
        "id": "QtI8FHPyXHF1",
        "outputId": "48f98b89-682f-44f8-9762-590f1d94fa72"
      },
      "source": [
        "# Retourner la classe correspondant à la probabilité la plus haute\n",
        "test_pred = np.argmax(test_prob,axis=1) # axe 1 car ceci concerne chaque ligne\n",
        "test_pred.shape"
      ],
      "execution_count": 94,
      "outputs": [
        {
          "output_type": "execute_result",
          "data": {
            "text/plain": [
              "(207485,)"
            ]
          },
          "metadata": {
            "tags": []
          },
          "execution_count": 94
        }
      ]
    },
    {
      "cell_type": "code",
      "metadata": {
        "colab": {
          "base_uri": "https://localhost:8080/"
        },
        "id": "V4xPl0mFXNEi",
        "outputId": "5da89b14-1197-48dd-d9b2-32c1241a3620"
      },
      "source": [
        "# Je réencode les prédictions entre 1 et 5\n",
        "test_pred_enc = encoder.inverse_transform(test_pred)\n",
        "np.unique(test_pred_enc)"
      ],
      "execution_count": 95,
      "outputs": [
        {
          "output_type": "execute_result",
          "data": {
            "text/plain": [
              "array([1, 2, 3, 4, 5], dtype=uint8)"
            ]
          },
          "metadata": {
            "tags": []
          },
          "execution_count": 95
        }
      ]
    },
    {
      "cell_type": "code",
      "metadata": {
        "colab": {
          "base_uri": "https://localhost:8080/"
        },
        "id": "khjM1qqMXTSY",
        "outputId": "97fd5426-c8b7-4501-90ae-79639518e322"
      },
      "source": [
        "# Aggrégation au niveau objet\n",
        "agg_pred = []\n",
        "unique_id = np.unique(test_id)\n",
        "for ID in unique_id :\n",
        "    # Récupérer les prédictions des pixels appartenant au même objet\n",
        "    pred = test_pred_enc[np.where(test_id==ID)]\n",
        "    # Prendre la valeur majoritaire des prédictions sur les pixels\n",
        "    agg_pred.append([ ID, np.bincount(pred).argmax()]) #(ID,Prédiction majoritaire)\n",
        "agg_pred = np.vstack(agg_pred)\n",
        "agg_pred.shape"
      ],
      "execution_count": 96,
      "outputs": [
        {
          "output_type": "execute_result",
          "data": {
            "text/plain": [
              "(800, 2)"
            ]
          },
          "metadata": {
            "tags": []
          },
          "execution_count": 96
        }
      ]
    },
    {
      "cell_type": "code",
      "metadata": {
        "colab": {
          "base_uri": "https://localhost:8080/",
          "height": 197
        },
        "id": "ZIdn628cEtgx",
        "outputId": "2600123c-a6cb-45c0-ff41-f919f8b575e8"
      },
      "source": [
        "df = pd.DataFrame({'ID':agg_pred[:,0],'Class':agg_pred[:,1]})\n",
        "df.to_csv('Soumission_StefanMinyoungRaidh(1).csv',index=False)\n",
        "df.head(5)"
      ],
      "execution_count": 97,
      "outputs": [
        {
          "output_type": "execute_result",
          "data": {
            "text/html": [
              "<div>\n",
              "<style scoped>\n",
              "    .dataframe tbody tr th:only-of-type {\n",
              "        vertical-align: middle;\n",
              "    }\n",
              "\n",
              "    .dataframe tbody tr th {\n",
              "        vertical-align: top;\n",
              "    }\n",
              "\n",
              "    .dataframe thead th {\n",
              "        text-align: right;\n",
              "    }\n",
              "</style>\n",
              "<table border=\"1\" class=\"dataframe\">\n",
              "  <thead>\n",
              "    <tr style=\"text-align: right;\">\n",
              "      <th></th>\n",
              "      <th>ID</th>\n",
              "      <th>Class</th>\n",
              "    </tr>\n",
              "  </thead>\n",
              "  <tbody>\n",
              "    <tr>\n",
              "      <th>0</th>\n",
              "      <td>4</td>\n",
              "      <td>5</td>\n",
              "    </tr>\n",
              "    <tr>\n",
              "      <th>1</th>\n",
              "      <td>7</td>\n",
              "      <td>3</td>\n",
              "    </tr>\n",
              "    <tr>\n",
              "      <th>2</th>\n",
              "      <td>8</td>\n",
              "      <td>5</td>\n",
              "    </tr>\n",
              "    <tr>\n",
              "      <th>3</th>\n",
              "      <td>9</td>\n",
              "      <td>3</td>\n",
              "    </tr>\n",
              "    <tr>\n",
              "      <th>4</th>\n",
              "      <td>10</td>\n",
              "      <td>3</td>\n",
              "    </tr>\n",
              "  </tbody>\n",
              "</table>\n",
              "</div>"
            ],
            "text/plain": [
              "   ID  Class\n",
              "0   4      5\n",
              "1   7      3\n",
              "2   8      5\n",
              "3   9      3\n",
              "4  10      3"
            ]
          },
          "metadata": {
            "tags": []
          },
          "execution_count": 97
        }
      ]
    },
    {
      "cell_type": "code",
      "metadata": {
        "colab": {
          "base_uri": "https://localhost:8080/"
        },
        "id": "s6WuuJCkXsu0",
        "outputId": "ca12da10-eb40-4cf4-a5dc-ddd00565e468"
      },
      "source": [
        "# F1 Score au niveau objet\n",
        "!ls\n",
        "df_test = pd.read_csv('Test_ID_Label.csv') # Ce fichier vous sera fourni le 12 Novembre\n",
        "f1_score(df_test.Class,df.Class,average='weighted')"
      ],
      "execution_count": 98,
      "outputs": [
        {
          "output_type": "stream",
          "text": [
            " data\t\t\t Soumission_NomDuGroupe.csv\n",
            " Images\t\t\t'Soumission_StefanMinyoungRaidh(1).csv'\n",
            " model.png\t\t Soumission_StefanMinyoungRaidh.csv\n",
            " my_model\t\t Test_ID_Label.csv\n",
            " my_modelCNN2D\t\t Verite_terrain\n",
            " new_my_modelCNN2D_MLP\n"
          ],
          "name": "stdout"
        },
        {
          "output_type": "execute_result",
          "data": {
            "text/plain": [
              "0.8606200255045106"
            ]
          },
          "metadata": {
            "tags": []
          },
          "execution_count": 98
        }
      ]
    },
    {
      "cell_type": "markdown",
      "metadata": {
        "id": "L1HGVob-UoJ1"
      },
      "source": [
        "## **Modele CNN1D avec MLP**"
      ]
    },
    {
      "cell_type": "markdown",
      "metadata": {
        "id": "mUPw6KmaU8DU"
      },
      "source": [
        "### Modele MLP"
      ]
    },
    {
      "cell_type": "code",
      "metadata": {
        "colab": {
          "base_uri": "https://localhost:8080/"
        },
        "id": "k4nbPTlmUzgD",
        "outputId": "a7712380-1eb5-49d2-8eb9-30761657f39f"
      },
      "source": [
        "def mlpModel():\n",
        "  input = tf.keras.Input(shape=(32))\n",
        "\n",
        "  layer1 = Dense(64, activation='relu')(input)\n",
        "  layer2 = Dropout(0.3)(layer1)\n",
        "  layer3 = Dense(128, activation='relu')(layer2)\n",
        "  layer4 = Dropout(0.3)(layer3)\n",
        "  layer5 = Dense(256, activation='relu')(layer4)\n",
        "  layer6 = Dropout(0.3)(layer5)\n",
        " # layer7 = Dense(32, activation='relu')(layer6)\n",
        " # layer8 = Dropout(0.3)(layer7)\n",
        "\n",
        "  return tf.keras.Model(inputs=input, outputs=layer6)\n",
        "\n",
        "mlp_model = mlpModel()\n",
        "mlp_model.summary()"
      ],
      "execution_count": 108,
      "outputs": [
        {
          "output_type": "stream",
          "text": [
            "Model: \"functional_19\"\n",
            "_________________________________________________________________\n",
            "Layer (type)                 Output Shape              Param #   \n",
            "=================================================================\n",
            "input_7 (InputLayer)         [(None, 32)]              0         \n",
            "_________________________________________________________________\n",
            "dense_16 (Dense)             (None, 64)                2112      \n",
            "_________________________________________________________________\n",
            "dropout_21 (Dropout)         (None, 64)                0         \n",
            "_________________________________________________________________\n",
            "dense_17 (Dense)             (None, 128)               8320      \n",
            "_________________________________________________________________\n",
            "dropout_22 (Dropout)         (None, 128)               0         \n",
            "_________________________________________________________________\n",
            "dense_18 (Dense)             (None, 256)               33024     \n",
            "_________________________________________________________________\n",
            "dropout_23 (Dropout)         (None, 256)               0         \n",
            "=================================================================\n",
            "Total params: 43,456\n",
            "Trainable params: 43,456\n",
            "Non-trainable params: 0\n",
            "_________________________________________________________________\n"
          ],
          "name": "stdout"
        }
      ]
    },
    {
      "cell_type": "markdown",
      "metadata": {
        "id": "8M9hlu5WVCnH"
      },
      "source": [
        "### Modele CNN1D"
      ]
    },
    {
      "cell_type": "code",
      "metadata": {
        "colab": {
          "base_uri": "https://localhost:8080/"
        },
        "id": "zRWxYxPMVFyK",
        "outputId": "71f20ef7-154a-4e90-f753-0f631d4c545b"
      },
      "source": [
        "def cnn1dModel():\n",
        "  input = tf.keras.Input(shape=(8,4))\n",
        "\n",
        "  layer1 = Conv1D(filters=32, kernel_size=3, activation='relu')(input)\n",
        "  layer2 = Dropout(0.1)(layer1)\n",
        "  layer3 = Conv1D(filters=64, kernel_size=3, activation='relu')(layer2)\n",
        "  layer4 = Dropout(0.2)(layer3)\n",
        "  layer5 = Conv1D(filters=128, kernel_size=3, activation='relu')(layer4)\n",
        "  layer6 = Dropout(0.3)(layer5)\n",
        "  layer7 = MaxPooling1D(2)(layer6)\n",
        "  layer8 = GlobalAveragePooling1D()(layer7)\n",
        "\n",
        "  return tf.keras.Model(inputs=input, outputs=layer8)\n",
        "\n",
        "cnn1d_model = cnn1dModel()\n",
        "cnn1d_model.summary() \n"
      ],
      "execution_count": 109,
      "outputs": [
        {
          "output_type": "stream",
          "text": [
            "Model: \"functional_21\"\n",
            "_________________________________________________________________\n",
            "Layer (type)                 Output Shape              Param #   \n",
            "=================================================================\n",
            "input_8 (InputLayer)         [(None, 8, 4)]            0         \n",
            "_________________________________________________________________\n",
            "conv1d_3 (Conv1D)            (None, 6, 32)             416       \n",
            "_________________________________________________________________\n",
            "dropout_24 (Dropout)         (None, 6, 32)             0         \n",
            "_________________________________________________________________\n",
            "conv1d_4 (Conv1D)            (None, 4, 64)             6208      \n",
            "_________________________________________________________________\n",
            "dropout_25 (Dropout)         (None, 4, 64)             0         \n",
            "_________________________________________________________________\n",
            "conv1d_5 (Conv1D)            (None, 2, 128)            24704     \n",
            "_________________________________________________________________\n",
            "dropout_26 (Dropout)         (None, 2, 128)            0         \n",
            "_________________________________________________________________\n",
            "max_pooling1d_1 (MaxPooling1 (None, 1, 128)            0         \n",
            "_________________________________________________________________\n",
            "global_average_pooling1d_1 ( (None, 128)               0         \n",
            "=================================================================\n",
            "Total params: 31,328\n",
            "Trainable params: 31,328\n",
            "Non-trainable params: 0\n",
            "_________________________________________________________________\n"
          ],
          "name": "stdout"
        }
      ]
    },
    {
      "cell_type": "markdown",
      "metadata": {
        "id": "ItYjlS08Vi19"
      },
      "source": [
        "### Concaténation"
      ]
    },
    {
      "cell_type": "code",
      "metadata": {
        "colab": {
          "base_uri": "https://localhost:8080/",
          "height": 1000
        },
        "id": "OZ5O_ZvoWPz0",
        "outputId": "0f3f09a1-6782-46d8-9251-6ff5fec77cab"
      },
      "source": [
        "concat = tf.keras.layers.Concatenate()([mlp_model.output, cnn1d_model.output])\n",
        "\n",
        "layer_c = Dense(256, activation='relu')(concat)\n",
        "layer_cc = Dropout(0.5)(layer_c)\n",
        "out_layer = Dense(5, activation='softmax')(layer_cc)\n",
        "\n",
        "new_model = tf.keras.Model(inputs=[mlp_model.input, cnn1d_model.input], outputs=out_layer)\n",
        "\n",
        "new_model.summary()\n",
        "tf.keras.utils.plot_model(new_model)"
      ],
      "execution_count": 110,
      "outputs": [
        {
          "output_type": "stream",
          "text": [
            "Model: \"functional_23\"\n",
            "__________________________________________________________________________________________________\n",
            "Layer (type)                    Output Shape         Param #     Connected to                     \n",
            "==================================================================================================\n",
            "input_8 (InputLayer)            [(None, 8, 4)]       0                                            \n",
            "__________________________________________________________________________________________________\n",
            "conv1d_3 (Conv1D)               (None, 6, 32)        416         input_8[0][0]                    \n",
            "__________________________________________________________________________________________________\n",
            "input_7 (InputLayer)            [(None, 32)]         0                                            \n",
            "__________________________________________________________________________________________________\n",
            "dropout_24 (Dropout)            (None, 6, 32)        0           conv1d_3[0][0]                   \n",
            "__________________________________________________________________________________________________\n",
            "dense_16 (Dense)                (None, 64)           2112        input_7[0][0]                    \n",
            "__________________________________________________________________________________________________\n",
            "conv1d_4 (Conv1D)               (None, 4, 64)        6208        dropout_24[0][0]                 \n",
            "__________________________________________________________________________________________________\n",
            "dropout_21 (Dropout)            (None, 64)           0           dense_16[0][0]                   \n",
            "__________________________________________________________________________________________________\n",
            "dropout_25 (Dropout)            (None, 4, 64)        0           conv1d_4[0][0]                   \n",
            "__________________________________________________________________________________________________\n",
            "dense_17 (Dense)                (None, 128)          8320        dropout_21[0][0]                 \n",
            "__________________________________________________________________________________________________\n",
            "conv1d_5 (Conv1D)               (None, 2, 128)       24704       dropout_25[0][0]                 \n",
            "__________________________________________________________________________________________________\n",
            "dropout_22 (Dropout)            (None, 128)          0           dense_17[0][0]                   \n",
            "__________________________________________________________________________________________________\n",
            "dropout_26 (Dropout)            (None, 2, 128)       0           conv1d_5[0][0]                   \n",
            "__________________________________________________________________________________________________\n",
            "dense_18 (Dense)                (None, 256)          33024       dropout_22[0][0]                 \n",
            "__________________________________________________________________________________________________\n",
            "max_pooling1d_1 (MaxPooling1D)  (None, 1, 128)       0           dropout_26[0][0]                 \n",
            "__________________________________________________________________________________________________\n",
            "dropout_23 (Dropout)            (None, 256)          0           dense_18[0][0]                   \n",
            "__________________________________________________________________________________________________\n",
            "global_average_pooling1d_1 (Glo (None, 128)          0           max_pooling1d_1[0][0]            \n",
            "__________________________________________________________________________________________________\n",
            "concatenate_3 (Concatenate)     (None, 384)          0           dropout_23[0][0]                 \n",
            "                                                                 global_average_pooling1d_1[0][0] \n",
            "__________________________________________________________________________________________________\n",
            "dense_19 (Dense)                (None, 256)          98560       concatenate_3[0][0]              \n",
            "__________________________________________________________________________________________________\n",
            "dropout_27 (Dropout)            (None, 256)          0           dense_19[0][0]                   \n",
            "__________________________________________________________________________________________________\n",
            "dense_20 (Dense)                (None, 5)            1285        dropout_27[0][0]                 \n",
            "==================================================================================================\n",
            "Total params: 174,629\n",
            "Trainable params: 174,629\n",
            "Non-trainable params: 0\n",
            "__________________________________________________________________________________________________\n"
          ],
          "name": "stdout"
        },
        {
          "output_type": "execute_result",
          "data": {
            "image/png": "[encoded data removed]",
            "text/plain": [
              "<IPython.core.display.Image object>"
            ]
          },
          "metadata": {
            "tags": []
          },
          "execution_count": 110
        }
      ]
    },
    {
      "cell_type": "markdown",
      "metadata": {
        "id": "qCWxKy0LXqP2"
      },
      "source": [
        "### Compilation et Entrainement"
      ]
    },
    {
      "cell_type": "code",
      "metadata": {
        "id": "fMuoY8BEW5hc"
      },
      "source": [
        "new_model.compile(optimizer='adam',loss=tf.keras.losses.SparseCategoricalCrossentropy(), metrics=['acc'])"
      ],
      "execution_count": 111,
      "outputs": []
    },
    {
      "cell_type": "code",
      "metadata": {
        "id": "efCYgR0tW8bT"
      },
      "source": [
        "Path('new_my_model_CNN1D_MLP').mkdir(exist_ok=True, parents=True)\n",
        "checkpointpath = os.path.join('my_model','new_model') # chemin où sauver le modèle\n",
        "callbacks = [tf.keras.callbacks.ModelCheckpoint(\n",
        "              checkpointpath,\n",
        "              verbose=1, # niveau de log\n",
        "              monitor='val_acc', # nom de la métrique à surveiller\n",
        "              save_best_only=True, # sauver uniquement le meilleur modèle\n",
        "              save_weights_only=True)] # sauver uniquement les poids"
      ],
      "execution_count": 112,
      "outputs": []
    },
    {
      "cell_type": "code",
      "metadata": {
        "colab": {
          "base_uri": "https://localhost:8080/"
        },
        "id": "9WQPvQv6XC9w",
        "outputId": "fb38ec51-46eb-4cbe-cafc-1980ba394eeb"
      },
      "source": [
        "BATCH_SIZE = 256\n",
        "EPOCHS = 50\n",
        "history = new_model.fit ([train_X[:,:,:].reshape(train_X.shape[0], -1), train_X], train_y_enc, validation_data=([valid_X[:,:,:].reshape(valid_X.shape[0], -1), valid_X],valid_y_enc), batch_size=BATCH_SIZE, epochs=EPOCHS, callbacks=callbacks)"
      ],
      "execution_count": 113,
      "outputs": [
        {
          "output_type": "stream",
          "text": [
            "Epoch 1/50\n",
            "1766/1766 [==============================] - ETA: 0s - loss: 0.4216 - acc: 0.8590\n",
            "Epoch 00001: val_acc improved from -inf to 0.87708, saving model to my_model/new_model\n",
            "1766/1766 [==============================] - 9s 5ms/step - loss: 0.4216 - acc: 0.8590 - val_loss: 0.3249 - val_acc: 0.8771\n",
            "Epoch 2/50\n",
            "1764/1766 [============================>.] - ETA: 0s - loss: 0.3199 - acc: 0.8912\n",
            "Epoch 00002: val_acc improved from 0.87708 to 0.87904, saving model to my_model/new_model\n",
            "1766/1766 [==============================] - 9s 5ms/step - loss: 0.3198 - acc: 0.8912 - val_loss: 0.3366 - val_acc: 0.8790\n",
            "Epoch 3/50\n",
            "1764/1766 [============================>.] - ETA: 0s - loss: 0.2876 - acc: 0.9009\n",
            "Epoch 00003: val_acc improved from 0.87904 to 0.88386, saving model to my_model/new_model\n",
            "1766/1766 [==============================] - 9s 5ms/step - loss: 0.2876 - acc: 0.9010 - val_loss: 0.3195 - val_acc: 0.8839\n",
            "Epoch 4/50\n",
            "1760/1766 [============================>.] - ETA: 0s - loss: 0.2691 - acc: 0.9067\n",
            "Epoch 00004: val_acc improved from 0.88386 to 0.89560, saving model to my_model/new_model\n",
            "1766/1766 [==============================] - 9s 5ms/step - loss: 0.2690 - acc: 0.9067 - val_loss: 0.2869 - val_acc: 0.8956\n",
            "Epoch 5/50\n",
            "1765/1766 [============================>.] - ETA: 0s - loss: 0.2555 - acc: 0.9108\n",
            "Epoch 00005: val_acc did not improve from 0.89560\n",
            "1766/1766 [==============================] - 10s 5ms/step - loss: 0.2555 - acc: 0.9108 - val_loss: 0.2972 - val_acc: 0.8929\n",
            "Epoch 6/50\n",
            "1761/1766 [============================>.] - ETA: 0s - loss: 0.2440 - acc: 0.9149\n",
            "Epoch 00006: val_acc improved from 0.89560 to 0.89668, saving model to my_model/new_model\n",
            "1766/1766 [==============================] - 9s 5ms/step - loss: 0.2440 - acc: 0.9149 - val_loss: 0.2901 - val_acc: 0.8967\n",
            "Epoch 7/50\n",
            "1764/1766 [============================>.] - ETA: 0s - loss: 0.2352 - acc: 0.9178\n",
            "Epoch 00007: val_acc did not improve from 0.89668\n",
            "1766/1766 [==============================] - 9s 5ms/step - loss: 0.2352 - acc: 0.9178 - val_loss: 0.3091 - val_acc: 0.8918\n",
            "Epoch 8/50\n",
            "1759/1766 [============================>.] - ETA: 0s - loss: 0.2288 - acc: 0.9195\n",
            "Epoch 00008: val_acc did not improve from 0.89668\n",
            "1766/1766 [==============================] - 9s 5ms/step - loss: 0.2288 - acc: 0.9195 - val_loss: 0.2956 - val_acc: 0.8965\n",
            "Epoch 9/50\n",
            "1766/1766 [==============================] - ETA: 0s - loss: 0.2214 - acc: 0.9223\n",
            "Epoch 00009: val_acc improved from 0.89668 to 0.89669, saving model to my_model/new_model\n",
            "1766/1766 [==============================] - 10s 6ms/step - loss: 0.2214 - acc: 0.9223 - val_loss: 0.2936 - val_acc: 0.8967\n",
            "Epoch 10/50\n",
            "1755/1766 [============================>.] - ETA: 0s - loss: 0.2163 - acc: 0.9239\n",
            "Epoch 00010: val_acc improved from 0.89669 to 0.89724, saving model to my_model/new_model\n",
            "1766/1766 [==============================] - 9s 5ms/step - loss: 0.2162 - acc: 0.9239 - val_loss: 0.3005 - val_acc: 0.8972\n",
            "Epoch 11/50\n",
            "1759/1766 [============================>.] - ETA: 0s - loss: 0.2100 - acc: 0.9259\n",
            "Epoch 00011: val_acc did not improve from 0.89724\n",
            "1766/1766 [==============================] - 9s 5ms/step - loss: 0.2100 - acc: 0.9259 - val_loss: 0.3089 - val_acc: 0.8943\n",
            "Epoch 12/50\n",
            "1764/1766 [============================>.] - ETA: 0s - loss: 0.2072 - acc: 0.9272\n",
            "Epoch 00012: val_acc did not improve from 0.89724\n",
            "1766/1766 [==============================] - 9s 5ms/step - loss: 0.2072 - acc: 0.9272 - val_loss: 0.3077 - val_acc: 0.8916\n",
            "Epoch 13/50\n",
            "1755/1766 [============================>.] - ETA: 0s - loss: 0.2032 - acc: 0.9285\n",
            "Epoch 00013: val_acc did not improve from 0.89724\n",
            "1766/1766 [==============================] - 9s 5ms/step - loss: 0.2032 - acc: 0.9286 - val_loss: 0.3005 - val_acc: 0.8932\n",
            "Epoch 14/50\n",
            "1758/1766 [============================>.] - ETA: 0s - loss: 0.1999 - acc: 0.9295\n",
            "Epoch 00014: val_acc did not improve from 0.89724\n",
            "1766/1766 [==============================] - 9s 5ms/step - loss: 0.1999 - acc: 0.9295 - val_loss: 0.3004 - val_acc: 0.8938\n",
            "Epoch 15/50\n",
            "1766/1766 [==============================] - ETA: 0s - loss: 0.1960 - acc: 0.9311\n",
            "Epoch 00015: val_acc did not improve from 0.89724\n",
            "1766/1766 [==============================] - 10s 5ms/step - loss: 0.1960 - acc: 0.9311 - val_loss: 0.3063 - val_acc: 0.8954\n",
            "Epoch 16/50\n",
            "1759/1766 [============================>.] - ETA: 0s - loss: 0.1936 - acc: 0.9316\n",
            "Epoch 00016: val_acc did not improve from 0.89724\n",
            "1766/1766 [==============================] - 9s 5ms/step - loss: 0.1936 - acc: 0.9317 - val_loss: 0.3160 - val_acc: 0.8922\n",
            "Epoch 17/50\n",
            "1760/1766 [============================>.] - ETA: 0s - loss: 0.1914 - acc: 0.9327\n",
            "Epoch 00017: val_acc did not improve from 0.89724\n",
            "1766/1766 [==============================] - 9s 5ms/step - loss: 0.1914 - acc: 0.9327 - val_loss: 0.3165 - val_acc: 0.8943\n",
            "Epoch 18/50\n",
            "1760/1766 [============================>.] - ETA: 0s - loss: 0.1887 - acc: 0.9336\n",
            "Epoch 00018: val_acc did not improve from 0.89724\n",
            "1766/1766 [==============================] - 9s 5ms/step - loss: 0.1887 - acc: 0.9336 - val_loss: 0.3336 - val_acc: 0.8855\n",
            "Epoch 19/50\n",
            "1759/1766 [============================>.] - ETA: 0s - loss: 0.1861 - acc: 0.9343\n",
            "Epoch 00019: val_acc did not improve from 0.89724\n",
            "1766/1766 [==============================] - 9s 5ms/step - loss: 0.1861 - acc: 0.9343 - val_loss: 0.3268 - val_acc: 0.8921\n",
            "Epoch 20/50\n",
            "1758/1766 [============================>.] - ETA: 0s - loss: 0.1847 - acc: 0.9350\n",
            "Epoch 00020: val_acc did not improve from 0.89724\n",
            "1766/1766 [==============================] - 9s 5ms/step - loss: 0.1846 - acc: 0.9350 - val_loss: 0.3257 - val_acc: 0.8921\n",
            "Epoch 21/50\n",
            "1765/1766 [============================>.] - ETA: 0s - loss: 0.1822 - acc: 0.9355\n",
            "Epoch 00021: val_acc did not improve from 0.89724\n",
            "1766/1766 [==============================] - 9s 5ms/step - loss: 0.1822 - acc: 0.9355 - val_loss: 0.3265 - val_acc: 0.8942\n",
            "Epoch 22/50\n",
            "1766/1766 [==============================] - ETA: 0s - loss: 0.1809 - acc: 0.9362\n",
            "Epoch 00022: val_acc did not improve from 0.89724\n",
            "1766/1766 [==============================] - 9s 5ms/step - loss: 0.1809 - acc: 0.9362 - val_loss: 0.3332 - val_acc: 0.8905\n",
            "Epoch 23/50\n",
            "1761/1766 [============================>.] - ETA: 0s - loss: 0.1792 - acc: 0.9365\n",
            "Epoch 00023: val_acc did not improve from 0.89724\n",
            "1766/1766 [==============================] - 9s 5ms/step - loss: 0.1792 - acc: 0.9365 - val_loss: 0.3355 - val_acc: 0.8850\n",
            "Epoch 24/50\n",
            "1757/1766 [============================>.] - ETA: 0s - loss: 0.1771 - acc: 0.9376\n",
            "Epoch 00024: val_acc did not improve from 0.89724\n",
            "1766/1766 [==============================] - 9s 5ms/step - loss: 0.1771 - acc: 0.9376 - val_loss: 0.3236 - val_acc: 0.8879\n",
            "Epoch 25/50\n",
            "1758/1766 [============================>.] - ETA: 0s - loss: 0.1758 - acc: 0.9378\n",
            "Epoch 00025: val_acc did not improve from 0.89724\n",
            "1766/1766 [==============================] - 9s 5ms/step - loss: 0.1758 - acc: 0.9378 - val_loss: 0.3273 - val_acc: 0.8936\n",
            "Epoch 26/50\n",
            "1765/1766 [============================>.] - ETA: 0s - loss: 0.1760 - acc: 0.9379\n",
            "Epoch 00026: val_acc did not improve from 0.89724\n",
            "1766/1766 [==============================] - 9s 5ms/step - loss: 0.1760 - acc: 0.9379 - val_loss: 0.3267 - val_acc: 0.8914\n",
            "Epoch 27/50\n",
            "1754/1766 [============================>.] - ETA: 0s - loss: 0.1744 - acc: 0.9386\n",
            "Epoch 00027: val_acc did not improve from 0.89724\n",
            "1766/1766 [==============================] - 9s 5ms/step - loss: 0.1743 - acc: 0.9386 - val_loss: 0.3180 - val_acc: 0.8938\n",
            "Epoch 28/50\n",
            "1762/1766 [============================>.] - ETA: 0s - loss: 0.1725 - acc: 0.9390\n",
            "Epoch 00028: val_acc did not improve from 0.89724\n",
            "1766/1766 [==============================] - 8s 5ms/step - loss: 0.1725 - acc: 0.9390 - val_loss: 0.3287 - val_acc: 0.8922\n",
            "Epoch 29/50\n",
            "1763/1766 [============================>.] - ETA: 0s - loss: 0.1713 - acc: 0.9393\n",
            "Epoch 00029: val_acc did not improve from 0.89724\n",
            "1766/1766 [==============================] - 9s 5ms/step - loss: 0.1714 - acc: 0.9393 - val_loss: 0.3352 - val_acc: 0.8892\n",
            "Epoch 30/50\n",
            "1765/1766 [============================>.] - ETA: 0s - loss: 0.1695 - acc: 0.9402\n",
            "Epoch 00030: val_acc did not improve from 0.89724\n",
            "1766/1766 [==============================] - 9s 5ms/step - loss: 0.1694 - acc: 0.9402 - val_loss: 0.3484 - val_acc: 0.8868\n",
            "Epoch 31/50\n",
            "1766/1766 [==============================] - ETA: 0s - loss: 0.1692 - acc: 0.9402\n",
            "Epoch 00031: val_acc did not improve from 0.89724\n",
            "1766/1766 [==============================] - 9s 5ms/step - loss: 0.1692 - acc: 0.9402 - val_loss: 0.3412 - val_acc: 0.8882\n",
            "Epoch 32/50\n",
            "1756/1766 [============================>.] - ETA: 0s - loss: 0.1678 - acc: 0.9408\n",
            "Epoch 00032: val_acc did not improve from 0.89724\n",
            "1766/1766 [==============================] - 9s 5ms/step - loss: 0.1679 - acc: 0.9408 - val_loss: 0.3417 - val_acc: 0.8889\n",
            "Epoch 33/50\n",
            "1756/1766 [============================>.] - ETA: 0s - loss: 0.1674 - acc: 0.9412\n",
            "Epoch 00033: val_acc did not improve from 0.89724\n",
            "1766/1766 [==============================] - 8s 5ms/step - loss: 0.1674 - acc: 0.9412 - val_loss: 0.3461 - val_acc: 0.8898\n",
            "Epoch 34/50\n",
            "1764/1766 [============================>.] - ETA: 0s - loss: 0.1656 - acc: 0.9416\n",
            "Epoch 00034: val_acc did not improve from 0.89724\n",
            "1766/1766 [==============================] - 8s 5ms/step - loss: 0.1657 - acc: 0.9415 - val_loss: 0.3434 - val_acc: 0.8881\n",
            "Epoch 35/50\n",
            "1766/1766 [==============================] - ETA: 0s - loss: 0.1648 - acc: 0.9419\n",
            "Epoch 00035: val_acc did not improve from 0.89724\n",
            "1766/1766 [==============================] - 9s 5ms/step - loss: 0.1648 - acc: 0.9419 - val_loss: 0.3555 - val_acc: 0.8833\n",
            "Epoch 36/50\n",
            "1761/1766 [============================>.] - ETA: 0s - loss: 0.1647 - acc: 0.9418\n",
            "Epoch 00036: val_acc did not improve from 0.89724\n",
            "1766/1766 [==============================] - 8s 5ms/step - loss: 0.1647 - acc: 0.9418 - val_loss: 0.3543 - val_acc: 0.8857\n",
            "Epoch 37/50\n",
            "1764/1766 [============================>.] - ETA: 0s - loss: 0.1632 - acc: 0.9424\n",
            "Epoch 00037: val_acc did not improve from 0.89724\n",
            "1766/1766 [==============================] - 8s 5ms/step - loss: 0.1632 - acc: 0.9424 - val_loss: 0.3329 - val_acc: 0.8894\n",
            "Epoch 38/50\n",
            "1764/1766 [============================>.] - ETA: 0s - loss: 0.1628 - acc: 0.9425\n",
            "Epoch 00038: val_acc did not improve from 0.89724\n",
            "1766/1766 [==============================] - 8s 5ms/step - loss: 0.1628 - acc: 0.9425 - val_loss: 0.3359 - val_acc: 0.8879\n",
            "Epoch 39/50\n",
            "1763/1766 [============================>.] - ETA: 0s - loss: 0.1619 - acc: 0.9428\n",
            "Epoch 00039: val_acc did not improve from 0.89724\n",
            "1766/1766 [==============================] - 8s 5ms/step - loss: 0.1619 - acc: 0.9428 - val_loss: 0.3280 - val_acc: 0.8923\n",
            "Epoch 40/50\n",
            "1760/1766 [============================>.] - ETA: 0s - loss: 0.1611 - acc: 0.9431\n",
            "Epoch 00040: val_acc did not improve from 0.89724\n",
            "1766/1766 [==============================] - 9s 5ms/step - loss: 0.1611 - acc: 0.9431 - val_loss: 0.3346 - val_acc: 0.8884\n",
            "Epoch 41/50\n",
            "1763/1766 [============================>.] - ETA: 0s - loss: 0.1596 - acc: 0.9438\n",
            "Epoch 00041: val_acc did not improve from 0.89724\n",
            "1766/1766 [==============================] - 8s 5ms/step - loss: 0.1596 - acc: 0.9438 - val_loss: 0.3542 - val_acc: 0.8841\n",
            "Epoch 42/50\n",
            "1766/1766 [==============================] - ETA: 0s - loss: 0.1592 - acc: 0.9437\n",
            "Epoch 00042: val_acc did not improve from 0.89724\n",
            "1766/1766 [==============================] - 8s 5ms/step - loss: 0.1592 - acc: 0.9437 - val_loss: 0.3311 - val_acc: 0.8930\n",
            "Epoch 43/50\n",
            "1759/1766 [============================>.] - ETA: 0s - loss: 0.1588 - acc: 0.9440\n",
            "Epoch 00043: val_acc did not improve from 0.89724\n",
            "1766/1766 [==============================] - 8s 5ms/step - loss: 0.1588 - acc: 0.9441 - val_loss: 0.3564 - val_acc: 0.8851\n",
            "Epoch 44/50\n",
            "1765/1766 [============================>.] - ETA: 0s - loss: 0.1584 - acc: 0.9441\n",
            "Epoch 00044: val_acc did not improve from 0.89724\n",
            "1766/1766 [==============================] - 9s 5ms/step - loss: 0.1585 - acc: 0.9441 - val_loss: 0.3451 - val_acc: 0.8888\n",
            "Epoch 45/50\n",
            "1766/1766 [==============================] - ETA: 0s - loss: 0.1575 - acc: 0.9445\n",
            "Epoch 00045: val_acc did not improve from 0.89724\n",
            "1766/1766 [==============================] - 9s 5ms/step - loss: 0.1575 - acc: 0.9445 - val_loss: 0.3389 - val_acc: 0.8876\n",
            "Epoch 46/50\n",
            "1765/1766 [============================>.] - ETA: 0s - loss: 0.1567 - acc: 0.9446\n",
            "Epoch 00046: val_acc did not improve from 0.89724\n",
            "1766/1766 [==============================] - 8s 5ms/step - loss: 0.1567 - acc: 0.9446 - val_loss: 0.3521 - val_acc: 0.8866\n",
            "Epoch 47/50\n",
            "1758/1766 [============================>.] - ETA: 0s - loss: 0.1572 - acc: 0.9448\n",
            "Epoch 00047: val_acc did not improve from 0.89724\n",
            "1766/1766 [==============================] - 9s 5ms/step - loss: 0.1571 - acc: 0.9449 - val_loss: 0.3283 - val_acc: 0.8895\n",
            "Epoch 48/50\n",
            "1754/1766 [============================>.] - ETA: 0s - loss: 0.1561 - acc: 0.9450\n",
            "Epoch 00048: val_acc did not improve from 0.89724\n",
            "1766/1766 [==============================] - 8s 5ms/step - loss: 0.1560 - acc: 0.9450 - val_loss: 0.3396 - val_acc: 0.8912\n",
            "Epoch 49/50\n",
            "1764/1766 [============================>.] - ETA: 0s - loss: 0.1549 - acc: 0.9450\n",
            "Epoch 00049: val_acc did not improve from 0.89724\n",
            "1766/1766 [==============================] - 9s 5ms/step - loss: 0.1549 - acc: 0.9450 - val_loss: 0.3309 - val_acc: 0.8907\n",
            "Epoch 50/50\n",
            "1761/1766 [============================>.] - ETA: 0s - loss: 0.1541 - acc: 0.9452\n",
            "Epoch 00050: val_acc did not improve from 0.89724\n",
            "1766/1766 [==============================] - 9s 5ms/step - loss: 0.1542 - acc: 0.9452 - val_loss: 0.3492 - val_acc: 0.8876\n"
          ],
          "name": "stdout"
        }
      ]
    },
    {
      "cell_type": "code",
      "metadata": {
        "colab": {
          "base_uri": "https://localhost:8080/"
        },
        "id": "aduCVjdQby_I",
        "outputId": "31ce901b-f71e-4cc8-8bd6-bbeac6611ab6"
      },
      "source": [
        "new_model.load_weights(checkpointpath)\n",
        "# S'assurer que c'est bien le meilleur modèle sur les époques d'entraînement\n",
        "new_model.evaluate([valid_X[:,:,:].reshape(valid_X.shape[0], -1), valid_X],valid_y_enc,batch_size=256)"
      ],
      "execution_count": 114,
      "outputs": [
        {
          "output_type": "stream",
          "text": [
            "600/600 [==============================] - 1s 2ms/step - loss: 0.3005 - acc: 0.8972\n"
          ],
          "name": "stdout"
        },
        {
          "output_type": "execute_result",
          "data": {
            "text/plain": [
              "[0.30048877000808716, 0.897243082523346]"
            ]
          },
          "metadata": {
            "tags": []
          },
          "execution_count": 114
        }
      ]
    },
    {
      "cell_type": "code",
      "metadata": {
        "id": "BbdkIDS6vJ0I",
        "colab": {
          "base_uri": "https://localhost:8080/",
          "height": 316
        },
        "outputId": "9001c779-83af-46b0-86f3-49b20dff667e"
      },
      "source": [
        "import matplotlib.pyplot as plt\n",
        "plt.style.use(\"ggplot\")\n",
        "plt.figure()\n",
        "\n",
        "plt.plot(np.arange(0, EPOCHS), history.history[\"acc\"], label=\"train_acc\")\n",
        "plt.plot(np.arange(0, EPOCHS), history.history[\"val_acc\"], label=\"val_acc\")\n",
        "plt.plot(np.arange(0, EPOCHS), history.history[\"loss\"], label=\"train_loss\")\n",
        "plt.plot(np.arange(0, EPOCHS), history.history[\"val_loss\"], label=\"val_loss\")\n",
        "plt.title(\"Accuracy et loss sur le Dataset\")\n",
        "plt.xlabel(\"Epoch #\")\n",
        "plt.ylabel(\"Accuracy/Loss\")\n",
        "plt.legend(loc=\"center right\")"
      ],
      "execution_count": 115,
      "outputs": [
        {
          "output_type": "execute_result",
          "data": {
            "text/plain": [
              "<matplotlib.legend.Legend at 0x7fb70029acc0>"
            ]
          },
          "metadata": {
            "tags": []
          },
          "execution_count": 115
        },
        {
          "output_type": "display_data",
          "data": {
            "image/png": "[encoded data removed]",
            "text/plain": [
              "<Figure size 432x288 with 1 Axes>"
            ]
          },
          "metadata": {
            "tags": []
          }
        }
      ]
    },
    {
      "cell_type": "markdown",
      "metadata": {
        "id": "Z272XceXZXbW"
      },
      "source": [
        "### Prédiction des classes sur le jeu de validation et évaluation en aggrégeant au niveau objet"
      ]
    },
    {
      "cell_type": "code",
      "metadata": {
        "id": "HF_bBBBiZads",
        "colab": {
          "base_uri": "https://localhost:8080/"
        },
        "outputId": "6fc1db13-ca81-4883-ef92-e96efebafaf5"
      },
      "source": [
        "# Récupérer les probabilités prédites sur le jeu de validation\n",
        "#valid_prob = model.predict(valid_X,batch_size=256) # anciene modele\n",
        "valid_prob = new_model.predict([valid_X[:,:,:].reshape(valid_X.shape[0], -1), valid_X],batch_size=256) # pour le modele de avec cnn2d et mlp ensemble\n",
        "valid_prob.shape"
      ],
      "execution_count": 116,
      "outputs": [
        {
          "output_type": "execute_result",
          "data": {
            "text/plain": [
              "(153469, 5)"
            ]
          },
          "metadata": {
            "tags": []
          },
          "execution_count": 116
        }
      ]
    },
    {
      "cell_type": "code",
      "metadata": {
        "id": "FXaZI6tYZcbw",
        "colab": {
          "base_uri": "https://localhost:8080/"
        },
        "outputId": "14d3f2b5-df1f-4e9b-db20-b207fa1495dd"
      },
      "source": [
        "# Retourner la classe correspondant à la probabilité la plus haute\n",
        "valid_pred = np.argmax(valid_prob,axis=1) # axe 1 car ceci concerne chaque ligne\n",
        "valid_pred.shape\n",
        "valid_pred.view()"
      ],
      "execution_count": 117,
      "outputs": [
        {
          "output_type": "execute_result",
          "data": {
            "text/plain": [
              "array([1, 1, 2, ..., 4, 4, 4])"
            ]
          },
          "metadata": {
            "tags": []
          },
          "execution_count": 117
        }
      ]
    },
    {
      "cell_type": "code",
      "metadata": {
        "id": "zX0dNVrcZelW",
        "colab": {
          "base_uri": "https://localhost:8080/"
        },
        "outputId": "ed7fa442-a440-462d-fafe-63f74d4d3493"
      },
      "source": [
        "# Je réencode les prédictions entre 1 et 5\n",
        "valid_pred_enc = encoder.inverse_transform(valid_pred)\n",
        "np.unique(valid_pred_enc)"
      ],
      "execution_count": 118,
      "outputs": [
        {
          "output_type": "execute_result",
          "data": {
            "text/plain": [
              "array([1, 2, 3, 4, 5], dtype=uint8)"
            ]
          },
          "metadata": {
            "tags": []
          },
          "execution_count": 118
        }
      ]
    },
    {
      "cell_type": "code",
      "metadata": {
        "id": "iLSul4NOZ4ai",
        "colab": {
          "base_uri": "https://localhost:8080/"
        },
        "outputId": "fb845f48-75e7-4d99-e1d3-0499242a65ba"
      },
      "source": [
        "# Aggrégation au niveau objet\n",
        "out_pred = []\n",
        "unique_id = np.unique(valid_id)\n",
        "for ID in unique_id :\n",
        "    # Récupérer les prédictions des pixels appartenant au même objet\n",
        "    pred = valid_pred_enc[np.where(valid_id==ID)]\n",
        "    y_true = valid_y[np.where(valid_id==ID)]\n",
        "    # Prendre la valeur majoritaire des prédictions sur les pixels\n",
        "    out_pred.append([ np.bincount(y_true).argmax(), np.bincount(pred).argmax()]) #(Vérité terrain,Prédiction majoritaire)\n",
        "out_pred = np.vstack(out_pred)\n",
        "out_pred.shape"
      ],
      "execution_count": 119,
      "outputs": [
        {
          "output_type": "execute_result",
          "data": {
            "text/plain": [
              "(558, 2)"
            ]
          },
          "metadata": {
            "tags": []
          },
          "execution_count": 119
        }
      ]
    },
    {
      "cell_type": "code",
      "metadata": {
        "id": "M3sfwNP_ZyGS",
        "colab": {
          "base_uri": "https://localhost:8080/"
        },
        "outputId": "f3a6d9dc-e95a-4c40-8db5-ec6063227532"
      },
      "source": [
        "# F1 score au niveau objet\n",
        "f1_score(out_pred[:,0],out_pred[:,1],average='weighted')"
      ],
      "execution_count": 120,
      "outputs": [
        {
          "output_type": "execute_result",
          "data": {
            "text/plain": [
              "0.8554139468249394"
            ]
          },
          "metadata": {
            "tags": []
          },
          "execution_count": 120
        }
      ]
    },
    {
      "cell_type": "markdown",
      "metadata": {
        "id": "PmPveM4md2HG"
      },
      "source": [
        "### Prédire sur le jeu test et Préparer une soumission"
      ]
    },
    {
      "cell_type": "code",
      "metadata": {
        "id": "Qcyb5fRQd1rD",
        "colab": {
          "base_uri": "https://localhost:8080/"
        },
        "outputId": "108dddab-ffad-4da0-e4a3-a07ee19112a3"
      },
      "source": [
        "# Récupérer les probabilités prédites sur le jeu test\n",
        "# test_prob = new_model.predict(test_X, batch_size=256) ancien pour predir d'un seul modele \n",
        "test_prob = new_model.predict([test_X[:,:,:].reshape(test_X.shape[0], -1), test_X],batch_size=256) # prédiction de deux modeles combiné\n",
        "test_prob.shape"
      ],
      "execution_count": 121,
      "outputs": [
        {
          "output_type": "execute_result",
          "data": {
            "text/plain": [
              "(207485, 5)"
            ]
          },
          "metadata": {
            "tags": []
          },
          "execution_count": 121
        }
      ]
    },
    {
      "cell_type": "code",
      "metadata": {
        "id": "q-diBeSad53D",
        "colab": {
          "base_uri": "https://localhost:8080/"
        },
        "outputId": "0b0abfee-7bec-49b9-93b2-1ab86a1d359a"
      },
      "source": [
        "# Retourner la classe correspondant à la probabilité la plus haute\n",
        "test_pred = np.argmax(test_prob,axis=1) # axe 1 car ceci concerne chaque ligne\n",
        "test_pred.shape"
      ],
      "execution_count": 122,
      "outputs": [
        {
          "output_type": "execute_result",
          "data": {
            "text/plain": [
              "(207485,)"
            ]
          },
          "metadata": {
            "tags": []
          },
          "execution_count": 122
        }
      ]
    },
    {
      "cell_type": "code",
      "metadata": {
        "id": "qQRiSHQQd-fV",
        "colab": {
          "base_uri": "https://localhost:8080/"
        },
        "outputId": "1377b4b2-e47f-4c3a-c32e-7b7c24f81c9d"
      },
      "source": [
        "# Je réencode les prédictions entre 1 et 5\n",
        "test_pred_enc = encoder.inverse_transform(test_pred)\n",
        "np.unique(test_pred_enc)"
      ],
      "execution_count": 123,
      "outputs": [
        {
          "output_type": "execute_result",
          "data": {
            "text/plain": [
              "array([1, 2, 3, 4, 5], dtype=uint8)"
            ]
          },
          "metadata": {
            "tags": []
          },
          "execution_count": 123
        }
      ]
    },
    {
      "cell_type": "code",
      "metadata": {
        "id": "z7XBgQRmeBJY",
        "colab": {
          "base_uri": "https://localhost:8080/"
        },
        "outputId": "ef00d598-a0ce-4c87-e7ba-c242551a7d6c"
      },
      "source": [
        "# Aggrégation au niveau objet\n",
        "agg_pred = []\n",
        "unique_id = np.unique(test_id)\n",
        "for ID in unique_id :\n",
        "    # Récupérer les prédictions des pixels appartenant au même objet\n",
        "    pred = test_pred_enc[np.where(test_id==ID)]\n",
        "    # Prendre la valeur majoritaire des prédictions sur les pixels\n",
        "    agg_pred.append([ ID, np.bincount(pred).argmax()]) #(ID,Prédiction majoritaire)\n",
        "agg_pred = np.vstack(agg_pred)\n",
        "agg_pred.shape"
      ],
      "execution_count": 124,
      "outputs": [
        {
          "output_type": "execute_result",
          "data": {
            "text/plain": [
              "(800, 2)"
            ]
          },
          "metadata": {
            "tags": []
          },
          "execution_count": 124
        }
      ]
    },
    {
      "cell_type": "code",
      "metadata": {
        "id": "0ChTK3cVeDsC",
        "colab": {
          "base_uri": "https://localhost:8080/",
          "height": 197
        },
        "outputId": "1f73a427-b03f-4814-f9a0-9d524d7c2026"
      },
      "source": [
        "df = pd.DataFrame({'ID':agg_pred[:,0],'Class':agg_pred[:,1]})\n",
        "df.to_csv('Soumission_StefanMinyoungRaidh(1).csv',index=False)\n",
        "df.head(5)"
      ],
      "execution_count": 125,
      "outputs": [
        {
          "output_type": "execute_result",
          "data": {
            "text/html": [
              "<div>\n",
              "<style scoped>\n",
              "    .dataframe tbody tr th:only-of-type {\n",
              "        vertical-align: middle;\n",
              "    }\n",
              "\n",
              "    .dataframe tbody tr th {\n",
              "        vertical-align: top;\n",
              "    }\n",
              "\n",
              "    .dataframe thead th {\n",
              "        text-align: right;\n",
              "    }\n",
              "</style>\n",
              "<table border=\"1\" class=\"dataframe\">\n",
              "  <thead>\n",
              "    <tr style=\"text-align: right;\">\n",
              "      <th></th>\n",
              "      <th>ID</th>\n",
              "      <th>Class</th>\n",
              "    </tr>\n",
              "  </thead>\n",
              "  <tbody>\n",
              "    <tr>\n",
              "      <th>0</th>\n",
              "      <td>4</td>\n",
              "      <td>5</td>\n",
              "    </tr>\n",
              "    <tr>\n",
              "      <th>1</th>\n",
              "      <td>7</td>\n",
              "      <td>3</td>\n",
              "    </tr>\n",
              "    <tr>\n",
              "      <th>2</th>\n",
              "      <td>8</td>\n",
              "      <td>5</td>\n",
              "    </tr>\n",
              "    <tr>\n",
              "      <th>3</th>\n",
              "      <td>9</td>\n",
              "      <td>3</td>\n",
              "    </tr>\n",
              "    <tr>\n",
              "      <th>4</th>\n",
              "      <td>10</td>\n",
              "      <td>3</td>\n",
              "    </tr>\n",
              "  </tbody>\n",
              "</table>\n",
              "</div>"
            ],
            "text/plain": [
              "   ID  Class\n",
              "0   4      5\n",
              "1   7      3\n",
              "2   8      5\n",
              "3   9      3\n",
              "4  10      3"
            ]
          },
          "metadata": {
            "tags": []
          },
          "execution_count": 125
        }
      ]
    },
    {
      "cell_type": "code",
      "metadata": {
        "id": "HfgjBz5deEK4",
        "colab": {
          "base_uri": "https://localhost:8080/"
        },
        "outputId": "96d51f63-05ea-4123-d522-34cdaf1bf45a"
      },
      "source": [
        "# F1 Score au niveau objet\n",
        "!ls\n",
        "df_test = pd.read_csv('Test_ID_Label.csv') # Ce fichier vous sera fourni le 12 Novembre\n",
        "f1_score(df_test.Class,df.Class,average='weighted')"
      ],
      "execution_count": 126,
      "outputs": [
        {
          "output_type": "stream",
          "text": [
            " data\t\t\t  new_my_modelCNN2D_MLP\n",
            " Images\t\t\t  Soumission_NomDuGroupe.csv\n",
            " model.png\t\t 'Soumission_StefanMinyoungRaidh(1).csv'\n",
            " my_model\t\t  Soumission_StefanMinyoungRaidh.csv\n",
            " my_modelCNN2D\t\t  Test_ID_Label.csv\n",
            " new_my_model_CNN1D_MLP   Verite_terrain\n"
          ],
          "name": "stdout"
        },
        {
          "output_type": "execute_result",
          "data": {
            "text/plain": [
              "0.8307407750470205"
            ]
          },
          "metadata": {
            "tags": []
          },
          "execution_count": 126
        }
      ]
    }
  ]
}