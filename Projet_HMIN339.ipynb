{
  "nbformat": 4,
  "nbformat_minor": 0,
  "metadata": {
    "accelerator": "GPU",
    "colab": {
      "name": "Copy of Projet_HMIN339M_light.ipynb",
      "provenance": [],
      "collapsed_sections": [
        "_pJr2QX16y0C",
        "vI65qFkLjyEY",
        "PXS90K1Vsg4H",
        "YqabJEyUtgPX",
        "oRTUKBQBwd1V",
        "wmBRjg3QFrLe",
        "rufBNVedP3_M",
        "LC1y2sOxQVqF",
        "7BvfaC-WQx8S",
        "K23T_c-EAj_z",
        "GpH3oJPVE3uE",
        "X5ffn-HfXWXq",
        "wIjEOLLJGLSJ",
        "FQbCM_T3GQ6M",
        "f2ksSpJGF1gP",
        "aLKCHopeIIet",
        "ozHZJ2CZH72X",
        "n8LxITTsM856",
        "dQ969YI-NzZG",
        "3Yfz7brJN_8Y",
        "dfvnw6PbPTwk",
        "kJ6bUQyjPlsa",
        "MKymPhOu19Sp",
        "mUPw6KmaU8DU",
        "ItYjlS08Vi19"
      ]
    },
    "kernelspec": {
      "display_name": "Python 3",
      "name": "python3"
    }
  },
  "cells": [
    {
      "cell_type": "markdown",
      "metadata": {
        "id": "_pJr2QX16y0C"
      },
      "source": [
        "\n",
        "\n",
        "# **Préparer les données**"
      ]
    },
    {
      "cell_type": "markdown",
      "metadata": {
        "id": "vI65qFkLjyEY"
      },
      "source": [
        "### **Monter le dossier dans Drive**"
      ]
    },
    {
      "cell_type": "code",
      "metadata": {
        "colab": {
          "base_uri": "https://localhost:8080/"
        },
        "id": "DVb5j_uZDvRs",
        "outputId": "8982c0d5-998a-402f-f5c3-19353e3e1241"
      },
      "source": [
        "from google.colab import drive\n",
        "drive.mount('/content/drive')"
      ],
      "execution_count": null,
      "outputs": [
        {
          "output_type": "stream",
          "text": [
            "Mounted at /content/drive\n"
          ],
          "name": "stdout"
        }
      ]
    },
    {
      "cell_type": "code",
      "metadata": {
        "id": "9DcknGEsEkrE"
      },
      "source": [
        "import os\n",
        "os.chdir('/content/drive/My Drive/Projet_HMIN339M')"
      ],
      "execution_count": null,
      "outputs": []
    },
    {
      "cell_type": "markdown",
      "metadata": {
        "id": "uEIWGiCq_s3g"
      },
      "source": [
        "### **Importation de quelques librairies**"
      ]
    },
    {
      "cell_type": "code",
      "metadata": {
        "id": "0HzSSHr5ooul"
      },
      "source": [
        "import numpy as np\n",
        "import tifffile\n",
        "import glob\n",
        "from pathlib import Path\n",
        "import pandas as pd"
      ],
      "execution_count": null,
      "outputs": []
    },
    {
      "cell_type": "markdown",
      "metadata": {
        "id": "wVrWVyvfkBDD"
      },
      "source": [
        "### **Lecture de la série temporelle d'images et Normalisation par bande sur la série temporelle entre 0 et 1** "
      ]
    },
    {
      "cell_type": "markdown",
      "metadata": {
        "id": "95CB2_IllQFu"
      },
      "source": [
        "#### **Lecture des images et création des séries temporelles de bandes**"
      ]
    },
    {
      "cell_type": "code",
      "metadata": {
        "colab": {
          "base_uri": "https://localhost:8080/"
        },
        "id": "Ut67k4u3Vezu",
        "outputId": "d139752d-c1a9-437c-fa2b-f4bff01b7b5e"
      },
      "source": [
        "# Récupérer la liste des images\n",
        "lst_img = glob.glob ('Images/*.tif')\n",
        "lst_img.sort() # ordonner par date si ce n'est pas le cas\n",
        "lst_img"
      ],
      "execution_count": null,
      "outputs": [
        {
          "output_type": "execute_result",
          "data": {
            "text/plain": [
              "['Images/20160322_S2A.tif',\n",
              " 'Images/20160710_S2A.tif',\n",
              " 'Images/20160730_S2A.tif',\n",
              " 'Images/20160928_S2A.tif',\n",
              " 'Images/20161018_S2A.tif',\n",
              " 'Images/20161127_S2A.tif',\n",
              " 'Images/20161217_S2A.tif',\n",
              " 'Images/20161227_S2A.tif']"
            ]
          },
          "metadata": {
            "tags": []
          },
          "execution_count": 5
        }
      ]
    },
    {
      "cell_type": "code",
      "metadata": {
        "colab": {
          "base_uri": "https://localhost:8080/"
        },
        "id": "GSpMjDMNa-Bg",
        "outputId": "91214f0a-eff7-494e-ba8e-45dcb51f09c2"
      },
      "source": [
        "# Lecture de la bande du rouge (B1) pour toute la série temporelle\n",
        "red_ts = []\n",
        "for img in lst_img:\n",
        "  red_ts.append( tifffile.imread(img)[:,:,0]) # Rouge\n",
        "red_ts = np.dstack(red_ts) #dstack a voir!\n",
        "red_ts.shape\n",
        "# red_ts : nombre de rouge dans chaque pixel\n",
        "# largeur, longueur, nb d'image"
      ],
      "execution_count": null,
      "outputs": [
        {
          "output_type": "execute_result",
          "data": {
            "text/plain": [
              "(5412, 5592, 8)"
            ]
          },
          "metadata": {
            "tags": []
          },
          "execution_count": 6
        }
      ]
    },
    {
      "cell_type": "code",
      "metadata": {
        "colab": {
          "base_uri": "https://localhost:8080/"
        },
        "id": "X97WsP3kcTL1",
        "outputId": "12c7aa97-2602-4a6f-976b-fa207f620520"
      },
      "source": [
        "# Lecture de la bande du vert (B2) pour toute la série temporelle\n",
        "green_ts = []\n",
        "for img in lst_img:\n",
        "  green_ts.append( tifffile.imread(img)[:,:,1]) # Vert\n",
        "green_ts = np.dstack(green_ts)\n",
        "green_ts.shape"
      ],
      "execution_count": null,
      "outputs": [
        {
          "output_type": "execute_result",
          "data": {
            "text/plain": [
              "(5412, 5592, 8)"
            ]
          },
          "metadata": {
            "tags": []
          },
          "execution_count": 23
        }
      ]
    },
    {
      "cell_type": "code",
      "metadata": {
        "colab": {
          "base_uri": "https://localhost:8080/"
        },
        "id": "t1GBdVCGcbcK",
        "outputId": "f032d9ef-0de9-413d-ea28-ceda0bc5b99f"
      },
      "source": [
        "# Lecture de la bande du bleu (B3) pour toute la série temporelle\n",
        "blue_ts = []\n",
        "for img in lst_img:\n",
        "  blue_ts.append( tifffile.imread(img)[:,:,2]) # Bleu\n",
        "blue_ts = np.dstack(blue_ts)\n",
        "blue_ts.shape"
      ],
      "execution_count": null,
      "outputs": [
        {
          "output_type": "execute_result",
          "data": {
            "text/plain": [
              "(5412, 5592, 8)"
            ]
          },
          "metadata": {
            "tags": []
          },
          "execution_count": 24
        }
      ]
    },
    {
      "cell_type": "code",
      "metadata": {
        "colab": {
          "base_uri": "https://localhost:8080/"
        },
        "id": "fDd4BjV-cbz8",
        "outputId": "63d97c55-584a-4be5-e43e-a1089aee0d2d"
      },
      "source": [
        "# Lecture de la bande du proche infrarouge (B4) pour toute la série temporelle\n",
        "nir_ts = []\n",
        "for img in lst_img:\n",
        "  nir_ts.append( tifffile.imread(img)[:,:,3]) # Proche infra rouge\n",
        "nir_ts = np.dstack(nir_ts)\n",
        "nir_ts.shape"
      ],
      "execution_count": null,
      "outputs": [
        {
          "output_type": "execute_result",
          "data": {
            "text/plain": [
              "(5412, 5592, 8)"
            ]
          },
          "metadata": {
            "tags": []
          },
          "execution_count": 25
        }
      ]
    },
    {
      "cell_type": "code",
      "metadata": {
        "id": "bJVBYJxuuJDA"
      },
      "source": [
        "# Calculer des indices spectraux comme le NDVI"
      ],
      "execution_count": null,
      "outputs": []
    },
    {
      "cell_type": "markdown",
      "metadata": {
        "id": "rOOWsKQHlHvS"
      },
      "source": [
        "#### **Normalisation en utilisant le min et le max des bandes sur les séries temporelles**"
      ]
    },
    {
      "cell_type": "markdown",
      "metadata": {
        "id": "YDXVnfXt0GhB"
      },
      "source": [
        "normalisation pour avoir des valeurs entre 0 et 1"
      ]
    },
    {
      "cell_type": "code",
      "metadata": {
        "colab": {
          "base_uri": "https://localhost:8080/"
        },
        "id": "t6s8qGdZ4isk",
        "outputId": "ede43bd3-9e28-4cd8-bdec-689a18f23eb2"
      },
      "source": [
        "red_ts.shape"
      ],
      "execution_count": null,
      "outputs": [
        {
          "output_type": "execute_result",
          "data": {
            "text/plain": [
              "(5412, 5592, 8)"
            ]
          },
          "metadata": {
            "tags": []
          },
          "execution_count": 27
        }
      ]
    },
    {
      "cell_type": "code",
      "metadata": {
        "colab": {
          "base_uri": "https://localhost:8080/"
        },
        "id": "IoOk5-UccvSe",
        "outputId": "cbfd1dcd-bff7-4254-8ff4-3c2a75624c94"
      },
      "source": [
        "# Normalisation des séries temporelles par bande: Rouge\n",
        "red_ts_norm = ( red_ts - red_ts.min() ) / ( red_ts.max() - red_ts.min() ).astype(np.float32)\n",
        "red_ts_norm.min() , red_ts_norm.max(), red_ts_norm.shape, red_ts_norm.dtype"
      ],
      "execution_count": null,
      "outputs": [
        {
          "output_type": "execute_result",
          "data": {
            "text/plain": [
              "(0.0, 1.0, (5412, 5592, 8), dtype('float32'))"
            ]
          },
          "metadata": {
            "tags": []
          },
          "execution_count": 28
        }
      ]
    },
    {
      "cell_type": "code",
      "metadata": {
        "colab": {
          "base_uri": "https://localhost:8080/"
        },
        "id": "-c1DlhJTe_6h",
        "outputId": "c2e9b5b6-1bf3-4f9f-887a-d0eebbb97113"
      },
      "source": [
        "# Normalisation des séries temporelles par bande: Vert\n",
        "green_ts_norm = ( green_ts - green_ts.min() ) / ( green_ts.max() - green_ts.min() ).astype(np.float32)\n",
        "green_ts = None\n",
        "green_ts_norm.min() , green_ts_norm.max(), green_ts_norm.shape, green_ts_norm.dtype"
      ],
      "execution_count": null,
      "outputs": [
        {
          "output_type": "execute_result",
          "data": {
            "text/plain": [
              "(0.0, 1.0, (5412, 5592, 8), dtype('float32'))"
            ]
          },
          "metadata": {
            "tags": []
          },
          "execution_count": 29
        }
      ]
    },
    {
      "cell_type": "code",
      "metadata": {
        "colab": {
          "base_uri": "https://localhost:8080/"
        },
        "id": "hFNAbyIyfAJT",
        "outputId": "2d46d390-082b-4a76-cc9b-3d771ce88922"
      },
      "source": [
        "# Normalisation des séries temporelles par bande: Bleu\n",
        "blue_ts_norm = ( blue_ts - blue_ts.min() ) / ( blue_ts.max() - blue_ts.min() ).astype(np.float32)\n",
        "blue_ts = None\n",
        "blue_ts_norm.min() , blue_ts_norm.max(), blue_ts_norm.shape, blue_ts_norm.dtype"
      ],
      "execution_count": null,
      "outputs": [
        {
          "output_type": "execute_result",
          "data": {
            "text/plain": [
              "(0.0, 1.0, (5412, 5592, 8), dtype('float32'))"
            ]
          },
          "metadata": {
            "tags": []
          },
          "execution_count": 30
        }
      ]
    },
    {
      "cell_type": "code",
      "metadata": {
        "colab": {
          "base_uri": "https://localhost:8080/"
        },
        "id": "epIhb6brfAUK",
        "outputId": "03a74ffb-bd43-48bd-e847-5f3bac94c258"
      },
      "source": [
        "# Normalisation des séries temporelles par bande: Proche infrarouge\n",
        "nir_ts_norm = ( nir_ts - nir_ts.min() ) / ( nir_ts.max() - nir_ts.min() ).astype(np.float32)\n",
        "nir_ts_norm.min() , nir_ts_norm.max(), nir_ts_norm.shape, nir_ts_norm.dtype"
      ],
      "execution_count": null,
      "outputs": [
        {
          "output_type": "execute_result",
          "data": {
            "text/plain": [
              "(0.0, 1.0, (5412, 5592, 8), dtype('float32'))"
            ]
          },
          "metadata": {
            "tags": []
          },
          "execution_count": 31
        }
      ]
    },
    {
      "cell_type": "code",
      "metadata": {
        "id": "tAtrTnz_uQ2Y"
      },
      "source": [
        "# Normaliser les indices spectraux que vous aurez calculé"
      ],
      "execution_count": null,
      "outputs": []
    },
    {
      "cell_type": "markdown",
      "metadata": {
        "id": "YDQUbh3Nkpn7"
      },
      "source": [
        "### **Lecture de la vérité terrain et récupération des positions des pixels du jeu d'entraînement et de test**"
      ]
    },
    {
      "cell_type": "markdown",
      "metadata": {
        "id": "V_mXEBEKmuw7"
      },
      "source": [
        "#### **Lecture des fichiers de la vérité terrain**"
      ]
    },
    {
      "cell_type": "code",
      "metadata": {
        "colab": {
          "base_uri": "https://localhost:8080/"
        },
        "id": "NBCQhbMUoBJU",
        "outputId": "5424a604-dd4b-4890-ae24-4ca75d0251f8"
      },
      "source": [
        "# Lire le fichier correspondant aux classes d'occupation du sol\n",
        "gt_class = tifffile.imread ('Verite_terrain/DORDOGNE_VT_CLASS.tif')\n",
        "gt_class.shape , gt_class.dtype"
      ],
      "execution_count": null,
      "outputs": [
        {
          "output_type": "execute_result",
          "data": {
            "text/plain": [
              "((5412, 5592), dtype('uint8'))"
            ]
          },
          "metadata": {
            "tags": []
          },
          "execution_count": 33
        }
      ]
    },
    {
      "cell_type": "code",
      "metadata": {
        "colab": {
          "base_uri": "https://localhost:8080/"
        },
        "id": "JLnTil_psMLW",
        "outputId": "e392f3e1-333f-4778-b783-2943ca49f676"
      },
      "source": [
        "# Lire le fichier correspondant aux identifiants\n",
        "gt_id = tifffile.imread ('Verite_terrain/DORDOGNE_VT_ID.tif')\n",
        "gt_id.shape, gt_id.dtype"
      ],
      "execution_count": null,
      "outputs": [
        {
          "output_type": "execute_result",
          "data": {
            "text/plain": [
              "((5412, 5592), dtype('int16'))"
            ]
          },
          "metadata": {
            "tags": []
          },
          "execution_count": 34
        }
      ]
    },
    {
      "cell_type": "markdown",
      "metadata": {
        "id": "RjyGTdRpm5ii"
      },
      "source": [
        "#### **Récupération des positions des pixels d'entraînement et de test**"
      ]
    },
    {
      "cell_type": "code",
      "metadata": {
        "id": "yosWk1_BgiLE"
      },
      "source": [
        "# Récupérer les positions des échantillons d'entraînement et test\n",
        "idx_train_ = np.where ( (gt_id!=0) & (gt_class!=0) ) #les pixels that we care\n",
        "idx_test = np.where ( (gt_id!=0) & (gt_class==0) ) #les pixels qui ont des id mais pas de classe, donc a deviner"
      ],
      "execution_count": null,
      "outputs": []
    },
    {
      "cell_type": "code",
      "metadata": {
        "colab": {
          "base_uri": "https://localhost:8080/",
          "height": 36
        },
        "id": "uRX0xj4zjvVY",
        "outputId": "c065663b-8aa4-4a5a-96e4-5efd7cc419dd"
      },
      "source": [
        "# Lecture des identifiants et labels des échantillons d'entraînement\n",
        "train_id_ = gt_id[idx_train_] #identifiants de ces pixels\n",
        "train_y_ = gt_class[idx_train_] #classes\n",
        "f'échantillons d\\'entrainement: {train_y_.shape[0]} pixels, {len(np.unique(train_id_))} objets' #identifiants non uniques"
      ],
      "execution_count": null,
      "outputs": [
        {
          "output_type": "execute_result",
          "data": {
            "application/vnd.google.colaboratory.intrinsic+json": {
              "type": "string"
            },
            "text/plain": [
              "\"échantillons d'entrainement: 605431 pixels, 1859 objets\""
            ]
          },
          "metadata": {
            "tags": []
          },
          "execution_count": 36
        }
      ]
    },
    {
      "cell_type": "code",
      "metadata": {
        "colab": {
          "base_uri": "https://localhost:8080/",
          "height": 36
        },
        "id": "kiPCaHQ2jtZu",
        "outputId": "62e7ff5c-970d-48d5-b549-256cd9ea2316"
      },
      "source": [
        "# Lecture des identifiants et labels des échantillons de test\n",
        "test_id = gt_id[idx_test]\n",
        "f'échantillons test: {test_id.shape[0]} pixels, {len(np.unique(test_id))} objets'"
      ],
      "execution_count": null,
      "outputs": [
        {
          "output_type": "execute_result",
          "data": {
            "application/vnd.google.colaboratory.intrinsic+json": {
              "type": "string"
            },
            "text/plain": [
              "'échantillons test: 207485 pixels, 800 objets'"
            ]
          },
          "metadata": {
            "tags": []
          },
          "execution_count": 37
        }
      ]
    },
    {
      "cell_type": "markdown",
      "metadata": {
        "id": "hNFyNkc5oc6z"
      },
      "source": [
        "### **Création d'un jeu de validation en prenant une partie du jeu d'entraînement**\n",
        "Pour cela, on s'assure de faire la division en mettant les pixels ayant le même identifiant dans un seul et même lot"
      ]
    },
    {
      "cell_type": "code",
      "metadata": {
        "colab": {
          "base_uri": "https://localhost:8080/",
          "height": 206
        },
        "id": "2hI-jAEqrac1",
        "outputId": "2d58c2bc-45c0-4b8e-9eb9-833ecd59b1df"
      },
      "source": [
        "# Dataframe pour créer un jeu de validation\n",
        "samples = pd.DataFrame({'ID':train_id_,'Class':train_y_})\n",
        "samples = samples.drop_duplicates(keep='first')\n",
        "samples.head(5)"
      ],
      "execution_count": null,
      "outputs": [
        {
          "output_type": "execute_result",
          "data": {
            "text/html": [
              "<div>\n",
              "<style scoped>\n",
              "    .dataframe tbody tr th:only-of-type {\n",
              "        vertical-align: middle;\n",
              "    }\n",
              "\n",
              "    .dataframe tbody tr th {\n",
              "        vertical-align: top;\n",
              "    }\n",
              "\n",
              "    .dataframe thead th {\n",
              "        text-align: right;\n",
              "    }\n",
              "</style>\n",
              "<table border=\"1\" class=\"dataframe\">\n",
              "  <thead>\n",
              "    <tr style=\"text-align: right;\">\n",
              "      <th></th>\n",
              "      <th>ID</th>\n",
              "      <th>Class</th>\n",
              "    </tr>\n",
              "  </thead>\n",
              "  <tbody>\n",
              "    <tr>\n",
              "      <th>0</th>\n",
              "      <td>422</td>\n",
              "      <td>2</td>\n",
              "    </tr>\n",
              "    <tr>\n",
              "      <th>4</th>\n",
              "      <td>2677</td>\n",
              "      <td>5</td>\n",
              "    </tr>\n",
              "    <tr>\n",
              "      <th>5</th>\n",
              "      <td>201</td>\n",
              "      <td>3</td>\n",
              "    </tr>\n",
              "    <tr>\n",
              "      <th>29</th>\n",
              "      <td>423</td>\n",
              "      <td>2</td>\n",
              "    </tr>\n",
              "    <tr>\n",
              "      <th>100</th>\n",
              "      <td>496</td>\n",
              "      <td>2</td>\n",
              "    </tr>\n",
              "  </tbody>\n",
              "</table>\n",
              "</div>"
            ],
            "text/plain": [
              "       ID  Class\n",
              "0     422      2\n",
              "4    2677      5\n",
              "5     201      3\n",
              "29    423      2\n",
              "100   496      2"
            ]
          },
          "metadata": {
            "tags": []
          },
          "execution_count": 38
        }
      ]
    },
    {
      "cell_type": "code",
      "metadata": {
        "colab": {
          "base_uri": "https://localhost:8080/"
        },
        "id": "894SPjgRs_S7",
        "outputId": "4ae0db8e-b265-4050-b48f-049267dd758e"
      },
      "source": [
        "# 30% des échantillons de chaque classe affecté au jeu de validation\n",
        "train_id = []\n",
        "valid_id = []\n",
        "for c in np.unique(samples.Class.values) :\n",
        "    samples_c = samples.loc[samples.Class==c]\n",
        "    samples_frac = samples_c.sample(frac=0.7,random_state=1234) \n",
        "    train_id.extend( samples_frac.ID.values )\n",
        "    valid_id.extend( samples_c.drop(samples_frac.index).ID.values )\n",
        "len(train_id),len(valid_id)"
      ],
      "execution_count": null,
      "outputs": [
        {
          "output_type": "execute_result",
          "data": {
            "text/plain": [
              "(1301, 558)"
            ]
          },
          "metadata": {
            "tags": []
          },
          "execution_count": 39
        }
      ]
    },
    {
      "cell_type": "markdown",
      "metadata": {
        "id": "6J609q3BrKRk"
      },
      "source": [
        "### **Récupération des positions des nouveaux échantillons d'entraînement et de validation**"
      ]
    },
    {
      "cell_type": "code",
      "metadata": {
        "id": "WmVBWpvFdjlk"
      },
      "source": [
        "# Récupérer les positions des nouveaux échantillons d'entraînement et validation\n",
        "idx_train = np.where ( np.isin(gt_id,train_id) )\n",
        "idx_valid = np.where ( np.isin(gt_id,valid_id) )"
      ],
      "execution_count": null,
      "outputs": []
    },
    {
      "cell_type": "markdown",
      "metadata": {
        "id": "3U6m2R-UwEFK"
      },
      "source": [
        "### **Lire finalement les labels correspondant aux nouveaux échantillons d'entraînement, de validation et test**"
      ]
    },
    {
      "cell_type": "code",
      "metadata": {
        "colab": {
          "base_uri": "https://localhost:8080/"
        },
        "id": "vF_PEzn3vQzT",
        "outputId": "6bb54947-f07b-44cb-c47c-1a82d8876176"
      },
      "source": [
        "train_y = gt_class[idx_train]\n",
        "valid_y = gt_class[idx_valid]\n",
        "test_y = gt_class[idx_test]\n",
        "train_y.shape, valid_y.shape, test_y.shape"
      ],
      "execution_count": null,
      "outputs": [
        {
          "output_type": "execute_result",
          "data": {
            "text/plain": [
              "((451962,), (153469,), (207485,))"
            ]
          },
          "metadata": {
            "tags": []
          },
          "execution_count": 41
        }
      ]
    },
    {
      "cell_type": "markdown",
      "metadata": {
        "id": "lAt4KCeZR1Os"
      },
      "source": [
        "### **Lire finalement les identifiants correspondant aux nouveaux échantillons d'entraînement, de validation et test**"
      ]
    },
    {
      "cell_type": "code",
      "metadata": {
        "colab": {
          "base_uri": "https://localhost:8080/"
        },
        "id": "m3SiC0eVRvtA",
        "outputId": "a5ebc61c-d7a5-42fd-e954-7c86002da551"
      },
      "source": [
        "# utile pour les aggrégations au niveau objet\n",
        "# train_id_array = gt_id[idx_train] # Pas vraiment nécessaire pour les échantillons d'entraînements\n",
        "valid_id_array = gt_id[idx_valid]\n",
        "test_id_array = gt_id[idx_test]\n",
        "#train_id_array.shape, \n",
        "valid_id_array.shape, test_id_array.shape"
      ],
      "execution_count": null,
      "outputs": [
        {
          "output_type": "execute_result",
          "data": {
            "text/plain": [
              "((153469,), (207485,))"
            ]
          },
          "metadata": {
            "tags": []
          },
          "execution_count": 42
        }
      ]
    },
    {
      "cell_type": "markdown",
      "metadata": {
        "id": "xa-8J5r9r3KI"
      },
      "source": [
        "### **Lire finalement les valeurs des séries temporelles correspondant aux nouveaux échantillons d'entraînement, de validation et test**"
      ]
    },
    {
      "cell_type": "markdown",
      "metadata": {
        "id": "PXS90K1Vsg4H"
      },
      "source": [
        "### **Pour un Perceptron multi-couche**"
      ]
    },
    {
      "cell_type": "markdown",
      "metadata": {
        "id": "dE8nkc2VSWyj"
      },
      "source": [
        "**Echantillons d'entraînement, de validation et test de MLP**"
      ]
    },
    {
      "cell_type": "code",
      "metadata": {
        "colab": {
          "base_uri": "https://localhost:8080/"
        },
        "id": "TwjGd9exkFia",
        "outputId": "1ab94059-8f2f-4dfc-925a-bb02a17b5b49"
      },
      "source": [
        "# Un perceptron multi-couche ou un algo classique de machine learning requiert un tableau 2D du type \n",
        "# (nombre d'échantillons, nombre de features=(nombre de dates x nombre de bandes))\n",
        "# Vous pouvez rajouter au stack les indices spectraux normalisés que vous aurez calculé\n",
        "\n",
        "train_X = np.column_stack ( ( blue_ts_norm[idx_train], green_ts_norm[idx_train], red_ts_norm[idx_train], nir_ts_norm[idx_train] ) )\n",
        "\n",
        "valid_X = np.column_stack ( ( blue_ts_norm[idx_valid], green_ts_norm[idx_valid], red_ts_norm[idx_valid], nir_ts_norm[idx_valid] ) )\n",
        "\n",
        "test_X = np.column_stack ( ( blue_ts_norm[idx_test], green_ts_norm[idx_test], red_ts_norm[idx_test], nir_ts_norm[idx_test] ) )\n",
        "\n",
        "train_X.shape, valid_X.shape, test_X.shape"
      ],
      "execution_count": null,
      "outputs": [
        {
          "output_type": "execute_result",
          "data": {
            "text/plain": [
              "((451962, 32), (153469, 32), (207485, 32))"
            ]
          },
          "metadata": {
            "tags": []
          },
          "execution_count": 43
        }
      ]
    },
    {
      "cell_type": "markdown",
      "metadata": {
        "id": "5XnkmkpPM62h"
      },
      "source": [
        "**Sauvegarde des données d'entraînement, de validation et test de MLP en fichier numpy**"
      ]
    },
    {
      "cell_type": "code",
      "metadata": {
        "id": "F2tHpL8vMptr"
      },
      "source": [
        "# Ainsi de cette façon vous pourrez continuer directement avec la création des modèles et en libérant la mémoire de tout ce qui a été fait précédemment\n",
        "Path('data').mkdir(exist_ok=True, parents=True)\n",
        "Path('data/mlp').mkdir(exist_ok=True, parents=True)\n",
        "np.save('data/mlp/train_X.npy',train_X)\n",
        "np.save('data/mlp/train_y.npy',train_y)\n",
        "# np.save('data/train_id.npy',train_id_array)\n",
        "\n",
        "np.save('data/mlp/valid_X.npy',valid_X)\n",
        "np.save('data/mlp/valid_y.npy',valid_y)\n",
        "np.save('data/mlp/valid_id.npy',valid_id_array)\n",
        "\n",
        "np.save('data/mlp/test_X.npy',test_X)\n",
        "np.save('data/mlp/test_id.npy',test_id_array)"
      ],
      "execution_count": null,
      "outputs": []
    },
    {
      "cell_type": "markdown",
      "metadata": {
        "id": "YqabJEyUtgPX"
      },
      "source": [
        "### **Pour un CNN 1D ou temporel**"
      ]
    },
    {
      "cell_type": "markdown",
      "metadata": {
        "id": "0j3mhI3vULuK"
      },
      "source": [
        "Echantillons d'entraînement, de validation et test de CNN1D"
      ]
    },
    {
      "cell_type": "code",
      "metadata": {
        "colab": {
          "base_uri": "https://localhost:8080/"
        },
        "id": "bdZa5w9ztkCk",
        "outputId": "4effc9c9-346f-414f-a856-a46ab2dc9f3c"
      },
      "source": [
        "# Un CNN 1D ou temporel requiert un tableau 3D du type (nombre d'échantillons, nombre de dates, nombre de bandes)\n",
        "# Vous pouvez rajouter à la liste des bandes les indices spectraux normalisés que vous aurez calculé\n",
        "train_X = []\n",
        "for band in [blue_ts_norm,green_ts_norm,red_ts_norm,nir_ts_norm]:\n",
        "    train_X.append( band[idx_train] ) \n",
        "train_X = np.stack(train_X,axis=-1)\n",
        "\n",
        "valid_X = []\n",
        "for band in [blue_ts_norm,green_ts_norm,red_ts_norm,nir_ts_norm]:\n",
        "    valid_X.append( band[idx_valid] ) \n",
        "valid_X = np.stack(valid_X,axis=-1)\n",
        "\n",
        "test_X = []\n",
        "for band in [blue_ts_norm,green_ts_norm,red_ts_norm,nir_ts_norm]:\n",
        "    test_X.append( band[idx_test] ) \n",
        "test_X = np.stack(test_X,axis=-1)\n",
        "\n",
        "train_X.shape, valid_X.shape, test_X.shape"
      ],
      "execution_count": null,
      "outputs": [
        {
          "output_type": "execute_result",
          "data": {
            "text/plain": [
              "((451962, 8, 4), (153469, 8, 4), (207485, 8, 4))"
            ]
          },
          "metadata": {
            "tags": []
          },
          "execution_count": 45
        }
      ]
    },
    {
      "cell_type": "markdown",
      "metadata": {
        "id": "0PIs4S_9SAm4"
      },
      "source": [
        "Sauvegarde des données d'entraînement, de validation et test de CNN1D en fichier numpy"
      ]
    },
    {
      "cell_type": "code",
      "metadata": {
        "id": "spLjbhvdMqro"
      },
      "source": [
        "# Ainsi de cette façon vous pourrez continuer directement avec la création des modèles et en libérant la mémoire de tout ce qui a été fait précédemment\n",
        "Path('data').mkdir(exist_ok=True, parents=True)\n",
        "Path('data/cnn1d').mkdir(exist_ok=True, parents=True)\n",
        "np.save('data/cnn1d/train_X.npy',train_X)\n",
        "np.save('data/cnn1d/train_y.npy',train_y)\n",
        "# np.save('data/train_id.npy',train_id_array)\n",
        "\n",
        "np.save('data/cnn1d/valid_X.npy',valid_X)\n",
        "np.save('data/cnn1d/valid_y.npy',valid_y)\n",
        "np.save('data/cnn1d/valid_id.npy',valid_id_array)\n",
        "\n",
        "np.save('data/cnn1d/test_X.npy',test_X)\n",
        "np.save('data/cnn1d/test_id.npy',test_id_array)"
      ],
      "execution_count": null,
      "outputs": []
    },
    {
      "cell_type": "markdown",
      "metadata": {
        "id": "oRTUKBQBwd1V"
      },
      "source": [
        "### **Pour un CNN2D ou spatial avec exemple d'imagettes ou patchs de 5 sur 5 en largeur et hauteur** \n",
        "\n",
        "Des patchs de 9 sur 9 sur l'ensemble des échantillons sont un peu trop gourmands en RAM pour Google Colab"
      ]
    },
    {
      "cell_type": "markdown",
      "metadata": {
        "id": "OhEn-BRVUbdV"
      },
      "source": [
        "Echantillons d'entraînement, de validation et test de CNN2D"
      ]
    },
    {
      "cell_type": "code",
      "metadata": {
        "colab": {
          "base_uri": "https://localhost:8080/"
        },
        "id": "rBZ2s4zGwc8C",
        "outputId": "6937e4e7-ffcd-423d-b19c-b04d00321c10"
      },
      "source": [
        "# Un CNN 2D ou spatial requiert un tableau 3D du type (nombre d'échantillons, largeur, hauteur, nombre de features= (nombre de dates x nombre de bandes) )\n",
        "# Vous pouvez rajouter à la liste des bandes les indices spectraux normalisés que vous aurez calculé\n",
        "\n",
        "# Training\n",
        "# 1- précaution pour ne pas considérer les pixels dont on ne peut extraire des patchs car trop près du bord\n",
        "idx_col = idx_train[0]\n",
        "idx_row = idx_train[1]\n",
        "coords = np.column_stack((idx_col,idx_row))\n",
        "coords = coords[np.where( ( np.isin(coords[:,0],np.arange(2,blue_ts_norm.shape[0]-2,1)) ) & ( np.isin(coords[:,1],np.arange(2,blue_ts_norm.shape[1]-2,1)) ) ) ]\n",
        "# len(coords)\n",
        "# 2- créer un tableau avec les patchs\n",
        "train_X = []\n",
        "for coord in coords :\n",
        "  lst = []\n",
        "  for band in [blue_ts_norm,green_ts_norm,red_ts_norm,nir_ts_norm]:\n",
        "    lst.append( band[coord[0]-2:coord[0]+3,coord[1]-2:coord[1]+3] )\n",
        "  train_X.append(np.stack(lst,axis=-1).reshape(5,5,-1))\n",
        "train_X = np.stack(train_X,axis=0)\n",
        "train_X.shape"
      ],
      "execution_count": null,
      "outputs": [
        {
          "output_type": "execute_result",
          "data": {
            "text/plain": [
              "(451962, 5, 5, 32)"
            ]
          },
          "metadata": {
            "tags": []
          },
          "execution_count": 47
        }
      ]
    },
    {
      "cell_type": "code",
      "metadata": {
        "colab": {
          "base_uri": "https://localhost:8080/"
        },
        "id": "RhLlxu5j0O72",
        "outputId": "8cb7134c-6a30-4d30-9200-5a5412168f7d"
      },
      "source": [
        "# Validation\n",
        "# 1- précaution pour ne pas considérer les pixels dont on ne peut extraire des patchs car trop près du bord\n",
        "idx_col = idx_valid[0]\n",
        "idx_row = idx_valid[1]\n",
        "coords = np.column_stack((idx_col,idx_row))\n",
        "coords = coords[np.where( ( np.isin(coords[:,0],np.arange(2,blue_ts_norm.shape[0]-2,1)) ) & ( np.isin(coords[:,1],np.arange(2,blue_ts_norm.shape[1]-2,1)) ) ) ]\n",
        "# len(coords)\n",
        "# 2- créer un tableau avec les patchs\n",
        "valid_X = []\n",
        "for coord in coords :\n",
        "  lst = []\n",
        "  for band in [blue_ts_norm,green_ts_norm,red_ts_norm,nir_ts_norm]:\n",
        "    lst.append( band[coord[0]-2:coord[0]+3,coord[1]-2:coord[1]+3] )\n",
        "  valid_X.append(np.stack(lst,axis=-1).reshape(5,5,-1))\n",
        "valid_X = np.stack(valid_X,axis=0)\n",
        "valid_X.shape"
      ],
      "execution_count": null,
      "outputs": [
        {
          "output_type": "execute_result",
          "data": {
            "text/plain": [
              "(153469, 5, 5, 32)"
            ]
          },
          "metadata": {
            "tags": []
          },
          "execution_count": 48
        }
      ]
    },
    {
      "cell_type": "code",
      "metadata": {
        "colab": {
          "base_uri": "https://localhost:8080/"
        },
        "id": "0VR_nM9W0QkB",
        "outputId": "6194af72-a3eb-4a32-922d-83937319546c"
      },
      "source": [
        "# Test\n",
        "# 1- précaution pour ne pas considérer les pixels dont on ne peut extraire des patchs car trop près du bord\n",
        "idx_col = idx_test[0]\n",
        "idx_row = idx_test[1]\n",
        "coords = np.column_stack((idx_col,idx_row))\n",
        "coords = coords[np.where( ( np.isin(coords[:,0],np.arange(2,blue_ts_norm.shape[0]-2,1)) ) & ( np.isin(coords[:,1],np.arange(2,blue_ts_norm.shape[1]-2,1)) ) ) ]\n",
        "# len(coords)\n",
        "# 2- créer un tableau avec les patchs\n",
        "test_X = []\n",
        "for coord in coords :\n",
        "  lst = []\n",
        "  for band in [blue_ts_norm,green_ts_norm,red_ts_norm,nir_ts_norm]:\n",
        "    lst.append( band[coord[0]-2:coord[0]+3,coord[1]-2:coord[1]+3] )\n",
        "  test_X.append(np.stack(lst,axis=-1).reshape(5,5,-1))\n",
        "test_X = np.stack(test_X,axis=0)\n",
        "test_X.shape"
      ],
      "execution_count": null,
      "outputs": [
        {
          "output_type": "execute_result",
          "data": {
            "text/plain": [
              "(207485, 5, 5, 32)"
            ]
          },
          "metadata": {
            "tags": []
          },
          "execution_count": 49
        }
      ]
    },
    {
      "cell_type": "markdown",
      "metadata": {
        "id": "oiqM_sYRt5IL"
      },
      "source": [
        "Sauvegarde des données d'entraînement, de validation et test de CNN2D en fichier numpy"
      ]
    },
    {
      "cell_type": "code",
      "metadata": {
        "id": "dPiv0fo3uJ8s"
      },
      "source": [
        "# Ainsi de cette façon vous pourrez continuer directement avec la création des modèles et en libérant la mémoire de tout ce qui a été fait précédemment\n",
        "Path('data').mkdir(exist_ok=True, parents=True)\n",
        "Path('data/cnn2d').mkdir(exist_ok=True, parents=True)\n",
        "\n",
        "np.save('data/cnn2d/train_X.npy',train_X)\n",
        "np.save('data/cnn2d/train_y.npy',train_y)\n",
        "# np.save('data/train_id.npy',train_id_array)\n",
        "\n",
        "np.save('data/cnn2d/valid_X.npy',valid_X)\n",
        "np.save('data/cnn2d/valid_y.npy',valid_y)\n",
        "np.save('data/cnn2d/valid_id.npy',valid_id_array)\n",
        "\n",
        "np.save('data/cnn2d/test_X.npy',test_X)\n",
        "np.save('data/cnn2d/test_id.npy',test_id_array)"
      ],
      "execution_count": null,
      "outputs": []
    },
    {
      "cell_type": "markdown",
      "metadata": {
        "id": "TOM6_mv--8IX"
      },
      "source": [
        "Videz la mémoire en redémarrant l'environnement d'exécution"
      ]
    },
    {
      "cell_type": "markdown",
      "metadata": {
        "id": "qv0jts6w6nxr"
      },
      "source": [
        "# **Votre modèle de deep learning**"
      ]
    },
    {
      "cell_type": "markdown",
      "metadata": {
        "id": "wmBRjg3QFrLe"
      },
      "source": [
        "### **Remontage de Drive et Importation de quelques librairies**"
      ]
    },
    {
      "cell_type": "code",
      "metadata": {
        "colab": {
          "base_uri": "https://localhost:8080/"
        },
        "id": "rJUrD-aVMaN0",
        "outputId": "1744c5c3-ce8a-47a4-e421-8fcb5fe6709d"
      },
      "source": [
        "from google.colab import drive\n",
        "drive.mount('/content/drive')"
      ],
      "execution_count": null,
      "outputs": [
        {
          "output_type": "stream",
          "text": [
            "Mounted at /content/drive\n"
          ],
          "name": "stdout"
        }
      ]
    },
    {
      "cell_type": "code",
      "metadata": {
        "id": "_K5Xk6WeALcH"
      },
      "source": [
        "import os\n",
        "os.chdir('/content/drive/My Drive/Projet_HMIN339M')\n",
        "import numpy as np\n",
        "import pandas as pd\n",
        "import tifffile\n",
        "from pathlib import Path\n",
        "from sklearn.metrics import f1_score, confusion_matrix\n",
        "from sklearn.preprocessing import LabelEncoder\n",
        "import tensorflow as tf\n",
        "from tensorflow.keras.layers import Dense, Dropout, Activation, Flatten, Conv2D, Conv1D, GlobalAveragePooling1D, MaxPooling2D, MaxPooling1D, GlobalAveragePooling2D, BatchNormalization\n",
        "from tensorflow.keras.models import Sequential"
      ],
      "execution_count": null,
      "outputs": []
    },
    {
      "cell_type": "markdown",
      "metadata": {
        "id": "UlRFSn7f_yKx"
      },
      "source": [
        "### **Recharger les données d'entraînement, de validation et test en fichier numpy**"
      ]
    },
    {
      "cell_type": "markdown",
      "metadata": {
        "id": "rufBNVedP3_M"
      },
      "source": [
        "\n",
        "#### **Pour un Perceptron multi-couche**"
      ]
    },
    {
      "cell_type": "code",
      "metadata": {
        "colab": {
          "base_uri": "https://localhost:8080/"
        },
        "id": "CVzkEkQA-jM7",
        "outputId": "d5c6286c-7e52-4eac-be86-46804bc67e66"
      },
      "source": [
        "# Recharger les données après avoir vidé la mémoire\n",
        "train_X = np.load('data/mlp/train_X.npy')\n",
        "train_y = np.load('data/mlp/train_y.npy')\n",
        "\n",
        "valid_X = np.load('data/mlp/valid_X.npy')\n",
        "valid_y = np.load('data/mlp/valid_y.npy')\n",
        "valid_id = np.load('data/mlp/valid_id.npy')\n",
        "\n",
        "test_X = np.load('data/mlp/test_X.npy')\n",
        "test_id = np.load('data/mlp/test_id.npy')\n",
        "train_X.shape, train_y.shape, valid_X.shape, valid_y.shape, valid_id.shape, test_X.shape, test_id.shape"
      ],
      "execution_count": null,
      "outputs": [
        {
          "output_type": "execute_result",
          "data": {
            "text/plain": [
              "((451962, 32),\n",
              " (451962,),\n",
              " (153469, 32),\n",
              " (153469,),\n",
              " (153469,),\n",
              " (207485, 32),\n",
              " (207485,))"
            ]
          },
          "metadata": {
            "tags": []
          },
          "execution_count": 5
        }
      ]
    },
    {
      "cell_type": "markdown",
      "metadata": {
        "id": "LC1y2sOxQVqF"
      },
      "source": [
        "#### **Pour un CNN 1D ou temporel**\n"
      ]
    },
    {
      "cell_type": "code",
      "metadata": {
        "colab": {
          "base_uri": "https://localhost:8080/"
        },
        "id": "aPJg11XHQhWE",
        "outputId": "9880b7db-4cc9-4dec-e80f-f909bdbd7aa7"
      },
      "source": [
        "# Recharger les données après avoir vidé la mémoire\n",
        "train_X = np.load('data/cnn1d/train_X.npy')\n",
        "train_y = np.load('data/cnn1d/train_y.npy')\n",
        "\n",
        "valid_X = np.load('data/cnn1d/valid_X.npy')\n",
        "valid_y = np.load('data/cnn1d/valid_y.npy')\n",
        "valid_id = np.load('data/cnn1d/valid_id.npy')\n",
        "\n",
        "test_X = np.load('data/cnn1d/test_X.npy')\n",
        "test_id = np.load('data/cnn1d/test_id.npy')\n",
        "train_X.shape, train_y.shape, valid_X.shape, valid_y.shape, valid_id.shape, test_X.shape, test_id.shape"
      ],
      "execution_count": null,
      "outputs": [
        {
          "output_type": "execute_result",
          "data": {
            "text/plain": [
              "((451962, 8, 4),\n",
              " (451962,),\n",
              " (153469, 8, 4),\n",
              " (153469,),\n",
              " (153469,),\n",
              " (207485, 8, 4),\n",
              " (207485,))"
            ]
          },
          "metadata": {
            "tags": []
          },
          "execution_count": 79
        }
      ]
    },
    {
      "cell_type": "markdown",
      "metadata": {
        "id": "7BvfaC-WQx8S"
      },
      "source": [
        "#### **Pour un CNN 2D ou temporel**"
      ]
    },
    {
      "cell_type": "code",
      "metadata": {
        "colab": {
          "base_uri": "https://localhost:8080/"
        },
        "id": "Q5J2CbiKQzJZ",
        "outputId": "0428a322-9d2e-473a-ba21-3c7827e2df46"
      },
      "source": [
        "# Recharger les données après avoir vidé la mémoire\n",
        "train_X = np.load('data/cnn2d/train_X.npy')\n",
        "train_y = np.load('data/cnn2d/train_y.npy')\n",
        "\n",
        "valid_X = np.load('data/cnn2d/valid_X.npy')\n",
        "valid_y = np.load('data/cnn2d/valid_y.npy')\n",
        "valid_id = np.load('data/cnn2d/valid_id.npy')\n",
        "\n",
        "test_X = np.load('data/cnn2d/test_X.npy')\n",
        "test_id = np.load('data/cnn2d/test_id.npy')\n",
        "train_X.shape, train_y.shape, valid_X.shape, valid_y.shape, valid_id.shape, test_X.shape, test_id.shape"
      ],
      "execution_count": null,
      "outputs": [
        {
          "output_type": "execute_result",
          "data": {
            "text/plain": [
              "((451962, 5, 5, 32),\n",
              " (451962,),\n",
              " (153469, 5, 5, 32),\n",
              " (153469,),\n",
              " (153469,),\n",
              " (207485, 5, 5, 32),\n",
              " (207485,))"
            ]
          },
          "metadata": {
            "tags": []
          },
          "execution_count": 99
        }
      ]
    },
    {
      "cell_type": "markdown",
      "metadata": {
        "id": "K23T_c-EAj_z"
      },
      "source": [
        "### **Encoder les labels entre 0 et 4 de sorte à matcher les prédictions des réseaux de neurones**"
      ]
    },
    {
      "cell_type": "code",
      "metadata": {
        "colab": {
          "base_uri": "https://localhost:8080/"
        },
        "id": "FY74aok1Arfi",
        "outputId": "df55f8df-6929-438e-a4cc-d25335a03868"
      },
      "source": [
        "#encoder car l'algo aime bien commencer par 0\n",
        "encoder = LabelEncoder()\n",
        "encoder.fit(train_y)\n",
        "train_y_enc = encoder.transform(train_y)\n",
        "valid_y_enc = encoder.transform(valid_y)\n",
        "np.unique(train_y), np.unique(train_y_enc), np.unique(valid_y), np.unique(valid_y_enc)"
      ],
      "execution_count": null,
      "outputs": [
        {
          "output_type": "execute_result",
          "data": {
            "text/plain": [
              "(array([1, 2, 3, 4, 5], dtype=uint8),\n",
              " array([0, 1, 2, 3, 4]),\n",
              " array([1, 2, 3, 4, 5], dtype=uint8),\n",
              " array([0, 1, 2, 3, 4]))"
            ]
          },
          "metadata": {
            "tags": []
          },
          "execution_count": 4
        }
      ]
    },
    {
      "cell_type": "markdown",
      "metadata": {
        "id": "GpH3oJPVE3uE"
      },
      "source": [
        "### **Définition séquentielle de votre modèle avec Keras**\n",
        "\n",
        "N'oubliez pas de spécifier l'input shape qui varie en fonction des types d'architectures, le nombre de neurones de la couche de sortie qui équivaut au nombre de classes que vous avez et de l'activer avec une fonction Softmax"
      ]
    },
    {
      "cell_type": "markdown",
      "metadata": {
        "id": "X5ffn-HfXWXq"
      },
      "source": [
        "### Modèle CNN1D"
      ]
    },
    {
      "cell_type": "code",
      "metadata": {
        "colab": {
          "base_uri": "https://localhost:8080/"
        },
        "id": "rQ1uXmiBXVhA",
        "outputId": "15be964b-40a3-4b9f-80aa-fd8d373e52af"
      },
      "source": [
        "model = Sequential() #model cnn1d\n",
        "model.add(Conv1D(32, 3, activation='relu', input_shape=(8,4)))\n",
        "model.add(Dropout(0.3))\n",
        "model.add(Conv1D(64, 3, activation='relu'))\n",
        "model.add(Dropout(0.3))\n",
        "model.add(Conv1D(128, 3, activation='relu'))\n",
        "model.add(Dropout(0.3))\n",
        "model.add(MaxPooling1D(pool_size=2))\n",
        "model.add(GlobalAveragePooling1D())\n",
        "model.add(Dense(5, activation='softmax'))\n",
        "model.summary()"
      ],
      "execution_count": null,
      "outputs": [
        {
          "output_type": "stream",
          "text": [
            "Model: \"sequential_4\"\n",
            "_________________________________________________________________\n",
            "Layer (type)                 Output Shape              Param #   \n",
            "=================================================================\n",
            "conv1d_12 (Conv1D)           (None, 6, 32)             416       \n",
            "_________________________________________________________________\n",
            "dropout_12 (Dropout)         (None, 6, 32)             0         \n",
            "_________________________________________________________________\n",
            "conv1d_13 (Conv1D)           (None, 4, 64)             6208      \n",
            "_________________________________________________________________\n",
            "dropout_13 (Dropout)         (None, 4, 64)             0         \n",
            "_________________________________________________________________\n",
            "conv1d_14 (Conv1D)           (None, 2, 128)            24704     \n",
            "_________________________________________________________________\n",
            "dropout_14 (Dropout)         (None, 2, 128)            0         \n",
            "_________________________________________________________________\n",
            "max_pooling1d_4 (MaxPooling1 (None, 1, 128)            0         \n",
            "_________________________________________________________________\n",
            "global_average_pooling1d_4 ( (None, 128)               0         \n",
            "_________________________________________________________________\n",
            "dense_4 (Dense)              (None, 5)                 645       \n",
            "=================================================================\n",
            "Total params: 31,973\n",
            "Trainable params: 31,973\n",
            "Non-trainable params: 0\n",
            "_________________________________________________________________\n"
          ],
          "name": "stdout"
        }
      ]
    },
    {
      "cell_type": "markdown",
      "metadata": {
        "id": "wIjEOLLJGLSJ"
      },
      "source": [
        "### Modèle CNN2D"
      ]
    },
    {
      "cell_type": "code",
      "metadata": {
        "colab": {
          "base_uri": "https://localhost:8080/"
        },
        "id": "YHvHsz3WZ8By",
        "outputId": "6c4462c7-a03c-4d61-921d-a63b476a0581"
      },
      "source": [
        "model = Sequential() # Modele CNN2D\n",
        "model.add(Conv2D(32, (3,3), activation='relu', input_shape=(5,5,32)))\n",
        "model.add(Dropout(0.1))\n",
        "model.add(Conv2D(64, (1,1), activation='relu'))\n",
        "model.add(MaxPooling2D(2,2))\n",
        "model.add(Dropout(0.2))\n",
        "model.add(GlobalAveragePooling2D())\n",
        "model.add(Dense(5, activation='softmax'))\n",
        "\n",
        "model.summary()"
      ],
      "execution_count": null,
      "outputs": [
        {
          "output_type": "stream",
          "text": [
            "Model: \"sequential_2\"\n",
            "_________________________________________________________________\n",
            "Layer (type)                 Output Shape              Param #   \n",
            "=================================================================\n",
            "conv2d_10 (Conv2D)           (None, 3, 3, 32)          9248      \n",
            "_________________________________________________________________\n",
            "dropout_34 (Dropout)         (None, 3, 3, 32)          0         \n",
            "_________________________________________________________________\n",
            "conv2d_11 (Conv2D)           (None, 3, 3, 64)          2112      \n",
            "_________________________________________________________________\n",
            "max_pooling2d_5 (MaxPooling2 (None, 1, 1, 64)          0         \n",
            "_________________________________________________________________\n",
            "dropout_35 (Dropout)         (None, 1, 1, 64)          0         \n",
            "_________________________________________________________________\n",
            "global_average_pooling2d_5 ( (None, 64)                0         \n",
            "_________________________________________________________________\n",
            "dense_30 (Dense)             (None, 5)                 325       \n",
            "=================================================================\n",
            "Total params: 11,685\n",
            "Trainable params: 11,685\n",
            "Non-trainable params: 0\n",
            "_________________________________________________________________\n"
          ],
          "name": "stdout"
        }
      ]
    },
    {
      "cell_type": "markdown",
      "metadata": {
        "id": "FQbCM_T3GQ6M"
      },
      "source": [
        "### Modèle MLP"
      ]
    },
    {
      "cell_type": "code",
      "metadata": {
        "colab": {
          "base_uri": "https://localhost:8080/"
        },
        "id": "cvUdNqlKAu0X",
        "outputId": "1ee7071b-9bcf-4c9d-90c6-649bf5de6127"
      },
      "source": [
        "model = tf.keras.Sequential([\n",
        "                             tf.keras.Input(shape=(32)),\n",
        "                             tf.keras.layers.Dense(64, activation='relu'),  \n",
        "                             tf.keras.layers.Dropout(0.3), \n",
        "                             tf.keras.layers.Dense(128, activation='relu'),\n",
        "                             tf.keras.layers.Dropout(0.3),\n",
        "                             tf.keras.layers.Dense(256, activation='relu'),\n",
        "                             tf.keras.layers.Dropout(0.3)\n",
        "                             ])\n",
        "\n",
        "# .... à compléter ....4/1AY0e-g7ust680Kg4-eB33LbFtUsqxPhYKsUJg2KtuChzseU6ggxTDPtLusw\n",
        "model.add(tf.keras.layers.Dense(5, activation='softmax'))\n",
        "# Afficher votre modèle\n",
        "model.summary()"
      ],
      "execution_count": null,
      "outputs": [
        {
          "output_type": "stream",
          "text": [
            "Model: \"sequential\"\n",
            "_________________________________________________________________\n",
            "Layer (type)                 Output Shape              Param #   \n",
            "=================================================================\n",
            "dense (Dense)                (None, 64)                2112      \n",
            "_________________________________________________________________\n",
            "dropout (Dropout)            (None, 64)                0         \n",
            "_________________________________________________________________\n",
            "dense_1 (Dense)              (None, 128)               8320      \n",
            "_________________________________________________________________\n",
            "dropout_1 (Dropout)          (None, 128)               0         \n",
            "_________________________________________________________________\n",
            "dense_2 (Dense)              (None, 256)               33024     \n",
            "_________________________________________________________________\n",
            "dropout_2 (Dropout)          (None, 256)               0         \n",
            "_________________________________________________________________\n",
            "dense_3 (Dense)              (None, 5)                 1285      \n",
            "=================================================================\n",
            "Total params: 44,741\n",
            "Trainable params: 44,741\n",
            "Non-trainable params: 0\n",
            "_________________________________________________________________\n"
          ],
          "name": "stdout"
        }
      ]
    },
    {
      "cell_type": "markdown",
      "metadata": {
        "id": "f2ksSpJGF1gP"
      },
      "source": [
        "### **Compiler votre modèle en définissant une fonction de côut, un optmiseur et une métrique**\n",
        "\n",
        "Dans le cas d'une classification multi-classe, votre fonction de coût est la cross entropy catégorique. $Adam$ est un bon optimiseur de départ pour vos projets. Ici vous pouvez surveiller la métrique $Accuracy$. Pour la fonction de coût (loss), je n'utilse pas l'argument $from\\_logits=True$ car j'ai déjà activé la couche de sortie avec une fonction Softmax"
      ]
    },
    {
      "cell_type": "code",
      "metadata": {
        "id": "qtwtaGndG7UN"
      },
      "source": [
        "#optimizer = keras.optimizers.SGD(learning_rate=0.0001)\n",
        "model.compile(optimizer='sgd',loss=tf.keras.losses.SparseCategoricalCrossentropy(), metrics=['acc'])"
      ],
      "execution_count": null,
      "outputs": []
    },
    {
      "cell_type": "markdown",
      "metadata": {
        "id": "aLKCHopeIIet"
      },
      "source": [
        "### **Définir un callback pour sauver les poids de votre modèle sur les meilleures époque c'est à dire les moments où il s'améliorera sur le jeu de validation**"
      ]
    },
    {
      "cell_type": "code",
      "metadata": {
        "id": "X-_N87DhIH5N"
      },
      "source": [
        "#pour garder the best epoques -> saved in my_model\n",
        "Path('my_model').mkdir(exist_ok=True, parents=True)\n",
        "checkpointpath = os.path.join('my_model','model') # chemin où sauver le modèle\n",
        "callbacks = [tf.keras.callbacks.ModelCheckpoint(\n",
        "              checkpointpath,\n",
        "              verbose=1, # niveau de log\n",
        "              monitor='val_acc', # nom de la métrique à surveiller\n",
        "              save_best_only=True, # sauver uniquement le meilleur modèle\n",
        "              save_weights_only=True)] # sauver uniquement les poids"
      ],
      "execution_count": null,
      "outputs": []
    },
    {
      "cell_type": "markdown",
      "metadata": {
        "id": "ozHZJ2CZH72X"
      },
      "source": [
        "### **Entraîner votre modèle pour un certain nombre d'époques**\n",
        "\n",
        "Le paramètre $validation\\_data$ vous permet de spécifier des données de validation et de votre le comportement de votre modèle sur un jeu indépendant dont il n'a pas la connaissance. \n",
        "\n",
        "La taille de batch ($batch\\_size$) correspond au nombre d'échantillons sur lesquels le modèle est entraîné à la fois sur une époque. Vous pouvez le mettre à (ex. 32, 64, 128, 256) et plus il est grand ce qui requiert d'avoir de la mémoire plus le temps d'exécution d'une époque sera court\n",
        "\n",
        "J'utilise les labels encodés entre 0 et 4 car la prédiction sur les distributions de probabilités du modèle est retournée avec un argmax"
      ]
    },
    {
      "cell_type": "code",
      "metadata": {
        "colab": {
          "base_uri": "https://localhost:8080/"
        },
        "id": "8WpxHz3FJuJ6",
        "outputId": "0170d44c-775b-401f-8c19-def8a3167c26"
      },
      "source": [
        "BATCH_SIZE = 128\n",
        "EPOCHS = 50\n",
        "history = model.fit (train_X, train_y_enc, validation_data=(valid_X,valid_y_enc), batch_size=BATCH_SIZE, epochs=EPOCHS, callbacks=callbacks)"
      ],
      "execution_count": null,
      "outputs": [
        {
          "output_type": "stream",
          "text": [
            "Epoch 1/50\n",
            "3523/3531 [============================>.] - ETA: 0s - loss: 0.7366 - acc: 0.7481\n",
            "Epoch 00001: val_acc improved from -inf to 0.69283, saving model to my_model/model\n",
            "3531/3531 [==============================] - 12s 3ms/step - loss: 0.7362 - acc: 0.7483 - val_loss: 0.7131 - val_acc: 0.6928\n",
            "Epoch 2/50\n",
            "3519/3531 [============================>.] - ETA: 0s - loss: 0.5158 - acc: 0.8302\n",
            "Epoch 00002: val_acc improved from 0.69283 to 0.82241, saving model to my_model/model\n",
            "3531/3531 [==============================] - 12s 3ms/step - loss: 0.5157 - acc: 0.8303 - val_loss: 0.5380 - val_acc: 0.8224\n",
            "Epoch 3/50\n",
            "3517/3531 [============================>.] - ETA: 0s - loss: 0.4686 - acc: 0.8507\n",
            "Epoch 00003: val_acc improved from 0.82241 to 0.83351, saving model to my_model/model\n",
            "3531/3531 [==============================] - 12s 3ms/step - loss: 0.4686 - acc: 0.8507 - val_loss: 0.4705 - val_acc: 0.8335\n",
            "Epoch 4/50\n",
            "3530/3531 [============================>.] - ETA: 0s - loss: 0.4471 - acc: 0.8558\n",
            "Epoch 00004: val_acc improved from 0.83351 to 0.83845, saving model to my_model/model\n",
            "3531/3531 [==============================] - 12s 3ms/step - loss: 0.4471 - acc: 0.8558 - val_loss: 0.4396 - val_acc: 0.8384\n",
            "Epoch 5/50\n",
            "3515/3531 [============================>.] - ETA: 0s - loss: 0.4337 - acc: 0.8589\n",
            "Epoch 00005: val_acc improved from 0.83845 to 0.84097, saving model to my_model/model\n",
            "3531/3531 [==============================] - 12s 3ms/step - loss: 0.4337 - acc: 0.8590 - val_loss: 0.4242 - val_acc: 0.8410\n",
            "Epoch 6/50\n",
            "3528/3531 [============================>.] - ETA: 0s - loss: 0.4237 - acc: 0.8616\n",
            "Epoch 00006: val_acc improved from 0.84097 to 0.84335, saving model to my_model/model\n",
            "3531/3531 [==============================] - 12s 3ms/step - loss: 0.4237 - acc: 0.8616 - val_loss: 0.4128 - val_acc: 0.8433\n",
            "Epoch 7/50\n",
            "3524/3531 [============================>.] - ETA: 0s - loss: 0.4146 - acc: 0.8637\n",
            "Epoch 00007: val_acc improved from 0.84335 to 0.84569, saving model to my_model/model\n",
            "3531/3531 [==============================] - 12s 3ms/step - loss: 0.4145 - acc: 0.8637 - val_loss: 0.4017 - val_acc: 0.8457\n",
            "Epoch 8/50\n",
            "3522/3531 [============================>.] - ETA: 0s - loss: 0.4067 - acc: 0.8656\n",
            "Epoch 00008: val_acc improved from 0.84569 to 0.84591, saving model to my_model/model\n",
            "3531/3531 [==============================] - 12s 3ms/step - loss: 0.4067 - acc: 0.8656 - val_loss: 0.3987 - val_acc: 0.8459\n",
            "Epoch 9/50\n",
            "3519/3531 [============================>.] - ETA: 0s - loss: 0.3975 - acc: 0.8680\n",
            "Epoch 00009: val_acc improved from 0.84591 to 0.85056, saving model to my_model/model\n",
            "3531/3531 [==============================] - 12s 3ms/step - loss: 0.3975 - acc: 0.8680 - val_loss: 0.3747 - val_acc: 0.8506\n",
            "Epoch 10/50\n",
            "3514/3531 [============================>.] - ETA: 0s - loss: 0.3889 - acc: 0.8702\n",
            "Epoch 00010: val_acc improved from 0.85056 to 0.85190, saving model to my_model/model\n",
            "3531/3531 [==============================] - 12s 3ms/step - loss: 0.3889 - acc: 0.8702 - val_loss: 0.3722 - val_acc: 0.8519\n",
            "Epoch 11/50\n",
            "3528/3531 [============================>.] - ETA: 0s - loss: 0.3816 - acc: 0.8721\n",
            "Epoch 00011: val_acc improved from 0.85190 to 0.85282, saving model to my_model/model\n",
            "3531/3531 [==============================] - 12s 3ms/step - loss: 0.3815 - acc: 0.8721 - val_loss: 0.3659 - val_acc: 0.8528\n",
            "Epoch 12/50\n",
            "3523/3531 [============================>.] - ETA: 0s - loss: 0.3751 - acc: 0.8740\n",
            "Epoch 00012: val_acc improved from 0.85282 to 0.85852, saving model to my_model/model\n",
            "3531/3531 [==============================] - 12s 3ms/step - loss: 0.3751 - acc: 0.8740 - val_loss: 0.3517 - val_acc: 0.8585\n",
            "Epoch 13/50\n",
            "3527/3531 [============================>.] - ETA: 0s - loss: 0.3687 - acc: 0.8759\n",
            "Epoch 00013: val_acc improved from 0.85852 to 0.86087, saving model to my_model/model\n",
            "3531/3531 [==============================] - 12s 3ms/step - loss: 0.3687 - acc: 0.8759 - val_loss: 0.3449 - val_acc: 0.8609\n",
            "Epoch 14/50\n",
            "3523/3531 [============================>.] - ETA: 0s - loss: 0.3620 - acc: 0.8779\n",
            "Epoch 00014: val_acc improved from 0.86087 to 0.86420, saving model to my_model/model\n",
            "3531/3531 [==============================] - 12s 3ms/step - loss: 0.3620 - acc: 0.8779 - val_loss: 0.3342 - val_acc: 0.8642\n",
            "Epoch 15/50\n",
            "3521/3531 [============================>.] - ETA: 0s - loss: 0.3566 - acc: 0.8803\n",
            "Epoch 00015: val_acc improved from 0.86420 to 0.86593, saving model to my_model/model\n",
            "3531/3531 [==============================] - 12s 3ms/step - loss: 0.3565 - acc: 0.8803 - val_loss: 0.3293 - val_acc: 0.8659\n",
            "Epoch 16/50\n",
            "3518/3531 [============================>.] - ETA: 0s - loss: 0.3498 - acc: 0.8821\n",
            "Epoch 00016: val_acc did not improve from 0.86593\n",
            "3531/3531 [==============================] - 12s 3ms/step - loss: 0.3498 - acc: 0.8821 - val_loss: 0.3319 - val_acc: 0.8650\n",
            "Epoch 17/50\n",
            "3522/3531 [============================>.] - ETA: 0s - loss: 0.3437 - acc: 0.8842\n",
            "Epoch 00017: val_acc improved from 0.86593 to 0.87176, saving model to my_model/model\n",
            "3531/3531 [==============================] - 12s 3ms/step - loss: 0.3437 - acc: 0.8842 - val_loss: 0.3185 - val_acc: 0.8718\n",
            "Epoch 18/50\n",
            "3522/3531 [============================>.] - ETA: 0s - loss: 0.3379 - acc: 0.8857\n",
            "Epoch 00018: val_acc improved from 0.87176 to 0.87388, saving model to my_model/model\n",
            "3531/3531 [==============================] - 13s 4ms/step - loss: 0.3379 - acc: 0.8857 - val_loss: 0.3152 - val_acc: 0.8739\n",
            "Epoch 19/50\n",
            "3528/3531 [============================>.] - ETA: 0s - loss: 0.3325 - acc: 0.8876\n",
            "Epoch 00019: val_acc improved from 0.87388 to 0.87833, saving model to my_model/model\n",
            "3531/3531 [==============================] - 12s 4ms/step - loss: 0.3325 - acc: 0.8877 - val_loss: 0.3167 - val_acc: 0.8783\n",
            "Epoch 20/50\n",
            "3514/3531 [============================>.] - ETA: 0s - loss: 0.3274 - acc: 0.8892\n",
            "Epoch 00020: val_acc improved from 0.87833 to 0.88201, saving model to my_model/model\n",
            "3531/3531 [==============================] - 12s 3ms/step - loss: 0.3275 - acc: 0.8892 - val_loss: 0.3082 - val_acc: 0.8820\n",
            "Epoch 21/50\n",
            "3521/3531 [============================>.] - ETA: 0s - loss: 0.3229 - acc: 0.8908\n",
            "Epoch 00021: val_acc improved from 0.88201 to 0.88914, saving model to my_model/model\n",
            "3531/3531 [==============================] - 12s 3ms/step - loss: 0.3230 - acc: 0.8907 - val_loss: 0.2981 - val_acc: 0.8891\n",
            "Epoch 22/50\n",
            "3516/3531 [============================>.] - ETA: 0s - loss: 0.3186 - acc: 0.8920\n",
            "Epoch 00022: val_acc did not improve from 0.88914\n",
            "3531/3531 [==============================] - 12s 3ms/step - loss: 0.3185 - acc: 0.8920 - val_loss: 0.2973 - val_acc: 0.8813\n",
            "Epoch 23/50\n",
            "3515/3531 [============================>.] - ETA: 0s - loss: 0.3149 - acc: 0.8932\n",
            "Epoch 00023: val_acc did not improve from 0.88914\n",
            "3531/3531 [==============================] - 12s 3ms/step - loss: 0.3150 - acc: 0.8932 - val_loss: 0.2928 - val_acc: 0.8845\n",
            "Epoch 24/50\n",
            "3517/3531 [============================>.] - ETA: 0s - loss: 0.3110 - acc: 0.8945\n",
            "Epoch 00024: val_acc improved from 0.88914 to 0.89333, saving model to my_model/model\n",
            "3531/3531 [==============================] - 12s 3ms/step - loss: 0.3111 - acc: 0.8945 - val_loss: 0.2937 - val_acc: 0.8933\n",
            "Epoch 25/50\n",
            "3518/3531 [============================>.] - ETA: 0s - loss: 0.3076 - acc: 0.8957\n",
            "Epoch 00025: val_acc did not improve from 0.89333\n",
            "3531/3531 [==============================] - 12s 3ms/step - loss: 0.3077 - acc: 0.8957 - val_loss: 0.3023 - val_acc: 0.8809\n",
            "Epoch 26/50\n",
            "3519/3531 [============================>.] - ETA: 0s - loss: 0.3044 - acc: 0.8965\n",
            "Epoch 00026: val_acc improved from 0.89333 to 0.89723, saving model to my_model/model\n",
            "3531/3531 [==============================] - 12s 3ms/step - loss: 0.3044 - acc: 0.8965 - val_loss: 0.2914 - val_acc: 0.8972\n",
            "Epoch 27/50\n",
            "3518/3531 [============================>.] - ETA: 0s - loss: 0.3014 - acc: 0.8979\n",
            "Epoch 00027: val_acc did not improve from 0.89723\n",
            "3531/3531 [==============================] - 12s 3ms/step - loss: 0.3014 - acc: 0.8979 - val_loss: 0.2807 - val_acc: 0.8962\n",
            "Epoch 28/50\n",
            "3525/3531 [============================>.] - ETA: 0s - loss: 0.2984 - acc: 0.8987\n",
            "Epoch 00028: val_acc improved from 0.89723 to 0.90033, saving model to my_model/model\n",
            "3531/3531 [==============================] - 12s 3ms/step - loss: 0.2984 - acc: 0.8987 - val_loss: 0.2777 - val_acc: 0.9003\n",
            "Epoch 29/50\n",
            "3530/3531 [============================>.] - ETA: 0s - loss: 0.2957 - acc: 0.8996\n",
            "Epoch 00029: val_acc did not improve from 0.90033\n",
            "3531/3531 [==============================] - 12s 3ms/step - loss: 0.2957 - acc: 0.8996 - val_loss: 0.2793 - val_acc: 0.8996\n",
            "Epoch 30/50\n",
            "3518/3531 [============================>.] - ETA: 0s - loss: 0.2922 - acc: 0.9007\n",
            "Epoch 00030: val_acc did not improve from 0.90033\n",
            "3531/3531 [==============================] - 12s 3ms/step - loss: 0.2922 - acc: 0.9007 - val_loss: 0.2754 - val_acc: 0.8988\n",
            "Epoch 31/50\n",
            "3521/3531 [============================>.] - ETA: 0s - loss: 0.2901 - acc: 0.9015\n",
            "Epoch 00031: val_acc improved from 0.90033 to 0.90191, saving model to my_model/model\n",
            "3531/3531 [==============================] - 12s 3ms/step - loss: 0.2902 - acc: 0.9015 - val_loss: 0.2836 - val_acc: 0.9019\n",
            "Epoch 32/50\n",
            "3531/3531 [==============================] - ETA: 0s - loss: 0.2878 - acc: 0.9020\n",
            "Epoch 00032: val_acc did not improve from 0.90191\n",
            "3531/3531 [==============================] - 12s 3ms/step - loss: 0.2878 - acc: 0.9020 - val_loss: 0.2811 - val_acc: 0.8924\n",
            "Epoch 33/50\n",
            "3522/3531 [============================>.] - ETA: 0s - loss: 0.2850 - acc: 0.9029\n",
            "Epoch 00033: val_acc did not improve from 0.90191\n",
            "3531/3531 [==============================] - 12s 3ms/step - loss: 0.2850 - acc: 0.9029 - val_loss: 0.2728 - val_acc: 0.9016\n",
            "Epoch 34/50\n",
            "3526/3531 [============================>.] - ETA: 0s - loss: 0.2833 - acc: 0.9037\n",
            "Epoch 00034: val_acc did not improve from 0.90191\n",
            "3531/3531 [==============================] - 12s 3ms/step - loss: 0.2833 - acc: 0.9037 - val_loss: 0.3003 - val_acc: 0.8831\n",
            "Epoch 35/50\n",
            "3518/3531 [============================>.] - ETA: 0s - loss: 0.2809 - acc: 0.9043\n",
            "Epoch 00035: val_acc improved from 0.90191 to 0.90551, saving model to my_model/model\n",
            "3531/3531 [==============================] - 12s 3ms/step - loss: 0.2808 - acc: 0.9043 - val_loss: 0.2636 - val_acc: 0.9055\n",
            "Epoch 36/50\n",
            "3527/3531 [============================>.] - ETA: 0s - loss: 0.2784 - acc: 0.9047\n",
            "Epoch 00036: val_acc improved from 0.90551 to 0.90575, saving model to my_model/model\n",
            "3531/3531 [==============================] - 12s 3ms/step - loss: 0.2785 - acc: 0.9047 - val_loss: 0.2668 - val_acc: 0.9058\n",
            "Epoch 37/50\n",
            "3517/3531 [============================>.] - ETA: 0s - loss: 0.2763 - acc: 0.9056\n",
            "Epoch 00037: val_acc improved from 0.90575 to 0.90584, saving model to my_model/model\n",
            "3531/3531 [==============================] - 12s 3ms/step - loss: 0.2764 - acc: 0.9055 - val_loss: 0.2663 - val_acc: 0.9058\n",
            "Epoch 38/50\n",
            "3517/3531 [============================>.] - ETA: 0s - loss: 0.2743 - acc: 0.9062\n",
            "Epoch 00038: val_acc improved from 0.90584 to 0.91087, saving model to my_model/model\n",
            "3531/3531 [==============================] - 12s 3ms/step - loss: 0.2743 - acc: 0.9062 - val_loss: 0.2614 - val_acc: 0.9109\n",
            "Epoch 39/50\n",
            "3515/3531 [============================>.] - ETA: 0s - loss: 0.2719 - acc: 0.9070\n",
            "Epoch 00039: val_acc did not improve from 0.91087\n",
            "3531/3531 [==============================] - 12s 3ms/step - loss: 0.2719 - acc: 0.9070 - val_loss: 0.2867 - val_acc: 0.8913\n",
            "Epoch 40/50\n",
            "3518/3531 [============================>.] - ETA: 0s - loss: 0.2700 - acc: 0.9079\n",
            "Epoch 00040: val_acc improved from 0.91087 to 0.91129, saving model to my_model/model\n",
            "3531/3531 [==============================] - 12s 3ms/step - loss: 0.2701 - acc: 0.9079 - val_loss: 0.2574 - val_acc: 0.9113\n",
            "Epoch 41/50\n",
            "3523/3531 [============================>.] - ETA: 0s - loss: 0.2683 - acc: 0.9083\n",
            "Epoch 00041: val_acc did not improve from 0.91129\n",
            "3531/3531 [==============================] - 12s 3ms/step - loss: 0.2683 - acc: 0.9083 - val_loss: 0.2553 - val_acc: 0.9106\n",
            "Epoch 42/50\n",
            "3531/3531 [==============================] - ETA: 0s - loss: 0.2662 - acc: 0.9088\n",
            "Epoch 00042: val_acc did not improve from 0.91129\n",
            "3531/3531 [==============================] - 12s 3ms/step - loss: 0.2662 - acc: 0.9088 - val_loss: 0.2652 - val_acc: 0.9101\n",
            "Epoch 43/50\n",
            "3528/3531 [============================>.] - ETA: 0s - loss: 0.2644 - acc: 0.9094\n",
            "Epoch 00043: val_acc did not improve from 0.91129\n",
            "3531/3531 [==============================] - 12s 3ms/step - loss: 0.2644 - acc: 0.9094 - val_loss: 0.2557 - val_acc: 0.9097\n",
            "Epoch 44/50\n",
            "3525/3531 [============================>.] - ETA: 0s - loss: 0.2634 - acc: 0.9098\n",
            "Epoch 00044: val_acc improved from 0.91129 to 0.91154, saving model to my_model/model\n",
            "3531/3531 [==============================] - 13s 4ms/step - loss: 0.2634 - acc: 0.9099 - val_loss: 0.2512 - val_acc: 0.9115\n",
            "Epoch 45/50\n",
            "3530/3531 [============================>.] - ETA: 0s - loss: 0.2611 - acc: 0.9106\n",
            "Epoch 00045: val_acc improved from 0.91154 to 0.91462, saving model to my_model/model\n",
            "3531/3531 [==============================] - 13s 4ms/step - loss: 0.2611 - acc: 0.9106 - val_loss: 0.2574 - val_acc: 0.9146\n",
            "Epoch 46/50\n",
            "3529/3531 [============================>.] - ETA: 0s - loss: 0.2598 - acc: 0.9104\n",
            "Epoch 00046: val_acc did not improve from 0.91462\n",
            "3531/3531 [==============================] - 12s 3ms/step - loss: 0.2598 - acc: 0.9104 - val_loss: 0.2525 - val_acc: 0.9115\n",
            "Epoch 47/50\n",
            "3530/3531 [============================>.] - ETA: 0s - loss: 0.2591 - acc: 0.9111\n",
            "Epoch 00047: val_acc did not improve from 0.91462\n",
            "3531/3531 [==============================] - 12s 3ms/step - loss: 0.2591 - acc: 0.9111 - val_loss: 0.2539 - val_acc: 0.9137\n",
            "Epoch 48/50\n",
            "3518/3531 [============================>.] - ETA: 0s - loss: 0.2567 - acc: 0.9115\n",
            "Epoch 00048: val_acc did not improve from 0.91462\n",
            "3531/3531 [==============================] - 12s 3ms/step - loss: 0.2566 - acc: 0.9115 - val_loss: 0.2470 - val_acc: 0.9124\n",
            "Epoch 49/50\n",
            "3527/3531 [============================>.] - ETA: 0s - loss: 0.2552 - acc: 0.9122\n",
            "Epoch 00049: val_acc did not improve from 0.91462\n",
            "3531/3531 [==============================] - 12s 3ms/step - loss: 0.2552 - acc: 0.9122 - val_loss: 0.2534 - val_acc: 0.9138\n",
            "Epoch 50/50\n",
            "3523/3531 [============================>.] - ETA: 0s - loss: 0.2542 - acc: 0.9124\n",
            "Epoch 00050: val_acc did not improve from 0.91462\n",
            "3531/3531 [==============================] - 12s 3ms/step - loss: 0.2542 - acc: 0.9124 - val_loss: 0.2653 - val_acc: 0.9082\n"
          ],
          "name": "stdout"
        }
      ]
    },
    {
      "cell_type": "markdown",
      "metadata": {
        "id": "n8LxITTsM856"
      },
      "source": [
        "### **Restaurer les poids du modèle sur la meilleure époque d'entraînement**"
      ]
    },
    {
      "cell_type": "code",
      "metadata": {
        "colab": {
          "base_uri": "https://localhost:8080/"
        },
        "id": "l1F4KMnnMz3d",
        "outputId": "f63bcb18-396c-4ebc-f101-b481218d07e4"
      },
      "source": [
        "model.load_weights(checkpointpath)\n",
        "# S'assurer que c'est bien le meilleur modèle sur les époques d'entraînement\n",
        "model.evaluate(valid_X,valid_y_enc,batch_size=256)\n",
        "#test_y_enc = encoder.transform(test_y)\n",
        "#test_loss, test_acc = model.evaluate(valid_X,  valid_y_enc, verbose=2)"
      ],
      "execution_count": null,
      "outputs": [
        {
          "output_type": "stream",
          "text": [
            "600/600 [==============================] - 1s 2ms/step - loss: 0.2574 - acc: 0.9146\n"
          ],
          "name": "stdout"
        },
        {
          "output_type": "execute_result",
          "data": {
            "text/plain": [
              "[0.25735926628112793, 0.9146211743354797]"
            ]
          },
          "metadata": {
            "tags": []
          },
          "execution_count": 139
        }
      ]
    },
    {
      "cell_type": "code",
      "metadata": {
        "colab": {
          "base_uri": "https://localhost:8080/",
          "height": 316
        },
        "id": "G0GT21yG4d14",
        "outputId": "a148eb12-13c4-4753-d57a-2622c876936c"
      },
      "source": [
        "import matplotlib.pyplot as plt\n",
        "plt.style.use(\"ggplot\")\n",
        "plt.figure()\n",
        "\n",
        "plt.plot(np.arange(0, EPOCHS), history.history[\"acc\"], label=\"train_acc\")\n",
        "plt.plot(np.arange(0, EPOCHS), history.history[\"val_acc\"], label=\"val_acc\")\n",
        "plt.plot(np.arange(0, EPOCHS), history.history[\"loss\"], label=\"train_loss\")\n",
        "plt.plot(np.arange(0, EPOCHS), history.history[\"val_loss\"], label=\"val_loss\")\n",
        "plt.title(\"Accuracy et loss sur le Dataset\")\n",
        "plt.xlabel(\"Epoch #\")\n",
        "plt.ylabel(\"Accuracy/Loss\")\n",
        "plt.legend(loc=\"center right\")"
      ],
      "execution_count": null,
      "outputs": [
        {
          "output_type": "execute_result",
          "data": {
            "text/plain": [
              "<matplotlib.legend.Legend at 0x7f389a221198>"
            ]
          },
          "metadata": {
            "tags": []
          },
          "execution_count": 140
        },
        {
          "output_type": "display_data",
          "data": {
            "image/png": "[encoded data removed]",
            "text/plain": [
              "<Figure size 432x288 with 1 Axes>"
            ]
          },
          "metadata": {
            "tags": []
          }
        }
      ]
    },
    {
      "cell_type": "markdown",
      "metadata": {
        "id": "dQ969YI-NzZG"
      },
      "source": [
        "### **Prédiction des classes sur le jeu de validation et évaluation en aggrégeant au niveau objet**"
      ]
    },
    {
      "cell_type": "code",
      "metadata": {
        "colab": {
          "base_uri": "https://localhost:8080/"
        },
        "id": "UM_WKL2FNzZG",
        "outputId": "eca96100-4973-4783-8ae7-dbd97c62f95e"
      },
      "source": [
        "# Récupérer les probabilités prédites sur le jeu de validation\n",
        "valid_prob = model.predict(valid_X,batch_size=256) # anciene modele\n",
        "valid_prob.shape"
      ],
      "execution_count": null,
      "outputs": [
        {
          "output_type": "execute_result",
          "data": {
            "text/plain": [
              "(153469, 5)"
            ]
          },
          "metadata": {
            "tags": []
          },
          "execution_count": 141
        }
      ]
    },
    {
      "cell_type": "code",
      "metadata": {
        "colab": {
          "base_uri": "https://localhost:8080/"
        },
        "id": "GisNgsAyNzZI",
        "outputId": "4b108d12-f707-47ba-cbe6-e128332a8622"
      },
      "source": [
        "# Retourner la classe correspondant à la probabilité la plus haute\n",
        "valid_pred = np.argmax(valid_prob,axis=1) # axe 1 car ceci concerne chaque ligne\n",
        "valid_pred.shape\n",
        "valid_pred.view()"
      ],
      "execution_count": null,
      "outputs": [
        {
          "output_type": "execute_result",
          "data": {
            "text/plain": [
              "array([2, 2, 2, ..., 4, 4, 4])"
            ]
          },
          "metadata": {
            "tags": []
          },
          "execution_count": 142
        }
      ]
    },
    {
      "cell_type": "code",
      "metadata": {
        "colab": {
          "base_uri": "https://localhost:8080/"
        },
        "id": "P72Fb-93NzZI",
        "outputId": "4f875b4c-a431-43a5-f5c6-27072d2a8838"
      },
      "source": [
        "# Je réencode les prédictions entre 1 et 5\n",
        "valid_pred_enc = encoder.inverse_transform(valid_pred)\n",
        "np.unique(valid_pred_enc)"
      ],
      "execution_count": null,
      "outputs": [
        {
          "output_type": "execute_result",
          "data": {
            "text/plain": [
              "array([2, 3, 4, 5], dtype=uint8)"
            ]
          },
          "metadata": {
            "tags": []
          },
          "execution_count": 143
        }
      ]
    },
    {
      "cell_type": "code",
      "metadata": {
        "colab": {
          "base_uri": "https://localhost:8080/"
        },
        "id": "1coy3oh4NzZJ",
        "outputId": "64647906-89ea-42ab-b60e-7f9289beaf64"
      },
      "source": [
        "# Aggrégation au niveau objet\n",
        "out_pred = []\n",
        "unique_id = np.unique(valid_id)\n",
        "for ID in unique_id :\n",
        "    # Récupérer les prédictions des pixels appartenant au même objet\n",
        "    pred = valid_pred_enc[np.where(valid_id==ID)]\n",
        "    y_true = valid_y[np.where(valid_id==ID)]\n",
        "    # Prendre la valeur majoritaire des prédictions sur les pixels\n",
        "    out_pred.append([ np.bincount(y_true).argmax(), np.bincount(pred).argmax()]) #(Vérité terrain,Prédiction majoritaire)\n",
        "out_pred = np.vstack(out_pred)\n",
        "out_pred.shape"
      ],
      "execution_count": null,
      "outputs": [
        {
          "output_type": "execute_result",
          "data": {
            "text/plain": [
              "(558, 2)"
            ]
          },
          "metadata": {
            "tags": []
          },
          "execution_count": 144
        }
      ]
    },
    {
      "cell_type": "code",
      "metadata": {
        "colab": {
          "base_uri": "https://localhost:8080/"
        },
        "id": "xIxgwn5DNzZJ",
        "outputId": "e8b5638d-acaf-41fa-f50f-ff2934c80cc7"
      },
      "source": [
        "# F1 score au niveau objet\n",
        "f1_score(out_pred[:,0],out_pred[:,1],average='weighted')"
      ],
      "execution_count": null,
      "outputs": [
        {
          "output_type": "execute_result",
          "data": {
            "text/plain": [
              "0.8346598911375295"
            ]
          },
          "metadata": {
            "tags": []
          },
          "execution_count": 145
        }
      ]
    },
    {
      "cell_type": "markdown",
      "metadata": {
        "id": "3Yfz7brJN_8Y"
      },
      "source": [
        "### **Prédire sur le jeu test et Préparer une soumission**"
      ]
    },
    {
      "cell_type": "code",
      "metadata": {
        "colab": {
          "base_uri": "https://localhost:8080/"
        },
        "id": "qxgt0jEaN_8Y",
        "outputId": "b616f1a4-590b-4448-fa1c-dea85ae75a17"
      },
      "source": [
        "# Récupérer les probabilités prédites sur le jeu test\n",
        "test_prob = model.predict(test_X, batch_size=256)  \n",
        "test_prob.shape"
      ],
      "execution_count": null,
      "outputs": [
        {
          "output_type": "execute_result",
          "data": {
            "text/plain": [
              "(207485, 5)"
            ]
          },
          "metadata": {
            "tags": []
          },
          "execution_count": 146
        }
      ]
    },
    {
      "cell_type": "code",
      "metadata": {
        "colab": {
          "base_uri": "https://localhost:8080/"
        },
        "id": "kEhxSj9lN_8Y",
        "outputId": "9725e0d4-67b1-4c54-a69e-1b516827bd81"
      },
      "source": [
        "# Retourner la classe correspondant à la probabilité la plus haute\n",
        "test_pred = np.argmax(test_prob,axis=1) # axe 1 car ceci concerne chaque ligne\n",
        "test_pred.shape"
      ],
      "execution_count": null,
      "outputs": [
        {
          "output_type": "execute_result",
          "data": {
            "text/plain": [
              "(207485,)"
            ]
          },
          "metadata": {
            "tags": []
          },
          "execution_count": 147
        }
      ]
    },
    {
      "cell_type": "code",
      "metadata": {
        "colab": {
          "base_uri": "https://localhost:8080/"
        },
        "id": "eRAyo462N_8Y",
        "outputId": "da432550-b29a-47a4-c495-1f95e09a91f0"
      },
      "source": [
        "# Je réencode les prédictions entre 1 et 5\n",
        "test_pred_enc = encoder.inverse_transform(test_pred)\n",
        "np.unique(test_pred_enc)"
      ],
      "execution_count": null,
      "outputs": [
        {
          "output_type": "execute_result",
          "data": {
            "text/plain": [
              "array([2, 3, 4, 5], dtype=uint8)"
            ]
          },
          "metadata": {
            "tags": []
          },
          "execution_count": 148
        }
      ]
    },
    {
      "cell_type": "code",
      "metadata": {
        "colab": {
          "base_uri": "https://localhost:8080/"
        },
        "id": "zmOwTnHJN_8Y",
        "outputId": "d8db6499-67c4-422f-a1f4-96dd3d41ad98"
      },
      "source": [
        "# Aggrégation au niveau objet\n",
        "agg_pred = []\n",
        "unique_id = np.unique(test_id)\n",
        "for ID in unique_id :\n",
        "    # Récupérer les prédictions des pixels appartenant au même objet\n",
        "    pred = test_pred_enc[np.where(test_id==ID)]\n",
        "    # Prendre la valeur majoritaire des prédictions sur les pixels\n",
        "    agg_pred.append([ ID, np.bincount(pred).argmax()]) #(ID,Prédiction majoritaire)\n",
        "agg_pred = np.vstack(agg_pred)\n",
        "agg_pred.shape"
      ],
      "execution_count": null,
      "outputs": [
        {
          "output_type": "execute_result",
          "data": {
            "text/plain": [
              "(800, 2)"
            ]
          },
          "metadata": {
            "tags": []
          },
          "execution_count": 149
        }
      ]
    },
    {
      "cell_type": "code",
      "metadata": {
        "colab": {
          "base_uri": "https://localhost:8080/"
        },
        "id": "ODSTRPpWN_8Z",
        "outputId": "8f493c39-12d8-4409-a587-ce8ed91ff3e0"
      },
      "source": [
        "df = pd.DataFrame({'ID':agg_pred[:,0],'Class':agg_pred[:,1]})\n",
        "df.to_csv('Soumission_StefanMinyoungRaidh(1).csv',index=False)\n",
        "df.head(5)"
      ],
      "execution_count": null,
      "outputs": [
        {
          "output_type": "execute_result",
          "data": {
            "text/html": [
              "<div>\n",
              "<style scoped>\n",
              "    .dataframe tbody tr th:only-of-type {\n",
              "        vertical-align: middle;\n",
              "    }\n",
              "\n",
              "    .dataframe tbody tr th {\n",
              "        vertical-align: top;\n",
              "    }\n",
              "\n",
              "    .dataframe thead th {\n",
              "        text-align: right;\n",
              "    }\n",
              "</style>\n",
              "<table border=\"1\" class=\"dataframe\">\n",
              "  <thead>\n",
              "    <tr style=\"text-align: right;\">\n",
              "      <th></th>\n",
              "      <th>ID</th>\n",
              "      <th>Class</th>\n",
              "    </tr>\n",
              "  </thead>\n",
              "  <tbody>\n",
              "    <tr>\n",
              "      <th>0</th>\n",
              "      <td>4</td>\n",
              "      <td>5</td>\n",
              "    </tr>\n",
              "    <tr>\n",
              "      <th>1</th>\n",
              "      <td>7</td>\n",
              "      <td>3</td>\n",
              "    </tr>\n",
              "    <tr>\n",
              "      <th>2</th>\n",
              "      <td>8</td>\n",
              "      <td>5</td>\n",
              "    </tr>\n",
              "    <tr>\n",
              "      <th>3</th>\n",
              "      <td>9</td>\n",
              "      <td>3</td>\n",
              "    </tr>\n",
              "    <tr>\n",
              "      <th>4</th>\n",
              "      <td>10</td>\n",
              "      <td>3</td>\n",
              "    </tr>\n",
              "  </tbody>\n",
              "</table>\n",
              "</div>"
            ],
            "text/plain": [
              "   ID  Class\n",
              "0   4      5\n",
              "1   7      3\n",
              "2   8      5\n",
              "3   9      3\n",
              "4  10      3"
            ]
          },
          "metadata": {
            "tags": []
          },
          "execution_count": 150
        }
      ]
    },
    {
      "cell_type": "code",
      "metadata": {
        "colab": {
          "base_uri": "https://localhost:8080/"
        },
        "id": "3fD3bGHdN_8Z",
        "outputId": "e8c97d29-1043-4529-cdb5-c92c01582b84"
      },
      "source": [
        "# F1 Score au niveau objet\n",
        "!ls\n",
        "df_test = pd.read_csv('Test_ID_Label.csv') # Ce fichier vous sera fourni le 12 Novembre\n",
        "f1_score(df_test.Class,df.Class,average='weighted')"
      ],
      "execution_count": null,
      "outputs": [
        {
          "output_type": "stream",
          "text": [
            " data\t     my_model\t\t\t\t      Test_ID_Label.csv\n",
            " Images      Soumission_NomDuGroupe.csv\t\t      Verite_terrain\n",
            " model.png  'Soumission_StefanMinyoungRaidh(1).csv'\n"
          ],
          "name": "stdout"
        },
        {
          "output_type": "execute_result",
          "data": {
            "text/plain": [
              "0.8201881447069127"
            ]
          },
          "metadata": {
            "tags": []
          },
          "execution_count": 151
        }
      ]
    },
    {
      "cell_type": "markdown",
      "metadata": {
        "id": "dfvnw6PbPTwk"
      },
      "source": [
        "## **Modele CNN2D avec MLP**"
      ]
    },
    {
      "cell_type": "markdown",
      "metadata": {
        "id": "kJ6bUQyjPlsa"
      },
      "source": [
        "### Modele MLP"
      ]
    },
    {
      "cell_type": "code",
      "metadata": {
        "colab": {
          "base_uri": "https://localhost:8080/"
        },
        "id": "AUwZfiaIPfpF",
        "outputId": "bfeab9f8-95c4-4573-e8b4-4d8ec0484c34"
      },
      "source": [
        "def mlpModel():\n",
        "  input = tf.keras.Input(shape=(32))\n",
        "\n",
        "  layer1 = Dense(64, activation='relu')(input)\n",
        "  layer2 = Dropout(0.5)(layer1)\n",
        "  layer3 = Dense(128, activation='relu')(layer2)\n",
        "  layer4 = Dropout(0.5)(layer3)\n",
        "  layer5 = Dense(256, activation='relu')(layer4)\n",
        "  layer6 = Dropout(0.5)(layer5)\n",
        " # layer7 = Dense(32, activation='relu')(layer6)\n",
        " # layer8 = Dropout(0.3)(layer7)\n",
        "\n",
        "  return tf.keras.Model(inputs=input, outputs=layer6)\n",
        "\n",
        "mlp_model = mlpModel()\n",
        "mlp_model.summary()"
      ],
      "execution_count": null,
      "outputs": [
        {
          "output_type": "stream",
          "text": [
            "Model: \"functional_19\"\n",
            "_________________________________________________________________\n",
            "Layer (type)                 Output Shape              Param #   \n",
            "=================================================================\n",
            "input_7 (InputLayer)         [(None, 32)]              0         \n",
            "_________________________________________________________________\n",
            "dense_19 (Dense)             (None, 64)                2112      \n",
            "_________________________________________________________________\n",
            "dropout_19 (Dropout)         (None, 64)                0         \n",
            "_________________________________________________________________\n",
            "dense_20 (Dense)             (None, 128)               8320      \n",
            "_________________________________________________________________\n",
            "dropout_20 (Dropout)         (None, 128)               0         \n",
            "_________________________________________________________________\n",
            "dense_21 (Dense)             (None, 256)               33024     \n",
            "_________________________________________________________________\n",
            "dropout_21 (Dropout)         (None, 256)               0         \n",
            "=================================================================\n",
            "Total params: 43,456\n",
            "Trainable params: 43,456\n",
            "Non-trainable params: 0\n",
            "_________________________________________________________________\n"
          ],
          "name": "stdout"
        }
      ]
    },
    {
      "cell_type": "markdown",
      "metadata": {
        "id": "MKymPhOu19Sp"
      },
      "source": [
        "### Model CNN2D"
      ]
    },
    {
      "cell_type": "code",
      "metadata": {
        "colab": {
          "base_uri": "https://localhost:8080/"
        },
        "id": "bjGvjyls2BcN",
        "outputId": "97b6051b-7c4f-4f37-855e-3805e07750db"
      },
      "source": [
        "def cnn2dModel():\n",
        "  input = tf.keras.Input(shape=(5,5,32))\n",
        "\n",
        "  layer1 = Conv2D(filters=32, kernel_size=(3,3), activation='relu')(input)\n",
        "  layer2 = Dropout(0.5)(layer1)\n",
        "  layer3 = Conv2D(filters=64, kernel_size=(1,1), activation='relu')(layer2)\n",
        "  layer4 = MaxPooling2D(2,2)(layer3)\n",
        "  layer5 = Dropout(0.5)(layer4)\n",
        "  layer6 = GlobalAveragePooling2D()(layer5)\n",
        "\n",
        "  return tf.keras.Model(inputs=input, outputs=layer6)\n",
        "\n",
        "cnn2d_model = cnn2dModel()\n",
        "cnn2d_model.summary()"
      ],
      "execution_count": null,
      "outputs": [
        {
          "output_type": "stream",
          "text": [
            "Model: \"functional_21\"\n",
            "_________________________________________________________________\n",
            "Layer (type)                 Output Shape              Param #   \n",
            "=================================================================\n",
            "input_8 (InputLayer)         [(None, 5, 5, 32)]        0         \n",
            "_________________________________________________________________\n",
            "conv2d_6 (Conv2D)            (None, 3, 3, 32)          9248      \n",
            "_________________________________________________________________\n",
            "dropout_22 (Dropout)         (None, 3, 3, 32)          0         \n",
            "_________________________________________________________________\n",
            "conv2d_7 (Conv2D)            (None, 3, 3, 64)          2112      \n",
            "_________________________________________________________________\n",
            "max_pooling2d_3 (MaxPooling2 (None, 1, 1, 64)          0         \n",
            "_________________________________________________________________\n",
            "dropout_23 (Dropout)         (None, 1, 1, 64)          0         \n",
            "_________________________________________________________________\n",
            "global_average_pooling2d_3 ( (None, 64)                0         \n",
            "=================================================================\n",
            "Total params: 11,360\n",
            "Trainable params: 11,360\n",
            "Non-trainable params: 0\n",
            "_________________________________________________________________\n"
          ],
          "name": "stdout"
        }
      ]
    },
    {
      "cell_type": "markdown",
      "metadata": {
        "id": "EDyM7Kjo6bvw"
      },
      "source": [
        "### Concatenation de deux modèles"
      ]
    },
    {
      "cell_type": "code",
      "metadata": {
        "colab": {
          "base_uri": "https://localhost:8080/",
          "height": 1000
        },
        "id": "0cNECn0XQKNu",
        "outputId": "518d1fb4-9dfa-47a9-c9d0-c65c1bb8e9a1"
      },
      "source": [
        "concat = tf.keras.layers.Concatenate()([mlp_model.output, cnn2d_model.output])\n",
        "\n",
        "layer_c = Dense(256, activation='relu')(concat)\n",
        "layer_cc = Dropout(0.5)(layer_c)\n",
        "out_layer = Dense(5, activation='softmax')(layer_cc)\n",
        "\n",
        "new_model = tf.keras.Model(inputs=[mlp_model.input, cnn2d_model.input], outputs=out_layer)\n",
        "\n",
        "new_model.summary()\n",
        "tf.keras.utils.plot_model(new_model)"
      ],
      "execution_count": null,
      "outputs": [
        {
          "output_type": "stream",
          "text": [
            "Model: \"functional_23\"\n",
            "__________________________________________________________________________________________________\n",
            "Layer (type)                    Output Shape         Param #     Connected to                     \n",
            "==================================================================================================\n",
            "input_7 (InputLayer)            [(None, 32)]         0                                            \n",
            "__________________________________________________________________________________________________\n",
            "input_8 (InputLayer)            [(None, 5, 5, 32)]   0                                            \n",
            "__________________________________________________________________________________________________\n",
            "dense_19 (Dense)                (None, 64)           2112        input_7[0][0]                    \n",
            "__________________________________________________________________________________________________\n",
            "conv2d_6 (Conv2D)               (None, 3, 3, 32)     9248        input_8[0][0]                    \n",
            "__________________________________________________________________________________________________\n",
            "dropout_19 (Dropout)            (None, 64)           0           dense_19[0][0]                   \n",
            "__________________________________________________________________________________________________\n",
            "dropout_22 (Dropout)            (None, 3, 3, 32)     0           conv2d_6[0][0]                   \n",
            "__________________________________________________________________________________________________\n",
            "dense_20 (Dense)                (None, 128)          8320        dropout_19[0][0]                 \n",
            "__________________________________________________________________________________________________\n",
            "conv2d_7 (Conv2D)               (None, 3, 3, 64)     2112        dropout_22[0][0]                 \n",
            "__________________________________________________________________________________________________\n",
            "dropout_20 (Dropout)            (None, 128)          0           dense_20[0][0]                   \n",
            "__________________________________________________________________________________________________\n",
            "max_pooling2d_3 (MaxPooling2D)  (None, 1, 1, 64)     0           conv2d_7[0][0]                   \n",
            "__________________________________________________________________________________________________\n",
            "dense_21 (Dense)                (None, 256)          33024       dropout_20[0][0]                 \n",
            "__________________________________________________________________________________________________\n",
            "dropout_23 (Dropout)            (None, 1, 1, 64)     0           max_pooling2d_3[0][0]            \n",
            "__________________________________________________________________________________________________\n",
            "dropout_21 (Dropout)            (None, 256)          0           dense_21[0][0]                   \n",
            "__________________________________________________________________________________________________\n",
            "global_average_pooling2d_3 (Glo (None, 64)           0           dropout_23[0][0]                 \n",
            "__________________________________________________________________________________________________\n",
            "concatenate_4 (Concatenate)     (None, 320)          0           dropout_21[0][0]                 \n",
            "                                                                 global_average_pooling2d_3[0][0] \n",
            "__________________________________________________________________________________________________\n",
            "dense_22 (Dense)                (None, 256)          82176       concatenate_4[0][0]              \n",
            "__________________________________________________________________________________________________\n",
            "dropout_24 (Dropout)            (None, 256)          0           dense_22[0][0]                   \n",
            "__________________________________________________________________________________________________\n",
            "dense_23 (Dense)                (None, 5)            1285        dropout_24[0][0]                 \n",
            "==================================================================================================\n",
            "Total params: 138,277\n",
            "Trainable params: 138,277\n",
            "Non-trainable params: 0\n",
            "__________________________________________________________________________________________________\n"
          ],
          "name": "stdout"
        },
        {
          "output_type": "execute_result",
          "data": {
            "image/png": "[encoded data removed]",
            "text/plain": [
              "<IPython.core.display.Image object>"
            ]
          },
          "metadata": {
            "tags": []
          },
          "execution_count": 59
        }
      ]
    },
    {
      "cell_type": "markdown",
      "metadata": {
        "id": "JXP2c337HEW4"
      },
      "source": [
        "### Compilation et entrainement"
      ]
    },
    {
      "cell_type": "code",
      "metadata": {
        "id": "EOviFy95HJYB"
      },
      "source": [
        "new_model.compile(optimizer='adam',loss=tf.keras.losses.SparseCategoricalCrossentropy(), metrics=['acc'])"
      ],
      "execution_count": null,
      "outputs": []
    },
    {
      "cell_type": "code",
      "metadata": {
        "id": "1KvFIlEFHRJD"
      },
      "source": [
        "Path('my_model').mkdir(exist_ok=True, parents=True)\n",
        "checkpointpath = os.path.join('my_model','new_model') # chemin où sauver le modèle\n",
        "callbacks = [tf.keras.callbacks.ModelCheckpoint(\n",
        "              checkpointpath,\n",
        "              verbose=1, # niveau de log\n",
        "              monitor='val_acc', # nom de la métrique à surveiller\n",
        "              save_best_only=True, # sauver uniquement le meilleur modèle\n",
        "              save_weights_only=True)] # sauver uniquement les poids"
      ],
      "execution_count": null,
      "outputs": []
    },
    {
      "cell_type": "code",
      "metadata": {
        "colab": {
          "base_uri": "https://localhost:8080/"
        },
        "id": "KKR1F08dV21e",
        "outputId": "d950b5c4-1570-4089-c8fb-ec51eccc7ea4"
      },
      "source": [
        "train_X.shape"
      ],
      "execution_count": null,
      "outputs": [
        {
          "output_type": "execute_result",
          "data": {
            "text/plain": [
              "(451962, 5, 5, 32)"
            ]
          },
          "metadata": {
            "tags": []
          },
          "execution_count": 62
        }
      ]
    },
    {
      "cell_type": "code",
      "metadata": {
        "colab": {
          "base_uri": "https://localhost:8080/"
        },
        "id": "mMJ9WieaWXZS",
        "outputId": "0f78e40e-68d5-4ee3-e528-aa7848370d9d"
      },
      "source": [
        "train_X[:,2,2,:].shape"
      ],
      "execution_count": null,
      "outputs": [
        {
          "output_type": "execute_result",
          "data": {
            "text/plain": [
              "(451962, 32)"
            ]
          },
          "metadata": {
            "tags": []
          },
          "execution_count": 63
        }
      ]
    },
    {
      "cell_type": "code",
      "metadata": {
        "colab": {
          "base_uri": "https://localhost:8080/"
        },
        "id": "DhLrRrY-ZcAI",
        "outputId": "2676185f-ddb8-4198-ec30-245fa2e9f837"
      },
      "source": [
        "train_X[:,2,2,:].reshape(train_X.shape[0], -1).shape"
      ],
      "execution_count": null,
      "outputs": [
        {
          "output_type": "execute_result",
          "data": {
            "text/plain": [
              "(451962, 32)"
            ]
          },
          "metadata": {
            "tags": []
          },
          "execution_count": 64
        }
      ]
    },
    {
      "cell_type": "code",
      "metadata": {
        "id": "KmCf4ffdHdQA",
        "colab": {
          "base_uri": "https://localhost:8080/"
        },
        "outputId": "b70e2c26-3af7-49ae-cd2d-e1b3dde388d0"
      },
      "source": [
        "BATCH_SIZE = 256\n",
        "EPOCHS = 50\n",
        "history = new_model.fit ([train_X[:,2,2,:].reshape(train_X.shape[0], -1), train_X], train_y_enc, validation_data=([valid_X[:,2,2,:].reshape(valid_X.shape[0], -1), valid_X],valid_y_enc), batch_size=BATCH_SIZE, epochs=EPOCHS, callbacks=callbacks)"
      ],
      "execution_count": null,
      "outputs": [
        {
          "output_type": "stream",
          "text": [
            "Epoch 1/50\n",
            "1765/1766 [============================>.] - ETA: 0s - loss: 0.4127 - acc: 0.8625\n",
            "Epoch 00001: val_acc improved from -inf to 0.89735, saving model to my_model/new_model\n",
            "1766/1766 [==============================] - 9s 5ms/step - loss: 0.4126 - acc: 0.8625 - val_loss: 0.3076 - val_acc: 0.8973\n",
            "Epoch 2/50\n",
            "1765/1766 [============================>.] - ETA: 0s - loss: 0.2992 - acc: 0.9015\n",
            "Epoch 00002: val_acc improved from 0.89735 to 0.90401, saving model to my_model/new_model\n",
            "1766/1766 [==============================] - 9s 5ms/step - loss: 0.2992 - acc: 0.9015 - val_loss: 0.2687 - val_acc: 0.9040\n",
            "Epoch 3/50\n",
            "1760/1766 [============================>.] - ETA: 0s - loss: 0.2754 - acc: 0.9082\n",
            "Epoch 00003: val_acc did not improve from 0.90401\n",
            "1766/1766 [==============================] - 9s 5ms/step - loss: 0.2753 - acc: 0.9082 - val_loss: 0.2873 - val_acc: 0.8980\n",
            "Epoch 4/50\n",
            "1766/1766 [==============================] - ETA: 0s - loss: 0.2606 - acc: 0.9118\n",
            "Epoch 00004: val_acc improved from 0.90401 to 0.91504, saving model to my_model/new_model\n",
            "1766/1766 [==============================] - 9s 5ms/step - loss: 0.2606 - acc: 0.9118 - val_loss: 0.2394 - val_acc: 0.9150\n",
            "Epoch 5/50\n",
            "1760/1766 [============================>.] - ETA: 0s - loss: 0.2478 - acc: 0.9150\n",
            "Epoch 00005: val_acc did not improve from 0.91504\n",
            "1766/1766 [==============================] - 9s 5ms/step - loss: 0.2478 - acc: 0.9149 - val_loss: 0.2584 - val_acc: 0.9092\n",
            "Epoch 6/50\n",
            "1755/1766 [============================>.] - ETA: 0s - loss: 0.2401 - acc: 0.9173\n",
            "Epoch 00006: val_acc did not improve from 0.91504\n",
            "1766/1766 [==============================] - 9s 5ms/step - loss: 0.2401 - acc: 0.9173 - val_loss: 0.2642 - val_acc: 0.9035\n",
            "Epoch 7/50\n",
            "1755/1766 [============================>.] - ETA: 0s - loss: 0.2325 - acc: 0.9200\n",
            "Epoch 00007: val_acc did not improve from 0.91504\n",
            "1766/1766 [==============================] - 9s 5ms/step - loss: 0.2327 - acc: 0.9200 - val_loss: 0.2371 - val_acc: 0.9139\n",
            "Epoch 8/50\n",
            "1762/1766 [============================>.] - ETA: 0s - loss: 0.2294 - acc: 0.9217\n",
            "Epoch 00008: val_acc did not improve from 0.91504\n",
            "1766/1766 [==============================] - 9s 5ms/step - loss: 0.2294 - acc: 0.9217 - val_loss: 0.2414 - val_acc: 0.9110\n",
            "Epoch 9/50\n",
            "1766/1766 [==============================] - ETA: 0s - loss: 0.2242 - acc: 0.9229\n",
            "Epoch 00009: val_acc did not improve from 0.91504\n",
            "1766/1766 [==============================] - 9s 5ms/step - loss: 0.2242 - acc: 0.9229 - val_loss: 0.2566 - val_acc: 0.9109\n",
            "Epoch 10/50\n",
            "1758/1766 [============================>.] - ETA: 0s - loss: 0.2203 - acc: 0.9242\n",
            "Epoch 00010: val_acc improved from 0.91504 to 0.91631, saving model to my_model/new_model\n",
            "1766/1766 [==============================] - 9s 5ms/step - loss: 0.2202 - acc: 0.9242 - val_loss: 0.2308 - val_acc: 0.9163\n",
            "Epoch 11/50\n",
            "1762/1766 [============================>.] - ETA: 0s - loss: 0.2174 - acc: 0.9253\n",
            "Epoch 00011: val_acc did not improve from 0.91631\n",
            "1766/1766 [==============================] - 9s 5ms/step - loss: 0.2174 - acc: 0.9253 - val_loss: 0.2630 - val_acc: 0.9049\n",
            "Epoch 12/50\n",
            "1759/1766 [============================>.] - ETA: 0s - loss: 0.2161 - acc: 0.9256\n",
            "Epoch 00012: val_acc did not improve from 0.91631\n",
            "1766/1766 [==============================] - 9s 5ms/step - loss: 0.2161 - acc: 0.9256 - val_loss: 0.2813 - val_acc: 0.9000\n",
            "Epoch 13/50\n",
            "1766/1766 [==============================] - ETA: 0s - loss: 0.2126 - acc: 0.9265\n",
            "Epoch 00013: val_acc did not improve from 0.91631\n",
            "1766/1766 [==============================] - 9s 5ms/step - loss: 0.2126 - acc: 0.9265 - val_loss: 0.2657 - val_acc: 0.9054\n",
            "Epoch 14/50\n",
            "1759/1766 [============================>.] - ETA: 0s - loss: 0.2101 - acc: 0.9276\n",
            "Epoch 00014: val_acc did not improve from 0.91631\n",
            "1766/1766 [==============================] - 9s 5ms/step - loss: 0.2102 - acc: 0.9276 - val_loss: 0.2838 - val_acc: 0.8998\n",
            "Epoch 15/50\n",
            "1764/1766 [============================>.] - ETA: 0s - loss: 0.2080 - acc: 0.9281\n",
            "Epoch 00015: val_acc did not improve from 0.91631\n",
            "1766/1766 [==============================] - 9s 5ms/step - loss: 0.2081 - acc: 0.9281 - val_loss: 0.2611 - val_acc: 0.9072\n",
            "Epoch 16/50\n",
            "1766/1766 [==============================] - ETA: 0s - loss: 0.2071 - acc: 0.9284\n",
            "Epoch 00016: val_acc did not improve from 0.91631\n",
            "1766/1766 [==============================] - 9s 5ms/step - loss: 0.2071 - acc: 0.9284 - val_loss: 0.2595 - val_acc: 0.9088\n",
            "Epoch 17/50\n",
            "1756/1766 [============================>.] - ETA: 0s - loss: 0.2040 - acc: 0.9294\n",
            "Epoch 00017: val_acc improved from 0.91631 to 0.91676, saving model to my_model/new_model\n",
            "1766/1766 [==============================] - 9s 5ms/step - loss: 0.2041 - acc: 0.9294 - val_loss: 0.2359 - val_acc: 0.9168\n",
            "Epoch 18/50\n",
            "1765/1766 [============================>.] - ETA: 0s - loss: 0.2034 - acc: 0.9297\n",
            "Epoch 00018: val_acc did not improve from 0.91676\n",
            "1766/1766 [==============================] - 9s 5ms/step - loss: 0.2034 - acc: 0.9297 - val_loss: 0.2730 - val_acc: 0.9066\n",
            "Epoch 19/50\n",
            "1760/1766 [============================>.] - ETA: 0s - loss: 0.2020 - acc: 0.9300\n",
            "Epoch 00019: val_acc did not improve from 0.91676\n",
            "1766/1766 [==============================] - 9s 5ms/step - loss: 0.2019 - acc: 0.9300 - val_loss: 0.2538 - val_acc: 0.9088\n",
            "Epoch 20/50\n",
            "1765/1766 [============================>.] - ETA: 0s - loss: 0.1999 - acc: 0.9310\n",
            "Epoch 00020: val_acc did not improve from 0.91676\n",
            "1766/1766 [==============================] - 9s 5ms/step - loss: 0.2000 - acc: 0.9310 - val_loss: 0.2692 - val_acc: 0.9053\n",
            "Epoch 21/50\n",
            "1756/1766 [============================>.] - ETA: 0s - loss: 0.1973 - acc: 0.9309\n",
            "Epoch 00021: val_acc did not improve from 0.91676\n",
            "1766/1766 [==============================] - 9s 5ms/step - loss: 0.1973 - acc: 0.9309 - val_loss: 0.2845 - val_acc: 0.9004\n",
            "Epoch 22/50\n",
            "1761/1766 [============================>.] - ETA: 0s - loss: 0.1969 - acc: 0.9319\n",
            "Epoch 00022: val_acc improved from 0.91676 to 0.91768, saving model to my_model/new_model\n",
            "1766/1766 [==============================] - 9s 5ms/step - loss: 0.1969 - acc: 0.9319 - val_loss: 0.2360 - val_acc: 0.9177\n",
            "Epoch 23/50\n",
            "1763/1766 [============================>.] - ETA: 0s - loss: 0.1967 - acc: 0.9315\n",
            "Epoch 00023: val_acc did not improve from 0.91768\n",
            "1766/1766 [==============================] - 9s 5ms/step - loss: 0.1967 - acc: 0.9315 - val_loss: 0.2541 - val_acc: 0.9123\n",
            "Epoch 24/50\n",
            "1765/1766 [============================>.] - ETA: 0s - loss: 0.1955 - acc: 0.9324\n",
            "Epoch 00024: val_acc improved from 0.91768 to 0.91822, saving model to my_model/new_model\n",
            "1766/1766 [==============================] - 9s 5ms/step - loss: 0.1955 - acc: 0.9324 - val_loss: 0.2314 - val_acc: 0.9182\n",
            "Epoch 25/50\n",
            "1765/1766 [============================>.] - ETA: 0s - loss: 0.1949 - acc: 0.9321\n",
            "Epoch 00025: val_acc did not improve from 0.91822\n",
            "1766/1766 [==============================] - 9s 5ms/step - loss: 0.1949 - acc: 0.9321 - val_loss: 0.2381 - val_acc: 0.9178\n",
            "Epoch 26/50\n",
            "1766/1766 [==============================] - ETA: 0s - loss: 0.1938 - acc: 0.9324\n",
            "Epoch 00026: val_acc did not improve from 0.91822\n",
            "1766/1766 [==============================] - 9s 5ms/step - loss: 0.1938 - acc: 0.9324 - val_loss: 0.2433 - val_acc: 0.9154\n",
            "Epoch 27/50\n",
            "1756/1766 [============================>.] - ETA: 0s - loss: 0.1911 - acc: 0.9333\n",
            "Epoch 00027: val_acc did not improve from 0.91822\n",
            "1766/1766 [==============================] - 9s 5ms/step - loss: 0.1910 - acc: 0.9333 - val_loss: 0.2539 - val_acc: 0.9130\n",
            "Epoch 28/50\n",
            "1766/1766 [==============================] - ETA: 0s - loss: 0.1915 - acc: 0.9328\n",
            "Epoch 00028: val_acc did not improve from 0.91822\n",
            "1766/1766 [==============================] - 9s 5ms/step - loss: 0.1915 - acc: 0.9328 - val_loss: 0.2476 - val_acc: 0.9171\n",
            "Epoch 29/50\n",
            "1762/1766 [============================>.] - ETA: 0s - loss: 0.1902 - acc: 0.9335\n",
            "Epoch 00029: val_acc did not improve from 0.91822\n",
            "1766/1766 [==============================] - 9s 5ms/step - loss: 0.1902 - acc: 0.9335 - val_loss: 0.2645 - val_acc: 0.9068\n",
            "Epoch 30/50\n",
            "1759/1766 [============================>.] - ETA: 0s - loss: 0.1892 - acc: 0.9339\n",
            "Epoch 00030: val_acc did not improve from 0.91822\n",
            "1766/1766 [==============================] - 9s 5ms/step - loss: 0.1892 - acc: 0.9339 - val_loss: 0.2402 - val_acc: 0.9159\n",
            "Epoch 31/50\n",
            "1759/1766 [============================>.] - ETA: 0s - loss: 0.1893 - acc: 0.9338\n",
            "Epoch 00031: val_acc did not improve from 0.91822\n",
            "1766/1766 [==============================] - 9s 5ms/step - loss: 0.1891 - acc: 0.9338 - val_loss: 0.2683 - val_acc: 0.9079\n",
            "Epoch 32/50\n",
            "1766/1766 [==============================] - ETA: 0s - loss: 0.1865 - acc: 0.9345\n",
            "Epoch 00032: val_acc did not improve from 0.91822\n",
            "1766/1766 [==============================] - 9s 5ms/step - loss: 0.1865 - acc: 0.9345 - val_loss: 0.2408 - val_acc: 0.9156\n",
            "Epoch 33/50\n",
            "1765/1766 [============================>.] - ETA: 0s - loss: 0.1864 - acc: 0.9347\n",
            "Epoch 00033: val_acc did not improve from 0.91822\n",
            "1766/1766 [==============================] - 9s 5ms/step - loss: 0.1865 - acc: 0.9347 - val_loss: 0.2479 - val_acc: 0.9151\n",
            "Epoch 34/50\n",
            "1760/1766 [============================>.] - ETA: 0s - loss: 0.1858 - acc: 0.9350\n",
            "Epoch 00034: val_acc did not improve from 0.91822\n",
            "1766/1766 [==============================] - 9s 5ms/step - loss: 0.1859 - acc: 0.9350 - val_loss: 0.2412 - val_acc: 0.9150\n",
            "Epoch 35/50\n",
            "1762/1766 [============================>.] - ETA: 0s - loss: 0.1846 - acc: 0.9351\n",
            "Epoch 00035: val_acc did not improve from 0.91822\n",
            "1766/1766 [==============================] - 9s 5ms/step - loss: 0.1845 - acc: 0.9351 - val_loss: 0.2588 - val_acc: 0.9119\n",
            "Epoch 36/50\n",
            "1765/1766 [============================>.] - ETA: 0s - loss: 0.1829 - acc: 0.9358\n",
            "Epoch 00036: val_acc did not improve from 0.91822\n",
            "1766/1766 [==============================] - 9s 5ms/step - loss: 0.1829 - acc: 0.9358 - val_loss: 0.2539 - val_acc: 0.9140\n",
            "Epoch 37/50\n",
            "1766/1766 [==============================] - ETA: 0s - loss: 0.1826 - acc: 0.9356\n",
            "Epoch 00037: val_acc did not improve from 0.91822\n",
            "1766/1766 [==============================] - 9s 5ms/step - loss: 0.1826 - acc: 0.9356 - val_loss: 0.2665 - val_acc: 0.9096\n",
            "Epoch 38/50\n",
            "1756/1766 [============================>.] - ETA: 0s - loss: 0.1842 - acc: 0.9353\n",
            "Epoch 00038: val_acc did not improve from 0.91822\n",
            "1766/1766 [==============================] - 9s 5ms/step - loss: 0.1840 - acc: 0.9353 - val_loss: 0.2495 - val_acc: 0.9140\n",
            "Epoch 39/50\n",
            "1760/1766 [============================>.] - ETA: 0s - loss: 0.1822 - acc: 0.9356\n",
            "Epoch 00039: val_acc did not improve from 0.91822\n",
            "1766/1766 [==============================] - 9s 5ms/step - loss: 0.1823 - acc: 0.9356 - val_loss: 0.2762 - val_acc: 0.9056\n",
            "Epoch 40/50\n",
            "1760/1766 [============================>.] - ETA: 0s - loss: 0.1804 - acc: 0.9363\n",
            "Epoch 00040: val_acc did not improve from 0.91822\n",
            "1766/1766 [==============================] - 9s 5ms/step - loss: 0.1804 - acc: 0.9363 - val_loss: 0.2624 - val_acc: 0.9110\n",
            "Epoch 41/50\n",
            "1765/1766 [============================>.] - ETA: 0s - loss: 0.1808 - acc: 0.9366\n",
            "Epoch 00041: val_acc did not improve from 0.91822\n",
            "1766/1766 [==============================] - 9s 5ms/step - loss: 0.1808 - acc: 0.9366 - val_loss: 0.2585 - val_acc: 0.9144\n",
            "Epoch 42/50\n",
            "1763/1766 [============================>.] - ETA: 0s - loss: 0.1801 - acc: 0.9366\n",
            "Epoch 00042: val_acc did not improve from 0.91822\n",
            "1766/1766 [==============================] - 9s 5ms/step - loss: 0.1802 - acc: 0.9366 - val_loss: 0.2522 - val_acc: 0.9136\n",
            "Epoch 43/50\n",
            "1756/1766 [============================>.] - ETA: 0s - loss: 0.1795 - acc: 0.9370\n",
            "Epoch 00043: val_acc did not improve from 0.91822\n",
            "1766/1766 [==============================] - 9s 5ms/step - loss: 0.1795 - acc: 0.9370 - val_loss: 0.2414 - val_acc: 0.9179\n",
            "Epoch 44/50\n",
            "1758/1766 [============================>.] - ETA: 0s - loss: 0.1790 - acc: 0.9367\n",
            "Epoch 00044: val_acc did not improve from 0.91822\n",
            "1766/1766 [==============================] - 9s 5ms/step - loss: 0.1790 - acc: 0.9367 - val_loss: 0.2435 - val_acc: 0.9171\n",
            "Epoch 45/50\n",
            "1760/1766 [============================>.] - ETA: 0s - loss: 0.1783 - acc: 0.9370\n",
            "Epoch 00045: val_acc did not improve from 0.91822\n",
            "1766/1766 [==============================] - 9s 5ms/step - loss: 0.1782 - acc: 0.9370 - val_loss: 0.2479 - val_acc: 0.9139\n",
            "Epoch 46/50\n",
            "1759/1766 [============================>.] - ETA: 0s - loss: 0.1786 - acc: 0.9372\n",
            "Epoch 00046: val_acc improved from 0.91822 to 0.92073, saving model to my_model/new_model\n",
            "1766/1766 [==============================] - 9s 5ms/step - loss: 0.1786 - acc: 0.9373 - val_loss: 0.2286 - val_acc: 0.9207\n",
            "Epoch 47/50\n",
            "1760/1766 [============================>.] - ETA: 0s - loss: 0.1773 - acc: 0.9377\n",
            "Epoch 00047: val_acc did not improve from 0.92073\n",
            "1766/1766 [==============================] - 9s 5ms/step - loss: 0.1773 - acc: 0.9376 - val_loss: 0.2512 - val_acc: 0.9158\n",
            "Epoch 48/50\n",
            "1758/1766 [============================>.] - ETA: 0s - loss: 0.1773 - acc: 0.9369\n",
            "Epoch 00048: val_acc did not improve from 0.92073\n",
            "1766/1766 [==============================] - 9s 5ms/step - loss: 0.1773 - acc: 0.9369 - val_loss: 0.2719 - val_acc: 0.9052\n",
            "Epoch 49/50\n",
            "1758/1766 [============================>.] - ETA: 0s - loss: 0.1762 - acc: 0.9380\n",
            "Epoch 00049: val_acc did not improve from 0.92073\n",
            "1766/1766 [==============================] - 9s 5ms/step - loss: 0.1761 - acc: 0.9380 - val_loss: 0.2564 - val_acc: 0.9136\n",
            "Epoch 50/50\n",
            "1760/1766 [============================>.] - ETA: 0s - loss: 0.1768 - acc: 0.9377\n",
            "Epoch 00050: val_acc did not improve from 0.92073\n",
            "1766/1766 [==============================] - 9s 5ms/step - loss: 0.1768 - acc: 0.9376 - val_loss: 0.2744 - val_acc: 0.9047\n"
          ],
          "name": "stdout"
        }
      ]
    },
    {
      "cell_type": "markdown",
      "metadata": {
        "id": "5BeOSdr2XIwI"
      },
      "source": [
        "### **Restaurer les poids du modèle sur la meilleure époque d'entraînement**"
      ]
    },
    {
      "cell_type": "code",
      "metadata": {
        "id": "ymmP7zAJXU-o",
        "colab": {
          "base_uri": "https://localhost:8080/",
          "height": 316
        },
        "outputId": "e6590e73-aabb-4283-8891-b8a1d405ae25"
      },
      "source": [
        "import matplotlib.pyplot as plt\n",
        "plt.style.use(\"ggplot\")\n",
        "plt.figure()\n",
        "\n",
        "plt.plot(np.arange(0, EPOCHS), history.history[\"acc\"], label=\"train_acc\")\n",
        "plt.plot(np.arange(0, EPOCHS), history.history[\"val_acc\"], label=\"val_acc\")\n",
        "plt.plot(np.arange(0, EPOCHS), history.history[\"loss\"], label=\"train_loss\")\n",
        "plt.plot(np.arange(0, EPOCHS), history.history[\"val_loss\"], label=\"val_loss\")\n",
        "plt.title(\"Accuracy et loss sur le Dataset\")\n",
        "plt.xlabel(\"Epoch #\")\n",
        "plt.ylabel(\"Accuracy/Loss\")\n",
        "plt.legend(loc=\"center right\")"
      ],
      "execution_count": null,
      "outputs": [
        {
          "output_type": "execute_result",
          "data": {
            "text/plain": [
              "<matplotlib.legend.Legend at 0x7f389a1e2c18>"
            ]
          },
          "metadata": {
            "tags": []
          },
          "execution_count": 66
        },
        {
          "output_type": "display_data",
          "data": {
            "image/png": "[encoded data removed]",
            "text/plain": [
              "<Figure size 432x288 with 1 Axes>"
            ]
          },
          "metadata": {
            "tags": []
          }
        }
      ]
    },
    {
      "cell_type": "markdown",
      "metadata": {
        "id": "Zh14_LtSPCqB"
      },
      "source": [
        "### **Prédiction des classes sur le jeu de validation et évaluation en aggrégeant au niveau objet**"
      ]
    },
    {
      "cell_type": "code",
      "metadata": {
        "colab": {
          "base_uri": "https://localhost:8080/"
        },
        "id": "zDpjyx_JPNjv",
        "outputId": "cff38389-56c9-4dca-cf28-5293b395500a"
      },
      "source": [
        "# Récupérer les probabilités prédites sur le jeu de validation\n",
        "#valid_prob = model.predict(valid_X,batch_size=256) # anciene modele\n",
        "valid_prob = new_model.predict([valid_X[:,2,2,:].reshape(valid_X.shape[0], -1), valid_X],batch_size=256) # pour le modele de avec cnn2d et mlp ensemble\n",
        "valid_prob.shape"
      ],
      "execution_count": null,
      "outputs": [
        {
          "output_type": "execute_result",
          "data": {
            "text/plain": [
              "(153469, 5)"
            ]
          },
          "metadata": {
            "tags": []
          },
          "execution_count": 67
        }
      ]
    },
    {
      "cell_type": "code",
      "metadata": {
        "colab": {
          "base_uri": "https://localhost:8080/"
        },
        "id": "26YozrngPZyW",
        "outputId": "98e59e03-4a2d-4c69-a376-c7ad7f5cc235"
      },
      "source": [
        "# Retourner la classe correspondant à la probabilité la plus haute\n",
        "valid_pred = np.argmax(valid_prob,axis=1) # axe 1 car ceci concerne chaque ligne\n",
        "valid_pred.shape\n",
        "valid_pred.view()"
      ],
      "execution_count": null,
      "outputs": [
        {
          "output_type": "execute_result",
          "data": {
            "text/plain": [
              "array([2, 1, 1, ..., 4, 4, 4])"
            ]
          },
          "metadata": {
            "tags": []
          },
          "execution_count": 68
        }
      ]
    },
    {
      "cell_type": "code",
      "metadata": {
        "colab": {
          "base_uri": "https://localhost:8080/"
        },
        "id": "57Fyn2eyWU3w",
        "outputId": "dd03058d-7809-4f55-a65c-3ea93b915a4a"
      },
      "source": [
        "# Je réencode les prédictions entre 1 et 5\n",
        "valid_pred_enc = encoder.inverse_transform(valid_pred)\n",
        "np.unique(valid_pred_enc)"
      ],
      "execution_count": null,
      "outputs": [
        {
          "output_type": "execute_result",
          "data": {
            "text/plain": [
              "array([1, 2, 3, 4, 5], dtype=uint8)"
            ]
          },
          "metadata": {
            "tags": []
          },
          "execution_count": 69
        }
      ]
    },
    {
      "cell_type": "code",
      "metadata": {
        "colab": {
          "base_uri": "https://localhost:8080/"
        },
        "id": "z35nADR_P-ut",
        "outputId": "d0f54430-f624-4c0a-e72f-6d5e565f6346"
      },
      "source": [
        "# Aggrégation au niveau objet\n",
        "out_pred = []\n",
        "unique_id = np.unique(valid_id)\n",
        "for ID in unique_id :\n",
        "    # Récupérer les prédictions des pixels appartenant au même objet\n",
        "    pred = valid_pred_enc[np.where(valid_id==ID)]\n",
        "    y_true = valid_y[np.where(valid_id==ID)]\n",
        "    # Prendre la valeur majoritaire des prédictions sur les pixels\n",
        "    out_pred.append([ np.bincount(y_true).argmax(), np.bincount(pred).argmax()]) #(Vérité terrain,Prédiction majoritaire)\n",
        "out_pred = np.vstack(out_pred)\n",
        "out_pred.shape"
      ],
      "execution_count": null,
      "outputs": [
        {
          "output_type": "execute_result",
          "data": {
            "text/plain": [
              "(558, 2)"
            ]
          },
          "metadata": {
            "tags": []
          },
          "execution_count": 70
        }
      ]
    },
    {
      "cell_type": "code",
      "metadata": {
        "colab": {
          "base_uri": "https://localhost:8080/"
        },
        "id": "hQ2jDDDZWsKQ",
        "outputId": "0c431f4a-3778-4f8a-d49a-5cee20b8d914"
      },
      "source": [
        "# F1 score au niveau objet\n",
        "f1_score(out_pred[:,0],out_pred[:,1],average='weighted')"
      ],
      "execution_count": null,
      "outputs": [
        {
          "output_type": "execute_result",
          "data": {
            "text/plain": [
              "0.8533575784178195"
            ]
          },
          "metadata": {
            "tags": []
          },
          "execution_count": 71
        }
      ]
    },
    {
      "cell_type": "markdown",
      "metadata": {
        "id": "zIXYledyW9QI"
      },
      "source": [
        "### **Prédire sur le jeu test et Préparer une soumission**"
      ]
    },
    {
      "cell_type": "code",
      "metadata": {
        "colab": {
          "base_uri": "https://localhost:8080/"
        },
        "id": "p--sBOPKW4SE",
        "outputId": "993a3d46-6fa9-4494-a0ac-a45569116f1b"
      },
      "source": [
        "# Récupérer les probabilités prédites sur le jeu test\n",
        "# test_prob = new_model.predict(test_X, batch_size=256) ancien pour predir d'un seul modele \n",
        "test_prob = new_model.predict([test_X[:,2,2,:].reshape(test_X.shape[0], -1), test_X],batch_size=256) # prédiction de deux modeles combiné\n",
        "test_prob.shape"
      ],
      "execution_count": null,
      "outputs": [
        {
          "output_type": "execute_result",
          "data": {
            "text/plain": [
              "(207485, 5)"
            ]
          },
          "metadata": {
            "tags": []
          },
          "execution_count": 72
        }
      ]
    },
    {
      "cell_type": "code",
      "metadata": {
        "colab": {
          "base_uri": "https://localhost:8080/"
        },
        "id": "QtI8FHPyXHF1",
        "outputId": "a9e153bd-8c01-4e6c-fbd1-fac1ed0a6a2b"
      },
      "source": [
        "# Retourner la classe correspondant à la probabilité la plus haute\n",
        "test_pred = np.argmax(test_prob,axis=1) # axe 1 car ceci concerne chaque ligne\n",
        "test_pred.shape"
      ],
      "execution_count": null,
      "outputs": [
        {
          "output_type": "execute_result",
          "data": {
            "text/plain": [
              "(207485,)"
            ]
          },
          "metadata": {
            "tags": []
          },
          "execution_count": 73
        }
      ]
    },
    {
      "cell_type": "code",
      "metadata": {
        "colab": {
          "base_uri": "https://localhost:8080/"
        },
        "id": "V4xPl0mFXNEi",
        "outputId": "41f67efb-9ba0-454d-f1ce-94a7c1ca68d2"
      },
      "source": [
        "# Je réencode les prédictions entre 1 et 5\n",
        "test_pred_enc = encoder.inverse_transform(test_pred)\n",
        "np.unique(test_pred_enc)"
      ],
      "execution_count": null,
      "outputs": [
        {
          "output_type": "execute_result",
          "data": {
            "text/plain": [
              "array([1, 2, 3, 4, 5], dtype=uint8)"
            ]
          },
          "metadata": {
            "tags": []
          },
          "execution_count": 74
        }
      ]
    },
    {
      "cell_type": "code",
      "metadata": {
        "colab": {
          "base_uri": "https://localhost:8080/"
        },
        "id": "khjM1qqMXTSY",
        "outputId": "6f717a79-d023-4a4d-c8a2-11621f61d7f9"
      },
      "source": [
        "# Aggrégation au niveau objet\n",
        "agg_pred = []\n",
        "unique_id = np.unique(test_id)\n",
        "for ID in unique_id :\n",
        "    # Récupérer les prédictions des pixels appartenant au même objet\n",
        "    pred = test_pred_enc[np.where(test_id==ID)]\n",
        "    # Prendre la valeur majoritaire des prédictions sur les pixels\n",
        "    agg_pred.append([ ID, np.bincount(pred).argmax()]) #(ID,Prédiction majoritaire)\n",
        "agg_pred = np.vstack(agg_pred)\n",
        "agg_pred.shape"
      ],
      "execution_count": null,
      "outputs": [
        {
          "output_type": "execute_result",
          "data": {
            "text/plain": [
              "(800, 2)"
            ]
          },
          "metadata": {
            "tags": []
          },
          "execution_count": 75
        }
      ]
    },
    {
      "cell_type": "code",
      "metadata": {
        "colab": {
          "base_uri": "https://localhost:8080/",
          "height": 206
        },
        "id": "ZIdn628cEtgx",
        "outputId": "017bd644-458a-4371-f461-59ddd40719ae"
      },
      "source": [
        "df = pd.DataFrame({'ID':agg_pred[:,0],'Class':agg_pred[:,1]})\n",
        "df.to_csv('Soumission_StefanMinyoungRaidh(1).csv',index=False)\n",
        "df.head(5)"
      ],
      "execution_count": null,
      "outputs": [
        {
          "output_type": "execute_result",
          "data": {
            "text/html": [
              "<div>\n",
              "<style scoped>\n",
              "    .dataframe tbody tr th:only-of-type {\n",
              "        vertical-align: middle;\n",
              "    }\n",
              "\n",
              "    .dataframe tbody tr th {\n",
              "        vertical-align: top;\n",
              "    }\n",
              "\n",
              "    .dataframe thead th {\n",
              "        text-align: right;\n",
              "    }\n",
              "</style>\n",
              "<table border=\"1\" class=\"dataframe\">\n",
              "  <thead>\n",
              "    <tr style=\"text-align: right;\">\n",
              "      <th></th>\n",
              "      <th>ID</th>\n",
              "      <th>Class</th>\n",
              "    </tr>\n",
              "  </thead>\n",
              "  <tbody>\n",
              "    <tr>\n",
              "      <th>0</th>\n",
              "      <td>4</td>\n",
              "      <td>5</td>\n",
              "    </tr>\n",
              "    <tr>\n",
              "      <th>1</th>\n",
              "      <td>7</td>\n",
              "      <td>3</td>\n",
              "    </tr>\n",
              "    <tr>\n",
              "      <th>2</th>\n",
              "      <td>8</td>\n",
              "      <td>5</td>\n",
              "    </tr>\n",
              "    <tr>\n",
              "      <th>3</th>\n",
              "      <td>9</td>\n",
              "      <td>3</td>\n",
              "    </tr>\n",
              "    <tr>\n",
              "      <th>4</th>\n",
              "      <td>10</td>\n",
              "      <td>3</td>\n",
              "    </tr>\n",
              "  </tbody>\n",
              "</table>\n",
              "</div>"
            ],
            "text/plain": [
              "   ID  Class\n",
              "0   4      5\n",
              "1   7      3\n",
              "2   8      5\n",
              "3   9      3\n",
              "4  10      3"
            ]
          },
          "metadata": {
            "tags": []
          },
          "execution_count": 76
        }
      ]
    },
    {
      "cell_type": "code",
      "metadata": {
        "colab": {
          "base_uri": "https://localhost:8080/"
        },
        "id": "s6WuuJCkXsu0",
        "outputId": "d320de6e-0e71-4249-e2aa-9cfaf91d7cb5"
      },
      "source": [
        "# F1 Score au niveau objet\n",
        "!ls\n",
        "df_test = pd.read_csv('Test_ID_Label.csv') # Ce fichier vous sera fourni le 12 Novembre\n",
        "f1_score(df_test.Class,df.Class,average='weighted')"
      ],
      "execution_count": null,
      "outputs": [
        {
          "output_type": "stream",
          "text": [
            " data\t     my_model\t\t\t\t      Test_ID_Label.csv\n",
            " Images      Soumission_NomDuGroupe.csv\t\t      Verite_terrain\n",
            " model.png  'Soumission_StefanMinyoungRaidh(1).csv'\n"
          ],
          "name": "stdout"
        },
        {
          "output_type": "execute_result",
          "data": {
            "text/plain": [
              "0.8255986832267115"
            ]
          },
          "metadata": {
            "tags": []
          },
          "execution_count": 77
        }
      ]
    },
    {
      "cell_type": "code",
      "metadata": {
        "id": "Oqq2tW8hv4ON"
      },
      "source": [
        ""
      ],
      "execution_count": null,
      "outputs": []
    },
    {
      "cell_type": "code",
      "metadata": {
        "id": "yJpQADU8HqUk"
      },
      "source": [
        ""
      ],
      "execution_count": null,
      "outputs": []
    },
    {
      "cell_type": "markdown",
      "metadata": {
        "id": "L1HGVob-UoJ1"
      },
      "source": [
        "## **Modele CNN1D avec MLP**"
      ]
    },
    {
      "cell_type": "markdown",
      "metadata": {
        "id": "mUPw6KmaU8DU"
      },
      "source": [
        "### Modele MLP"
      ]
    },
    {
      "cell_type": "code",
      "metadata": {
        "colab": {
          "base_uri": "https://localhost:8080/"
        },
        "id": "k4nbPTlmUzgD",
        "outputId": "06f6d7d3-76bc-4965-eeed-46de6db30261"
      },
      "source": [
        "def mlpModel():\n",
        "  input = tf.keras.Input(shape=(32))\n",
        "\n",
        "  layer1 = Dense(64, activation='relu')(input)\n",
        "  layer2 = Dropout(0.3)(layer1)\n",
        "  layer3 = Dense(128, activation='relu')(layer2)\n",
        "  layer4 = Dropout(0.3)(layer3)\n",
        "  layer5 = Dense(256, activation='relu')(layer4)\n",
        "  layer6 = Dropout(0.3)(layer5)\n",
        " # layer7 = Dense(32, activation='relu')(layer6)\n",
        " # layer8 = Dropout(0.3)(layer7)\n",
        "\n",
        "  return tf.keras.Model(inputs=input, outputs=layer6)\n",
        "\n",
        "mlp_model = mlpModel()\n",
        "mlp_model.summary()"
      ],
      "execution_count": null,
      "outputs": [
        {
          "output_type": "stream",
          "text": [
            "Model: \"functional_25\"\n",
            "_________________________________________________________________\n",
            "Layer (type)                 Output Shape              Param #   \n",
            "=================================================================\n",
            "input_9 (InputLayer)         [(None, 32)]              0         \n",
            "_________________________________________________________________\n",
            "dense_24 (Dense)             (None, 64)                2112      \n",
            "_________________________________________________________________\n",
            "dropout_25 (Dropout)         (None, 64)                0         \n",
            "_________________________________________________________________\n",
            "dense_25 (Dense)             (None, 128)               8320      \n",
            "_________________________________________________________________\n",
            "dropout_26 (Dropout)         (None, 128)               0         \n",
            "_________________________________________________________________\n",
            "dense_26 (Dense)             (None, 256)               33024     \n",
            "_________________________________________________________________\n",
            "dropout_27 (Dropout)         (None, 256)               0         \n",
            "=================================================================\n",
            "Total params: 43,456\n",
            "Trainable params: 43,456\n",
            "Non-trainable params: 0\n",
            "_________________________________________________________________\n"
          ],
          "name": "stdout"
        }
      ]
    },
    {
      "cell_type": "markdown",
      "metadata": {
        "id": "8M9hlu5WVCnH"
      },
      "source": [
        "### Modele CNN1D"
      ]
    },
    {
      "cell_type": "code",
      "metadata": {
        "colab": {
          "base_uri": "https://localhost:8080/"
        },
        "id": "zRWxYxPMVFyK",
        "outputId": "c21b6738-4548-43d1-b1da-d2aa61752a98"
      },
      "source": [
        "def cnn1dModel():\n",
        "  input = tf.keras.Input(shape=(8,4))\n",
        "\n",
        "  layer1 = Conv1D(filters=32, kernel_size=3, activation='relu')(input)\n",
        "  layer2 = Dropout(0.1)(layer1)\n",
        "  layer3 = Conv1D(filters=64, kernel_size=3, activation='relu')(layer2)\n",
        "  layer4 = Dropout(0.2)(layer3)\n",
        "  layer5 = Conv1D(filters=128, kernel_size=3, activation='relu')(layer4)\n",
        "  layer6 = Dropout(0.3)(layer5)\n",
        "  layer7 = MaxPooling1D(2)(layer6)\n",
        "  layer8 = GlobalAveragePooling1D()(layer7)\n",
        "\n",
        "  return tf.keras.Model(inputs=input, outputs=layer8)\n",
        "\n",
        "cnn1d_model = cnn1dModel()\n",
        "cnn1d_model.summary() \n"
      ],
      "execution_count": null,
      "outputs": [
        {
          "output_type": "stream",
          "text": [
            "Model: \"functional_27\"\n",
            "_________________________________________________________________\n",
            "Layer (type)                 Output Shape              Param #   \n",
            "=================================================================\n",
            "input_10 (InputLayer)        [(None, 8, 4)]            0         \n",
            "_________________________________________________________________\n",
            "conv1d (Conv1D)              (None, 6, 32)             416       \n",
            "_________________________________________________________________\n",
            "dropout_28 (Dropout)         (None, 6, 32)             0         \n",
            "_________________________________________________________________\n",
            "conv1d_1 (Conv1D)            (None, 4, 64)             6208      \n",
            "_________________________________________________________________\n",
            "dropout_29 (Dropout)         (None, 4, 64)             0         \n",
            "_________________________________________________________________\n",
            "conv1d_2 (Conv1D)            (None, 2, 128)            24704     \n",
            "_________________________________________________________________\n",
            "dropout_30 (Dropout)         (None, 2, 128)            0         \n",
            "_________________________________________________________________\n",
            "max_pooling1d (MaxPooling1D) (None, 1, 128)            0         \n",
            "_________________________________________________________________\n",
            "global_average_pooling1d (Gl (None, 128)               0         \n",
            "=================================================================\n",
            "Total params: 31,328\n",
            "Trainable params: 31,328\n",
            "Non-trainable params: 0\n",
            "_________________________________________________________________\n"
          ],
          "name": "stdout"
        }
      ]
    },
    {
      "cell_type": "markdown",
      "metadata": {
        "id": "ItYjlS08Vi19"
      },
      "source": [
        "### Concaténation"
      ]
    },
    {
      "cell_type": "code",
      "metadata": {
        "colab": {
          "base_uri": "https://localhost:8080/",
          "height": 1000
        },
        "id": "OZ5O_ZvoWPz0",
        "outputId": "2ac2a891-fb85-4f60-a03c-1a7ba609861a"
      },
      "source": [
        "concat = tf.keras.layers.Concatenate()([mlp_model.output, cnn1d_model.output])\n",
        "\n",
        "layer_c = Dense(256, activation='relu')(concat)\n",
        "layer_cc = Dropout(0.5)(layer_c)\n",
        "out_layer = Dense(5, activation='softmax')(layer_cc)\n",
        "\n",
        "new_model = tf.keras.Model(inputs=[mlp_model.input, cnn1d_model.input], outputs=out_layer)\n",
        "\n",
        "new_model.summary()\n",
        "tf.keras.utils.plot_model(new_model)"
      ],
      "execution_count": null,
      "outputs": [
        {
          "output_type": "stream",
          "text": [
            "Model: \"functional_29\"\n",
            "__________________________________________________________________________________________________\n",
            "Layer (type)                    Output Shape         Param #     Connected to                     \n",
            "==================================================================================================\n",
            "input_10 (InputLayer)           [(None, 8, 4)]       0                                            \n",
            "__________________________________________________________________________________________________\n",
            "conv1d (Conv1D)                 (None, 6, 32)        416         input_10[0][0]                   \n",
            "__________________________________________________________________________________________________\n",
            "input_9 (InputLayer)            [(None, 32)]         0                                            \n",
            "__________________________________________________________________________________________________\n",
            "dropout_28 (Dropout)            (None, 6, 32)        0           conv1d[0][0]                     \n",
            "__________________________________________________________________________________________________\n",
            "dense_24 (Dense)                (None, 64)           2112        input_9[0][0]                    \n",
            "__________________________________________________________________________________________________\n",
            "conv1d_1 (Conv1D)               (None, 4, 64)        6208        dropout_28[0][0]                 \n",
            "__________________________________________________________________________________________________\n",
            "dropout_25 (Dropout)            (None, 64)           0           dense_24[0][0]                   \n",
            "__________________________________________________________________________________________________\n",
            "dropout_29 (Dropout)            (None, 4, 64)        0           conv1d_1[0][0]                   \n",
            "__________________________________________________________________________________________________\n",
            "dense_25 (Dense)                (None, 128)          8320        dropout_25[0][0]                 \n",
            "__________________________________________________________________________________________________\n",
            "conv1d_2 (Conv1D)               (None, 2, 128)       24704       dropout_29[0][0]                 \n",
            "__________________________________________________________________________________________________\n",
            "dropout_26 (Dropout)            (None, 128)          0           dense_25[0][0]                   \n",
            "__________________________________________________________________________________________________\n",
            "dropout_30 (Dropout)            (None, 2, 128)       0           conv1d_2[0][0]                   \n",
            "__________________________________________________________________________________________________\n",
            "dense_26 (Dense)                (None, 256)          33024       dropout_26[0][0]                 \n",
            "__________________________________________________________________________________________________\n",
            "max_pooling1d (MaxPooling1D)    (None, 1, 128)       0           dropout_30[0][0]                 \n",
            "__________________________________________________________________________________________________\n",
            "dropout_27 (Dropout)            (None, 256)          0           dense_26[0][0]                   \n",
            "__________________________________________________________________________________________________\n",
            "global_average_pooling1d (Globa (None, 128)          0           max_pooling1d[0][0]              \n",
            "__________________________________________________________________________________________________\n",
            "concatenate_5 (Concatenate)     (None, 384)          0           dropout_27[0][0]                 \n",
            "                                                                 global_average_pooling1d[0][0]   \n",
            "__________________________________________________________________________________________________\n",
            "dense_27 (Dense)                (None, 256)          98560       concatenate_5[0][0]              \n",
            "__________________________________________________________________________________________________\n",
            "dropout_31 (Dropout)            (None, 256)          0           dense_27[0][0]                   \n",
            "__________________________________________________________________________________________________\n",
            "dense_28 (Dense)                (None, 5)            1285        dropout_31[0][0]                 \n",
            "==================================================================================================\n",
            "Total params: 174,629\n",
            "Trainable params: 174,629\n",
            "Non-trainable params: 0\n",
            "__________________________________________________________________________________________________\n"
          ],
          "name": "stdout"
        },
        {
          "output_type": "execute_result",
          "data": {
            "image/png": "[encoded data removed]",
            "text/plain": [
              "<IPython.core.display.Image object>"
            ]
          },
          "metadata": {
            "tags": []
          },
          "execution_count": 82
        }
      ]
    },
    {
      "cell_type": "markdown",
      "metadata": {
        "id": "qCWxKy0LXqP2"
      },
      "source": [
        "### Compilation et Entrainement"
      ]
    },
    {
      "cell_type": "code",
      "metadata": {
        "id": "fMuoY8BEW5hc"
      },
      "source": [
        "new_model.compile(optimizer='adam',loss=tf.keras.losses.SparseCategoricalCrossentropy(), metrics=['acc'])"
      ],
      "execution_count": null,
      "outputs": []
    },
    {
      "cell_type": "code",
      "metadata": {
        "id": "efCYgR0tW8bT"
      },
      "source": [
        "Path('my_model').mkdir(exist_ok=True, parents=True)\n",
        "checkpointpath = os.path.join('my_model','new_model') # chemin où sauver le modèle\n",
        "callbacks = [tf.keras.callbacks.ModelCheckpoint(\n",
        "              checkpointpath,\n",
        "              verbose=1, # niveau de log\n",
        "              monitor='val_acc', # nom de la métrique à surveiller\n",
        "              save_best_only=True, # sauver uniquement le meilleur modèle\n",
        "              save_weights_only=True)] # sauver uniquement les poids"
      ],
      "execution_count": null,
      "outputs": []
    },
    {
      "cell_type": "code",
      "metadata": {
        "colab": {
          "base_uri": "https://localhost:8080/"
        },
        "id": "9WQPvQv6XC9w",
        "outputId": "febf64f6-ca3a-4497-c2d2-779c08fe34cf"
      },
      "source": [
        "BATCH_SIZE = 256\n",
        "EPOCHS = 50\n",
        "history = new_model.fit ([train_X[:,:,:].reshape(train_X.shape[0], -1), train_X], train_y_enc, validation_data=([valid_X[:,:,:].reshape(valid_X.shape[0], -1), valid_X],valid_y_enc), batch_size=BATCH_SIZE, epochs=EPOCHS, callbacks=callbacks)"
      ],
      "execution_count": null,
      "outputs": [
        {
          "output_type": "stream",
          "text": [
            "Epoch 1/50\n",
            "1766/1766 [==============================] - ETA: 0s - loss: 0.4273 - acc: 0.8571\n",
            "Epoch 00001: val_acc improved from -inf to 0.87245, saving model to my_model/new_model\n",
            "1766/1766 [==============================] - 8s 5ms/step - loss: 0.4273 - acc: 0.8571 - val_loss: 0.3319 - val_acc: 0.8724\n",
            "Epoch 2/50\n",
            "1755/1766 [============================>.] - ETA: 0s - loss: 0.3270 - acc: 0.8893\n",
            "Epoch 00002: val_acc did not improve from 0.87245\n",
            "1766/1766 [==============================] - 8s 4ms/step - loss: 0.3272 - acc: 0.8892 - val_loss: 0.3394 - val_acc: 0.8669\n",
            "Epoch 3/50\n",
            "1756/1766 [============================>.] - ETA: 0s - loss: 0.2992 - acc: 0.8977\n",
            "Epoch 00003: val_acc improved from 0.87245 to 0.89368, saving model to my_model/new_model\n",
            "1766/1766 [==============================] - 8s 5ms/step - loss: 0.2993 - acc: 0.8977 - val_loss: 0.2878 - val_acc: 0.8937\n",
            "Epoch 4/50\n",
            "1762/1766 [============================>.] - ETA: 0s - loss: 0.2835 - acc: 0.9026\n",
            "Epoch 00004: val_acc improved from 0.89368 to 0.89859, saving model to my_model/new_model\n",
            "1766/1766 [==============================] - 8s 5ms/step - loss: 0.2834 - acc: 0.9026 - val_loss: 0.2786 - val_acc: 0.8986\n",
            "Epoch 5/50\n",
            "1765/1766 [============================>.] - ETA: 0s - loss: 0.2707 - acc: 0.9068\n",
            "Epoch 00005: val_acc improved from 0.89859 to 0.90073, saving model to my_model/new_model\n",
            "1766/1766 [==============================] - 8s 5ms/step - loss: 0.2707 - acc: 0.9068 - val_loss: 0.2735 - val_acc: 0.9007\n",
            "Epoch 6/50\n",
            "1763/1766 [============================>.] - ETA: 0s - loss: 0.2623 - acc: 0.9094\n",
            "Epoch 00006: val_acc improved from 0.90073 to 0.90505, saving model to my_model/new_model\n",
            "1766/1766 [==============================] - 8s 5ms/step - loss: 0.2623 - acc: 0.9095 - val_loss: 0.2675 - val_acc: 0.9050\n",
            "Epoch 7/50\n",
            "1753/1766 [============================>.] - ETA: 0s - loss: 0.2548 - acc: 0.9116\n",
            "Epoch 00007: val_acc did not improve from 0.90505\n",
            "1766/1766 [==============================] - 8s 4ms/step - loss: 0.2547 - acc: 0.9117 - val_loss: 0.2989 - val_acc: 0.8950\n",
            "Epoch 8/50\n",
            "1761/1766 [============================>.] - ETA: 0s - loss: 0.2489 - acc: 0.9135\n",
            "Epoch 00008: val_acc did not improve from 0.90505\n",
            "1766/1766 [==============================] - 8s 4ms/step - loss: 0.2489 - acc: 0.9135 - val_loss: 0.2767 - val_acc: 0.9021\n",
            "Epoch 9/50\n",
            "1753/1766 [============================>.] - ETA: 0s - loss: 0.2438 - acc: 0.9154\n",
            "Epoch 00009: val_acc did not improve from 0.90505\n",
            "1766/1766 [==============================] - 8s 4ms/step - loss: 0.2438 - acc: 0.9155 - val_loss: 0.3009 - val_acc: 0.8958\n",
            "Epoch 10/50\n",
            "1760/1766 [============================>.] - ETA: 0s - loss: 0.2386 - acc: 0.9170\n",
            "Epoch 00010: val_acc did not improve from 0.90505\n",
            "1766/1766 [==============================] - 8s 4ms/step - loss: 0.2386 - acc: 0.9170 - val_loss: 0.2754 - val_acc: 0.9018\n",
            "Epoch 11/50\n",
            "1755/1766 [============================>.] - ETA: 0s - loss: 0.2357 - acc: 0.9181\n",
            "Epoch 00011: val_acc did not improve from 0.90505\n",
            "1766/1766 [==============================] - 8s 4ms/step - loss: 0.2357 - acc: 0.9181 - val_loss: 0.2828 - val_acc: 0.9031\n",
            "Epoch 12/50\n",
            "1761/1766 [============================>.] - ETA: 0s - loss: 0.2314 - acc: 0.9194\n",
            "Epoch 00012: val_acc did not improve from 0.90505\n",
            "1766/1766 [==============================] - 8s 5ms/step - loss: 0.2314 - acc: 0.9194 - val_loss: 0.2838 - val_acc: 0.9011\n",
            "Epoch 13/50\n",
            "1762/1766 [============================>.] - ETA: 0s - loss: 0.2293 - acc: 0.9203\n",
            "Epoch 00013: val_acc did not improve from 0.90505\n",
            "1766/1766 [==============================] - 8s 4ms/step - loss: 0.2293 - acc: 0.9203 - val_loss: 0.2966 - val_acc: 0.8977\n",
            "Epoch 14/50\n",
            "1758/1766 [============================>.] - ETA: 0s - loss: 0.2265 - acc: 0.9209\n",
            "Epoch 00014: val_acc did not improve from 0.90505\n",
            "1766/1766 [==============================] - 8s 5ms/step - loss: 0.2264 - acc: 0.9209 - val_loss: 0.2775 - val_acc: 0.9027\n",
            "Epoch 15/50\n",
            "1763/1766 [============================>.] - ETA: 0s - loss: 0.2229 - acc: 0.9221\n",
            "Epoch 00015: val_acc did not improve from 0.90505\n",
            "1766/1766 [==============================] - 8s 5ms/step - loss: 0.2229 - acc: 0.9221 - val_loss: 0.2925 - val_acc: 0.8997\n",
            "Epoch 16/50\n",
            "1763/1766 [============================>.] - ETA: 0s - loss: 0.2197 - acc: 0.9230\n",
            "Epoch 00016: val_acc did not improve from 0.90505\n",
            "1766/1766 [==============================] - 8s 4ms/step - loss: 0.2198 - acc: 0.9230 - val_loss: 0.2892 - val_acc: 0.8992\n",
            "Epoch 17/50\n",
            "1762/1766 [============================>.] - ETA: 0s - loss: 0.2171 - acc: 0.9241\n",
            "Epoch 00017: val_acc did not improve from 0.90505\n",
            "1766/1766 [==============================] - 8s 4ms/step - loss: 0.2170 - acc: 0.9241 - val_loss: 0.3108 - val_acc: 0.8926\n",
            "Epoch 18/50\n",
            "1759/1766 [============================>.] - ETA: 0s - loss: 0.2162 - acc: 0.9240\n",
            "Epoch 00018: val_acc did not improve from 0.90505\n",
            "1766/1766 [==============================] - 8s 5ms/step - loss: 0.2162 - acc: 0.9240 - val_loss: 0.2846 - val_acc: 0.9014\n",
            "Epoch 19/50\n",
            "1759/1766 [============================>.] - ETA: 0s - loss: 0.2146 - acc: 0.9249\n",
            "Epoch 00019: val_acc did not improve from 0.90505\n",
            "1766/1766 [==============================] - 8s 4ms/step - loss: 0.2147 - acc: 0.9249 - val_loss: 0.3256 - val_acc: 0.8886\n",
            "Epoch 20/50\n",
            "1759/1766 [============================>.] - ETA: 0s - loss: 0.2127 - acc: 0.9252\n",
            "Epoch 00020: val_acc did not improve from 0.90505\n",
            "1766/1766 [==============================] - 8s 4ms/step - loss: 0.2127 - acc: 0.9252 - val_loss: 0.2822 - val_acc: 0.9018\n",
            "Epoch 21/50\n",
            "1755/1766 [============================>.] - ETA: 0s - loss: 0.2109 - acc: 0.9258\n",
            "Epoch 00021: val_acc did not improve from 0.90505\n",
            "1766/1766 [==============================] - 9s 5ms/step - loss: 0.2110 - acc: 0.9257 - val_loss: 0.2880 - val_acc: 0.9014\n",
            "Epoch 22/50\n",
            "1757/1766 [============================>.] - ETA: 0s - loss: 0.2087 - acc: 0.9269\n",
            "Epoch 00022: val_acc did not improve from 0.90505\n",
            "1766/1766 [==============================] - 8s 5ms/step - loss: 0.2087 - acc: 0.9269 - val_loss: 0.2994 - val_acc: 0.8963\n",
            "Epoch 23/50\n",
            "1754/1766 [============================>.] - ETA: 0s - loss: 0.2073 - acc: 0.9271\n",
            "Epoch 00023: val_acc did not improve from 0.90505\n",
            "1766/1766 [==============================] - 8s 4ms/step - loss: 0.2073 - acc: 0.9271 - val_loss: 0.2986 - val_acc: 0.8979\n",
            "Epoch 24/50\n",
            "1756/1766 [============================>.] - ETA: 0s - loss: 0.2063 - acc: 0.9273\n",
            "Epoch 00024: val_acc did not improve from 0.90505\n",
            "1766/1766 [==============================] - 8s 4ms/step - loss: 0.2064 - acc: 0.9273 - val_loss: 0.3006 - val_acc: 0.8941\n",
            "Epoch 25/50\n",
            "1758/1766 [============================>.] - ETA: 0s - loss: 0.2053 - acc: 0.9279\n",
            "Epoch 00025: val_acc did not improve from 0.90505\n",
            "1766/1766 [==============================] - 8s 5ms/step - loss: 0.2053 - acc: 0.9279 - val_loss: 0.2861 - val_acc: 0.8995\n",
            "Epoch 26/50\n",
            "1760/1766 [============================>.] - ETA: 0s - loss: 0.2045 - acc: 0.9279\n",
            "Epoch 00026: val_acc did not improve from 0.90505\n",
            "1766/1766 [==============================] - 8s 4ms/step - loss: 0.2044 - acc: 0.9278 - val_loss: 0.3186 - val_acc: 0.8897\n",
            "Epoch 27/50\n",
            "1760/1766 [============================>.] - ETA: 0s - loss: 0.2015 - acc: 0.9293\n",
            "Epoch 00027: val_acc did not improve from 0.90505\n",
            "1766/1766 [==============================] - 8s 4ms/step - loss: 0.2016 - acc: 0.9293 - val_loss: 0.3165 - val_acc: 0.8898\n",
            "Epoch 28/50\n",
            "1760/1766 [============================>.] - ETA: 0s - loss: 0.2013 - acc: 0.9291\n",
            "Epoch 00028: val_acc did not improve from 0.90505\n",
            "1766/1766 [==============================] - 8s 5ms/step - loss: 0.2014 - acc: 0.9291 - val_loss: 0.3056 - val_acc: 0.8911\n",
            "Epoch 29/50\n",
            "1765/1766 [============================>.] - ETA: 0s - loss: 0.1997 - acc: 0.9294\n",
            "Epoch 00029: val_acc did not improve from 0.90505\n",
            "1766/1766 [==============================] - 8s 5ms/step - loss: 0.1997 - acc: 0.9294 - val_loss: 0.2915 - val_acc: 0.8991\n",
            "Epoch 30/50\n",
            "1758/1766 [============================>.] - ETA: 0s - loss: 0.1984 - acc: 0.9297\n",
            "Epoch 00030: val_acc did not improve from 0.90505\n",
            "1766/1766 [==============================] - 8s 5ms/step - loss: 0.1985 - acc: 0.9297 - val_loss: 0.2871 - val_acc: 0.8993\n",
            "Epoch 31/50\n",
            "1761/1766 [============================>.] - ETA: 0s - loss: 0.1971 - acc: 0.9305\n",
            "Epoch 00031: val_acc did not improve from 0.90505\n",
            "1766/1766 [==============================] - 8s 5ms/step - loss: 0.1970 - acc: 0.9305 - val_loss: 0.3093 - val_acc: 0.8949\n",
            "Epoch 32/50\n",
            "1755/1766 [============================>.] - ETA: 0s - loss: 0.1965 - acc: 0.9307\n",
            "Epoch 00032: val_acc did not improve from 0.90505\n",
            "1766/1766 [==============================] - 8s 5ms/step - loss: 0.1963 - acc: 0.9308 - val_loss: 0.3124 - val_acc: 0.8900\n",
            "Epoch 33/50\n",
            "1765/1766 [============================>.] - ETA: 0s - loss: 0.1958 - acc: 0.9308\n",
            "Epoch 00033: val_acc did not improve from 0.90505\n",
            "1766/1766 [==============================] - 8s 5ms/step - loss: 0.1959 - acc: 0.9308 - val_loss: 0.2971 - val_acc: 0.8966\n",
            "Epoch 34/50\n",
            "1763/1766 [============================>.] - ETA: 0s - loss: 0.1944 - acc: 0.9313\n",
            "Epoch 00034: val_acc did not improve from 0.90505\n",
            "1766/1766 [==============================] - 8s 5ms/step - loss: 0.1944 - acc: 0.9313 - val_loss: 0.2952 - val_acc: 0.8997\n",
            "Epoch 35/50\n",
            "1759/1766 [============================>.] - ETA: 0s - loss: 0.1936 - acc: 0.9316\n",
            "Epoch 00035: val_acc did not improve from 0.90505\n",
            "1766/1766 [==============================] - 8s 5ms/step - loss: 0.1936 - acc: 0.9316 - val_loss: 0.2841 - val_acc: 0.8993\n",
            "Epoch 36/50\n",
            "1757/1766 [============================>.] - ETA: 0s - loss: 0.1933 - acc: 0.9320\n",
            "Epoch 00036: val_acc did not improve from 0.90505\n",
            "1766/1766 [==============================] - 8s 5ms/step - loss: 0.1933 - acc: 0.9320 - val_loss: 0.2971 - val_acc: 0.8973\n",
            "Epoch 37/50\n",
            "1762/1766 [============================>.] - ETA: 0s - loss: 0.1926 - acc: 0.9320\n",
            "Epoch 00037: val_acc did not improve from 0.90505\n",
            "1766/1766 [==============================] - 8s 4ms/step - loss: 0.1926 - acc: 0.9320 - val_loss: 0.3145 - val_acc: 0.8935\n",
            "Epoch 38/50\n",
            "1763/1766 [============================>.] - ETA: 0s - loss: 0.1903 - acc: 0.9328\n",
            "Epoch 00038: val_acc did not improve from 0.90505\n",
            "1766/1766 [==============================] - 8s 5ms/step - loss: 0.1902 - acc: 0.9328 - val_loss: 0.2931 - val_acc: 0.8968\n",
            "Epoch 39/50\n",
            "1766/1766 [==============================] - ETA: 0s - loss: 0.1896 - acc: 0.9334\n",
            "Epoch 00039: val_acc did not improve from 0.90505\n",
            "1766/1766 [==============================] - 8s 5ms/step - loss: 0.1896 - acc: 0.9334 - val_loss: 0.3045 - val_acc: 0.8986\n",
            "Epoch 40/50\n",
            "1761/1766 [============================>.] - ETA: 0s - loss: 0.1895 - acc: 0.9328\n",
            "Epoch 00040: val_acc did not improve from 0.90505\n",
            "1766/1766 [==============================] - 8s 5ms/step - loss: 0.1894 - acc: 0.9328 - val_loss: 0.3095 - val_acc: 0.8914\n",
            "Epoch 41/50\n",
            "1757/1766 [============================>.] - ETA: 0s - loss: 0.1897 - acc: 0.9332\n",
            "Epoch 00041: val_acc did not improve from 0.90505\n",
            "1766/1766 [==============================] - 8s 4ms/step - loss: 0.1897 - acc: 0.9332 - val_loss: 0.2988 - val_acc: 0.8987\n",
            "Epoch 42/50\n",
            "1757/1766 [============================>.] - ETA: 0s - loss: 0.1871 - acc: 0.9339\n",
            "Epoch 00042: val_acc did not improve from 0.90505\n",
            "1766/1766 [==============================] - 8s 5ms/step - loss: 0.1871 - acc: 0.9339 - val_loss: 0.2997 - val_acc: 0.8988\n",
            "Epoch 43/50\n",
            "1766/1766 [==============================] - ETA: 0s - loss: 0.1873 - acc: 0.9337\n",
            "Epoch 00043: val_acc did not improve from 0.90505\n",
            "1766/1766 [==============================] - 8s 4ms/step - loss: 0.1873 - acc: 0.9337 - val_loss: 0.3233 - val_acc: 0.8866\n",
            "Epoch 44/50\n",
            "1760/1766 [============================>.] - ETA: 0s - loss: 0.1869 - acc: 0.9343\n",
            "Epoch 00044: val_acc did not improve from 0.90505\n",
            "1766/1766 [==============================] - 8s 5ms/step - loss: 0.1869 - acc: 0.9343 - val_loss: 0.3130 - val_acc: 0.8957\n",
            "Epoch 45/50\n",
            "1758/1766 [============================>.] - ETA: 0s - loss: 0.1861 - acc: 0.9341\n",
            "Epoch 00045: val_acc did not improve from 0.90505\n",
            "1766/1766 [==============================] - 8s 5ms/step - loss: 0.1861 - acc: 0.9342 - val_loss: 0.3045 - val_acc: 0.8947\n",
            "Epoch 46/50\n",
            "1758/1766 [============================>.] - ETA: 0s - loss: 0.1854 - acc: 0.9346\n",
            "Epoch 00046: val_acc did not improve from 0.90505\n",
            "1766/1766 [==============================] - 8s 5ms/step - loss: 0.1854 - acc: 0.9345 - val_loss: 0.3249 - val_acc: 0.8902\n",
            "Epoch 47/50\n",
            "1763/1766 [============================>.] - ETA: 0s - loss: 0.1846 - acc: 0.9349\n",
            "Epoch 00047: val_acc did not improve from 0.90505\n",
            "1766/1766 [==============================] - 8s 5ms/step - loss: 0.1846 - acc: 0.9350 - val_loss: 0.3246 - val_acc: 0.8939\n",
            "Epoch 48/50\n",
            "1764/1766 [============================>.] - ETA: 0s - loss: 0.1841 - acc: 0.9349\n",
            "Epoch 00048: val_acc did not improve from 0.90505\n",
            "1766/1766 [==============================] - 8s 5ms/step - loss: 0.1842 - acc: 0.9349 - val_loss: 0.3257 - val_acc: 0.8943\n",
            "Epoch 49/50\n",
            "1765/1766 [============================>.] - ETA: 0s - loss: 0.1831 - acc: 0.9358\n",
            "Epoch 00049: val_acc did not improve from 0.90505\n",
            "1766/1766 [==============================] - 8s 5ms/step - loss: 0.1831 - acc: 0.9358 - val_loss: 0.2977 - val_acc: 0.9022\n",
            "Epoch 50/50\n",
            "1766/1766 [==============================] - ETA: 0s - loss: 0.1841 - acc: 0.9350\n",
            "Epoch 00050: val_acc did not improve from 0.90505\n",
            "1766/1766 [==============================] - 8s 5ms/step - loss: 0.1841 - acc: 0.9350 - val_loss: 0.3216 - val_acc: 0.8905\n"
          ],
          "name": "stdout"
        }
      ]
    },
    {
      "cell_type": "code",
      "metadata": {
        "colab": {
          "base_uri": "https://localhost:8080/"
        },
        "id": "aduCVjdQby_I",
        "outputId": "4511e5c5-3a0c-4fb3-d416-2acef83e83a9"
      },
      "source": [
        "new_model.load_weights(checkpointpath)\n",
        "# S'assurer que c'est bien le meilleur modèle sur les époques d'entraînement\n",
        "new_model.evaluate([valid_X[:,:,:].reshape(valid_X.shape[0], -1), valid_X],valid_y_enc,batch_size=256)"
      ],
      "execution_count": null,
      "outputs": [
        {
          "output_type": "stream",
          "text": [
            "600/600 [==============================] - 1s 2ms/step - loss: 0.2675 - acc: 0.9050\n"
          ],
          "name": "stdout"
        },
        {
          "output_type": "execute_result",
          "data": {
            "text/plain": [
              "[0.2674950659275055, 0.905049204826355]"
            ]
          },
          "metadata": {
            "tags": []
          },
          "execution_count": 86
        }
      ]
    },
    {
      "cell_type": "code",
      "metadata": {
        "id": "BbdkIDS6vJ0I",
        "colab": {
          "base_uri": "https://localhost:8080/",
          "height": 316
        },
        "outputId": "42a221cd-2243-4688-8820-1babd01d2d48"
      },
      "source": [
        "import matplotlib.pyplot as plt\n",
        "plt.style.use(\"ggplot\")\n",
        "plt.figure()\n",
        "\n",
        "plt.plot(np.arange(0, EPOCHS), history.history[\"acc\"], label=\"train_acc\")\n",
        "plt.plot(np.arange(0, EPOCHS), history.history[\"val_acc\"], label=\"val_acc\")\n",
        "plt.plot(np.arange(0, EPOCHS), history.history[\"loss\"], label=\"train_loss\")\n",
        "plt.plot(np.arange(0, EPOCHS), history.history[\"val_loss\"], label=\"val_loss\")\n",
        "plt.title(\"Accuracy et loss sur le Dataset\")\n",
        "plt.xlabel(\"Epoch #\")\n",
        "plt.ylabel(\"Accuracy/Loss\")\n",
        "plt.legend(loc=\"center right\")"
      ],
      "execution_count": null,
      "outputs": [
        {
          "output_type": "execute_result",
          "data": {
            "text/plain": [
              "<matplotlib.legend.Legend at 0x7f3896529dd8>"
            ]
          },
          "metadata": {
            "tags": []
          },
          "execution_count": 87
        },
        {
          "output_type": "display_data",
          "data": {
            "image/png": "[encoded data removed]",
            "text/plain": [
              "<Figure size 432x288 with 1 Axes>"
            ]
          },
          "metadata": {
            "tags": []
          }
        }
      ]
    },
    {
      "cell_type": "markdown",
      "metadata": {
        "id": "Z272XceXZXbW"
      },
      "source": [
        "### Prédiction des classes sur le jeu de validation et évaluation en aggrégeant au niveau objet"
      ]
    },
    {
      "cell_type": "code",
      "metadata": {
        "id": "HF_bBBBiZads",
        "colab": {
          "base_uri": "https://localhost:8080/"
        },
        "outputId": "1498fd7e-d027-4fc4-8b9e-bff2ccdfb44c"
      },
      "source": [
        "# Récupérer les probabilités prédites sur le jeu de validation\n",
        "#valid_prob = model.predict(valid_X,batch_size=256) # anciene modele\n",
        "valid_prob = new_model.predict([valid_X[:,:,:].reshape(valid_X.shape[0], -1), valid_X],batch_size=256) # pour le modele de avec cnn2d et mlp ensemble\n",
        "valid_prob.shape"
      ],
      "execution_count": null,
      "outputs": [
        {
          "output_type": "execute_result",
          "data": {
            "text/plain": [
              "(153469, 5)"
            ]
          },
          "metadata": {
            "tags": []
          },
          "execution_count": 88
        }
      ]
    },
    {
      "cell_type": "code",
      "metadata": {
        "id": "FXaZI6tYZcbw",
        "colab": {
          "base_uri": "https://localhost:8080/"
        },
        "outputId": "68c1e0be-8425-4d36-d167-0e8e9d456a48"
      },
      "source": [
        "# Retourner la classe correspondant à la probabilité la plus haute\n",
        "valid_pred = np.argmax(valid_prob,axis=1) # axe 1 car ceci concerne chaque ligne\n",
        "valid_pred.shape\n",
        "valid_pred.view()"
      ],
      "execution_count": null,
      "outputs": [
        {
          "output_type": "execute_result",
          "data": {
            "text/plain": [
              "array([2, 1, 2, ..., 4, 4, 4])"
            ]
          },
          "metadata": {
            "tags": []
          },
          "execution_count": 89
        }
      ]
    },
    {
      "cell_type": "code",
      "metadata": {
        "id": "zX0dNVrcZelW",
        "colab": {
          "base_uri": "https://localhost:8080/"
        },
        "outputId": "b9d71bb6-9dbf-4d2d-97de-32bc559cb08f"
      },
      "source": [
        "# Je réencode les prédictions entre 1 et 5\n",
        "valid_pred_enc = encoder.inverse_transform(valid_pred)\n",
        "np.unique(valid_pred_enc)"
      ],
      "execution_count": null,
      "outputs": [
        {
          "output_type": "execute_result",
          "data": {
            "text/plain": [
              "array([1, 2, 3, 4, 5], dtype=uint8)"
            ]
          },
          "metadata": {
            "tags": []
          },
          "execution_count": 90
        }
      ]
    },
    {
      "cell_type": "code",
      "metadata": {
        "id": "iLSul4NOZ4ai",
        "colab": {
          "base_uri": "https://localhost:8080/"
        },
        "outputId": "bea3d2d5-a5ea-4fd9-9735-8d0851c2018c"
      },
      "source": [
        "# Aggrégation au niveau objet\n",
        "out_pred = []\n",
        "unique_id = np.unique(valid_id)\n",
        "for ID in unique_id :\n",
        "    # Récupérer les prédictions des pixels appartenant au même objet\n",
        "    pred = valid_pred_enc[np.where(valid_id==ID)]\n",
        "    y_true = valid_y[np.where(valid_id==ID)]\n",
        "    # Prendre la valeur majoritaire des prédictions sur les pixels\n",
        "    out_pred.append([ np.bincount(y_true).argmax(), np.bincount(pred).argmax()]) #(Vérité terrain,Prédiction majoritaire)\n",
        "out_pred = np.vstack(out_pred)\n",
        "out_pred.shape"
      ],
      "execution_count": null,
      "outputs": [
        {
          "output_type": "execute_result",
          "data": {
            "text/plain": [
              "(558, 2)"
            ]
          },
          "metadata": {
            "tags": []
          },
          "execution_count": 91
        }
      ]
    },
    {
      "cell_type": "code",
      "metadata": {
        "id": "M3sfwNP_ZyGS",
        "colab": {
          "base_uri": "https://localhost:8080/"
        },
        "outputId": "e63dd0f3-75e6-48d2-c505-f259ec66d3ce"
      },
      "source": [
        "# F1 score au niveau objet\n",
        "f1_score(out_pred[:,0],out_pred[:,1],average='weighted')"
      ],
      "execution_count": null,
      "outputs": [
        {
          "output_type": "execute_result",
          "data": {
            "text/plain": [
              "0.8288456739712354"
            ]
          },
          "metadata": {
            "tags": []
          },
          "execution_count": 92
        }
      ]
    },
    {
      "cell_type": "markdown",
      "metadata": {
        "id": "PmPveM4md2HG"
      },
      "source": [
        "### Prédire sur le jeu test et Préparer une soumission"
      ]
    },
    {
      "cell_type": "code",
      "metadata": {
        "id": "Qcyb5fRQd1rD",
        "colab": {
          "base_uri": "https://localhost:8080/"
        },
        "outputId": "17b0a1be-b4ae-4a45-e16b-8685c8d613d8"
      },
      "source": [
        "# Récupérer les probabilités prédites sur le jeu test\n",
        "# test_prob = new_model.predict(test_X, batch_size=256) ancien pour predir d'un seul modele \n",
        "test_prob = new_model.predict([test_X[:,:,:].reshape(test_X.shape[0], -1), test_X],batch_size=256) # prédiction de deux modeles combiné\n",
        "test_prob.shape"
      ],
      "execution_count": null,
      "outputs": [
        {
          "output_type": "execute_result",
          "data": {
            "text/plain": [
              "(207485, 5)"
            ]
          },
          "metadata": {
            "tags": []
          },
          "execution_count": 93
        }
      ]
    },
    {
      "cell_type": "code",
      "metadata": {
        "id": "q-diBeSad53D",
        "colab": {
          "base_uri": "https://localhost:8080/"
        },
        "outputId": "51d35360-d70d-4c84-c694-193f8268ad5c"
      },
      "source": [
        "# Retourner la classe correspondant à la probabilité la plus haute\n",
        "test_pred = np.argmax(test_prob,axis=1) # axe 1 car ceci concerne chaque ligne\n",
        "test_pred.shape"
      ],
      "execution_count": null,
      "outputs": [
        {
          "output_type": "execute_result",
          "data": {
            "text/plain": [
              "(207485,)"
            ]
          },
          "metadata": {
            "tags": []
          },
          "execution_count": 94
        }
      ]
    },
    {
      "cell_type": "code",
      "metadata": {
        "id": "qQRiSHQQd-fV",
        "colab": {
          "base_uri": "https://localhost:8080/"
        },
        "outputId": "64b1d359-11de-41f8-f509-887c02c9f053"
      },
      "source": [
        "# Je réencode les prédictions entre 1 et 5\n",
        "test_pred_enc = encoder.inverse_transform(test_pred)\n",
        "np.unique(test_pred_enc)"
      ],
      "execution_count": null,
      "outputs": [
        {
          "output_type": "execute_result",
          "data": {
            "text/plain": [
              "array([1, 2, 3, 4, 5], dtype=uint8)"
            ]
          },
          "metadata": {
            "tags": []
          },
          "execution_count": 95
        }
      ]
    },
    {
      "cell_type": "code",
      "metadata": {
        "id": "z7XBgQRmeBJY",
        "colab": {
          "base_uri": "https://localhost:8080/"
        },
        "outputId": "01915a19-3a9a-43ae-aa6d-71136f3a5ab1"
      },
      "source": [
        "# Aggrégation au niveau objet\n",
        "agg_pred = []\n",
        "unique_id = np.unique(test_id)\n",
        "for ID in unique_id :\n",
        "    # Récupérer les prédictions des pixels appartenant au même objet\n",
        "    pred = test_pred_enc[np.where(test_id==ID)]\n",
        "    # Prendre la valeur majoritaire des prédictions sur les pixels\n",
        "    agg_pred.append([ ID, np.bincount(pred).argmax()]) #(ID,Prédiction majoritaire)\n",
        "agg_pred = np.vstack(agg_pred)\n",
        "agg_pred.shape"
      ],
      "execution_count": null,
      "outputs": [
        {
          "output_type": "execute_result",
          "data": {
            "text/plain": [
              "(800, 2)"
            ]
          },
          "metadata": {
            "tags": []
          },
          "execution_count": 96
        }
      ]
    },
    {
      "cell_type": "code",
      "metadata": {
        "id": "0ChTK3cVeDsC",
        "colab": {
          "base_uri": "https://localhost:8080/",
          "height": 206
        },
        "outputId": "b713a44c-32aa-4116-f232-292d8cff5a64"
      },
      "source": [
        "df = pd.DataFrame({'ID':agg_pred[:,0],'Class':agg_pred[:,1]})\n",
        "df.to_csv('Soumission_StefanMinyoungRaidh(1).csv',index=False)\n",
        "df.head(5)"
      ],
      "execution_count": null,
      "outputs": [
        {
          "output_type": "execute_result",
          "data": {
            "text/html": [
              "<div>\n",
              "<style scoped>\n",
              "    .dataframe tbody tr th:only-of-type {\n",
              "        vertical-align: middle;\n",
              "    }\n",
              "\n",
              "    .dataframe tbody tr th {\n",
              "        vertical-align: top;\n",
              "    }\n",
              "\n",
              "    .dataframe thead th {\n",
              "        text-align: right;\n",
              "    }\n",
              "</style>\n",
              "<table border=\"1\" class=\"dataframe\">\n",
              "  <thead>\n",
              "    <tr style=\"text-align: right;\">\n",
              "      <th></th>\n",
              "      <th>ID</th>\n",
              "      <th>Class</th>\n",
              "    </tr>\n",
              "  </thead>\n",
              "  <tbody>\n",
              "    <tr>\n",
              "      <th>0</th>\n",
              "      <td>4</td>\n",
              "      <td>5</td>\n",
              "    </tr>\n",
              "    <tr>\n",
              "      <th>1</th>\n",
              "      <td>7</td>\n",
              "      <td>3</td>\n",
              "    </tr>\n",
              "    <tr>\n",
              "      <th>2</th>\n",
              "      <td>8</td>\n",
              "      <td>5</td>\n",
              "    </tr>\n",
              "    <tr>\n",
              "      <th>3</th>\n",
              "      <td>9</td>\n",
              "      <td>3</td>\n",
              "    </tr>\n",
              "    <tr>\n",
              "      <th>4</th>\n",
              "      <td>10</td>\n",
              "      <td>3</td>\n",
              "    </tr>\n",
              "  </tbody>\n",
              "</table>\n",
              "</div>"
            ],
            "text/plain": [
              "   ID  Class\n",
              "0   4      5\n",
              "1   7      3\n",
              "2   8      5\n",
              "3   9      3\n",
              "4  10      3"
            ]
          },
          "metadata": {
            "tags": []
          },
          "execution_count": 97
        }
      ]
    },
    {
      "cell_type": "code",
      "metadata": {
        "id": "HfgjBz5deEK4",
        "colab": {
          "base_uri": "https://localhost:8080/"
        },
        "outputId": "eb980177-1c93-4613-a53a-a46f714f1077"
      },
      "source": [
        "# F1 Score au niveau objet\n",
        "!ls\n",
        "df_test = pd.read_csv('Test_ID_Label.csv') # Ce fichier vous sera fourni le 12 Novembre\n",
        "f1_score(df_test.Class,df.Class,average='weighted')"
      ],
      "execution_count": null,
      "outputs": [
        {
          "output_type": "stream",
          "text": [
            " data\t     my_model\t\t\t\t      Test_ID_Label.csv\n",
            " Images      Soumission_NomDuGroupe.csv\t\t      Verite_terrain\n",
            " model.png  'Soumission_StefanMinyoungRaidh(1).csv'\n"
          ],
          "name": "stdout"
        },
        {
          "output_type": "execute_result",
          "data": {
            "text/plain": [
              "0.8244238310575261"
            ]
          },
          "metadata": {
            "tags": []
          },
          "execution_count": 98
        }
      ]
    }
  ]
}